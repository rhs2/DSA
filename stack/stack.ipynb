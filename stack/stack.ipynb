{
 "cells": [
  {
   "cell_type": "markdown",
   "id": "a202ab51-e9d0-444d-bfc7-6439a0f38daa",
   "metadata": {},
   "source": [
    "## Stack is an user defined data structure\n",
    "- stack is an ordered collection of items, where the edition of new items and removal of items always taken place at the same end.\n",
    "- stack stores items in LAST IN FAST OUT- LIFO manner or FIRST IN LAST OUT-FILO manner\n",
    "- example bunch of places used in a kitchen, like imagine there are 20 plates decorated, so the first plate was put, will be taken last because we can not take it first, and the last plate we put, will be taken first. and at last we will take the first plate.\n",
    "- also we can imagine a bucket, if we put something in bucket it goes down, and second one goes top of the first thing like that, and last things will be taken away first. "
   ]
  },
  {
   "cell_type": "markdown",
   "id": "2344db45-2cb5-41d1-9ee5-8575086e4c65",
   "metadata": {},
   "source": [
    "- A stack (sometimes called a “push-down stack”) is an ordered collection of items where the addition of new items and the removal of existing items always takes place at the same end. This end is commonly referred to as the “top.” The end opposite the top is known as the “base.”\n",
    "\n",
    "\n",
    "![Stack1](bookstack2.png) \n",
    "![Stack2](primitive.png)"
   ]
  },
  {
   "cell_type": "markdown",
   "id": "d6935b52-48c7-405f-97cd-0dc71d4fa6d9",
   "metadata": {},
   "source": [
    "## The stack abstract data type\n",
    "- A stack is structured, as described above, as an ordered collection of items where items are added to and removed from the end called the “top.” Stacks are ordered LIFO. The stack operations are given below.\n",
    "\n",
    "- <span style=\"color:orange; font-weight:bold;\">Stack()</span> creates a new stack that is empty. It needs no parameters and returns an empty stack.\n",
    "\n",
    "- <span style=\"color:orange; font-weight:bold;\">push (item)</span> adds a new item to the top of the stack. It needs the item and returns nothing.\n",
    "\n",
    "- <span style=\"color:orange; font-weight:bold;\">pop ()</span> removes the top item from the stack. It needs no parameters and returns the item. The stack is modified.\n",
    "\n",
    "- <span style=\"color: orange; font-weight:bold; \"> peek() </span> returns the top item from the stack but does not remove it. It needs no parameters. The stack is not modified.\n",
    "\n",
    "- <span style=\"color: orange; font-weight:bold; \">isEmpty() </span> tests to see whether the stack is empty. It needs no parameters and returns a boolean value.\n",
    "\n",
    "- <span style=\"color: orange; font-weight:bold; \">size() </span> returns the number of items on the stack. It needs no parameters and returns an integer.\n",
    "![Stack3](stackoperation.png)"
   ]
  },
  {
   "cell_type": "code",
   "execution_count": 10,
   "id": "e95d49f3-ffef-4be2-944c-7e9fa0f7c2c6",
   "metadata": {},
   "outputs": [],
   "source": [
    "#creating stack in by using class method\n",
    "class Stack():\n",
    "    def __init__(self):\n",
    "        self.items = []\n",
    "    def isEmpty(self):\n",
    "        return self.items == []\n",
    "    def push(self, value):\n",
    "        self.items.append(value)\n",
    "    def pop(self):\n",
    "        if self.isEmpty():\n",
    "            print(\"Stack is empty, can not do the pop operation!\")\n",
    "        else:\n",
    "            return self.items.pop()\n",
    "    def peek(self):\n",
    "        if self.isEmpty():\n",
    "            print(\"Stack is empty\")\n",
    "        else:\n",
    "            return self.items[-1]\n",
    "    def size(self):\n",
    "        return len(self.items)"
   ]
  },
  {
   "cell_type": "code",
   "execution_count": 11,
   "id": "529a5730-7a6c-41ea-8a0e-8173514ec061",
   "metadata": {},
   "outputs": [],
   "source": [
    "stack = Stack()"
   ]
  },
  {
   "cell_type": "code",
   "execution_count": 12,
   "id": "b5ecddb0-4e25-476b-ab58-80d37dd19b7e",
   "metadata": {},
   "outputs": [],
   "source": [
    "stack.push(10) #stack push, put an item inside stack"
   ]
  },
  {
   "cell_type": "code",
   "execution_count": 13,
   "id": "c86fc07b-4155-4e44-8807-16d1a644a682",
   "metadata": {},
   "outputs": [
    {
     "data": {
      "text/plain": [
       "10"
      ]
     },
     "execution_count": 13,
     "metadata": {},
     "output_type": "execute_result"
    }
   ],
   "source": [
    "stack.peek() #to inspect the top item"
   ]
  },
  {
   "cell_type": "code",
   "execution_count": 14,
   "id": "2abe2e35-48be-4391-aa91-3bdeb3727791",
   "metadata": {},
   "outputs": [
    {
     "data": {
      "text/plain": [
       "False"
      ]
     },
     "execution_count": 14,
     "metadata": {},
     "output_type": "execute_result"
    }
   ],
   "source": [
    "stack.isEmpty() #to check is stack is empty or not"
   ]
  },
  {
   "cell_type": "code",
   "execution_count": 15,
   "id": "487ddaf5-94ab-4f42-ba2b-e74b9c2b7114",
   "metadata": {},
   "outputs": [
    {
     "data": {
      "text/plain": [
       "10"
      ]
     },
     "execution_count": 15,
     "metadata": {},
     "output_type": "execute_result"
    }
   ],
   "source": [
    "stack.pop() #to delete an item from stack"
   ]
  },
  {
   "cell_type": "code",
   "execution_count": 16,
   "id": "b781f1e5-fbf0-4636-ab0d-3b77ccef68e2",
   "metadata": {},
   "outputs": [
    {
     "name": "stdout",
     "output_type": "stream",
     "text": [
      "Stack is empty\n"
     ]
    }
   ],
   "source": [
    "stack.peek()"
   ]
  },
  {
   "cell_type": "code",
   "execution_count": 17,
   "id": "b94497ed-266b-4504-a7c4-61dd8470ff02",
   "metadata": {},
   "outputs": [],
   "source": [
    "stack.push(29)"
   ]
  },
  {
   "cell_type": "code",
   "execution_count": 18,
   "id": "df0d89c3-060b-4f9b-a3d6-f9575f31c434",
   "metadata": {},
   "outputs": [
    {
     "data": {
      "text/plain": [
       "1"
      ]
     },
     "execution_count": 18,
     "metadata": {},
     "output_type": "execute_result"
    }
   ],
   "source": [
    "stack.size() #to check the size of a stack"
   ]
  },
  {
   "cell_type": "code",
   "execution_count": 19,
   "id": "9dc4bc3c-9255-4fc3-aedc-366435dcc492",
   "metadata": {},
   "outputs": [
    {
     "data": {
      "text/plain": [
       "29"
      ]
     },
     "execution_count": 19,
     "metadata": {},
     "output_type": "execute_result"
    }
   ],
   "source": [
    "stack.pop()"
   ]
  },
  {
   "cell_type": "code",
   "execution_count": 20,
   "id": "81d1de63-55fd-404d-a35a-aa7bad059c85",
   "metadata": {},
   "outputs": [
    {
     "name": "stdout",
     "output_type": "stream",
     "text": [
      "Stack is empty, can not do the pop operation!\n"
     ]
    }
   ],
   "source": [
    "stack.pop()"
   ]
  },
  {
   "cell_type": "code",
   "execution_count": 21,
   "id": "3d6fd04d-6c2d-4259-bcf5-2f6a443668d2",
   "metadata": {},
   "outputs": [],
   "source": [
    "#we can also import stack from pythnods.basic library #it is from runstone academy\n",
    "#from pythonds.basic import Stack"
   ]
  },
  {
   "cell_type": "markdown",
   "id": "bb0173bb-2e3f-4290-8638-c0e7855a394e",
   "metadata": {},
   "source": [
    "## implement stack by using list"
   ]
  },
  {
   "cell_type": "code",
   "execution_count": 13,
   "id": "943eb69f-7b73-4b4d-8b89-c6773a6400eb",
   "metadata": {},
   "outputs": [],
   "source": [
    "stack = [] #creating a stack"
   ]
  },
  {
   "cell_type": "code",
   "execution_count": 14,
   "id": "55a9b53e-bf73-482e-b4f3-04ea6dbc188c",
   "metadata": {},
   "outputs": [],
   "source": [
    "stack.append(30)"
   ]
  },
  {
   "cell_type": "code",
   "execution_count": 16,
   "id": "2dc74e25-615a-4136-9da5-fa1350e3bedd",
   "metadata": {},
   "outputs": [],
   "source": [
    "stack.append(38)"
   ]
  },
  {
   "cell_type": "code",
   "execution_count": 17,
   "id": "7c80729a-6a83-471e-b02a-422f3e62e696",
   "metadata": {},
   "outputs": [],
   "source": [
    "stack.append(45)"
   ]
  },
  {
   "cell_type": "code",
   "execution_count": 25,
   "id": "431a8995-d8c2-4dcc-93c3-6eb482221ee9",
   "metadata": {},
   "outputs": [
    {
     "data": {
      "text/plain": [
       "38"
      ]
     },
     "execution_count": 25,
     "metadata": {},
     "output_type": "execute_result"
    }
   ],
   "source": [
    "stack.pop() #to pop an item from stack"
   ]
  },
  {
   "cell_type": "code",
   "execution_count": 26,
   "id": "4b798f49-5f86-49b0-a332-5a60a64ad4f6",
   "metadata": {},
   "outputs": [
    {
     "data": {
      "text/plain": [
       "30"
      ]
     },
     "execution_count": 26,
     "metadata": {},
     "output_type": "execute_result"
    }
   ],
   "source": [
    "stack[-1] #to use peek() method"
   ]
  },
  {
   "cell_type": "code",
   "execution_count": 27,
   "id": "00d373e3-b3eb-4151-8dca-9f38774e937b",
   "metadata": {},
   "outputs": [
    {
     "data": {
      "text/plain": [
       "[100, 30]"
      ]
     },
     "execution_count": 27,
     "metadata": {},
     "output_type": "execute_result"
    }
   ],
   "source": [
    "stack"
   ]
  },
  {
   "cell_type": "code",
   "execution_count": 28,
   "id": "ea12786b-2ff5-4d42-87dc-f2589e89f3b1",
   "metadata": {},
   "outputs": [
    {
     "data": {
      "text/plain": [
       "2"
      ]
     },
     "execution_count": 28,
     "metadata": {},
     "output_type": "execute_result"
    }
   ],
   "source": [
    "len(stack) #to see the size of a stack"
   ]
  },
  {
   "cell_type": "code",
   "execution_count": 29,
   "id": "8e36a670-f0d6-4938-b43c-700825a6c8fb",
   "metadata": {},
   "outputs": [
    {
     "data": {
      "text/plain": [
       "False"
      ]
     },
     "execution_count": 29,
     "metadata": {},
     "output_type": "execute_result"
    }
   ],
   "source": [
    "len(stack) == 0 #to check if stack isEmpty or not"
   ]
  },
  {
   "cell_type": "code",
   "execution_count": 15,
   "id": "17cd45ab-0a59-4f1b-a943-1f210712f4cf",
   "metadata": {},
   "outputs": [
    {
     "data": {
      "text/plain": [
       "False"
      ]
     },
     "execution_count": 15,
     "metadata": {},
     "output_type": "execute_result"
    }
   ],
   "source": [
    "not stack #to check if stack isEmpty or not"
   ]
  },
  {
   "cell_type": "markdown",
   "id": "d183d72a-2b23-420a-b118-90bbc6c70bb8",
   "metadata": {},
   "source": [
    "## Implement stack by using modules\n",
    "- here we will use <span style=\"color: orange; font-weight: bold\"> collection </span> module to creating a stack"
   ]
  },
  {
   "cell_type": "code",
   "execution_count": 19,
   "id": "9142669e-b9ee-4b5b-a6c3-d08e96e16f64",
   "metadata": {},
   "outputs": [],
   "source": [
    "from collections import deque #import deque-double ended queue(we can add the element from both the sides) class to create a stack"
   ]
  },
  {
   "cell_type": "code",
   "execution_count": 21,
   "id": "0356dcff-fc24-4c68-a1f7-1665597ccabf",
   "metadata": {},
   "outputs": [],
   "source": [
    "stack = deque() #to creating a empty stack"
   ]
  },
  {
   "cell_type": "code",
   "execution_count": 23,
   "id": "f45447e3-51c2-452e-be2d-aa0b15980986",
   "metadata": {},
   "outputs": [
    {
     "data": {
      "text/plain": [
       "deque([])"
      ]
     },
     "execution_count": 23,
     "metadata": {},
     "output_type": "execute_result"
    }
   ],
   "source": [
    "stack #to check if it is a stack or not"
   ]
  },
  {
   "cell_type": "code",
   "execution_count": 24,
   "id": "86a5e5e8-772f-44b2-996c-f66fe5ea09bf",
   "metadata": {},
   "outputs": [],
   "source": [
    "stack.append(20) #to push operation in stack"
   ]
  },
  {
   "cell_type": "code",
   "execution_count": 25,
   "id": "f44bba7e-f01c-4d90-b511-2b6389967655",
   "metadata": {},
   "outputs": [],
   "source": [
    "stack.append(30)"
   ]
  },
  {
   "cell_type": "code",
   "execution_count": 26,
   "id": "e2e4c44f-edae-4170-abaa-578aa1cf69ee",
   "metadata": {},
   "outputs": [],
   "source": [
    "stack.append(40)"
   ]
  },
  {
   "cell_type": "code",
   "execution_count": 27,
   "id": "31bfece5-5307-43e1-95bc-5b5f6b0885ac",
   "metadata": {},
   "outputs": [
    {
     "data": {
      "text/plain": [
       "deque([20, 30, 40])"
      ]
     },
     "execution_count": 27,
     "metadata": {},
     "output_type": "execute_result"
    }
   ],
   "source": [
    "stack #to check the elements in stack"
   ]
  },
  {
   "cell_type": "code",
   "execution_count": 28,
   "id": "a60bad52-b42f-4580-b8fb-cc6ce45b3355",
   "metadata": {},
   "outputs": [
    {
     "data": {
      "text/plain": [
       "40"
      ]
     },
     "execution_count": 28,
     "metadata": {},
     "output_type": "execute_result"
    }
   ],
   "source": [
    "stack.pop() #to pop() element from stack"
   ]
  },
  {
   "cell_type": "code",
   "execution_count": 29,
   "id": "f2f4b417-45a6-4d82-91dd-b0b67a11cf33",
   "metadata": {},
   "outputs": [
    {
     "data": {
      "text/plain": [
       "False"
      ]
     },
     "execution_count": 29,
     "metadata": {},
     "output_type": "execute_result"
    }
   ],
   "source": [
    "not stack #to check if the stack isEmpty() or not"
   ]
  },
  {
   "cell_type": "code",
   "execution_count": 30,
   "id": "706e6b22-4eae-468b-b775-e7c666cb5387",
   "metadata": {},
   "outputs": [
    {
     "data": {
      "text/plain": [
       "False"
      ]
     },
     "execution_count": 30,
     "metadata": {},
     "output_type": "execute_result"
    }
   ],
   "source": [
    "len(stack) ==0 #to check if the stack isEmpty() or not"
   ]
  },
  {
   "cell_type": "code",
   "execution_count": 31,
   "id": "4b3ef068-5c2b-4a74-90e5-70b5b37d9a33",
   "metadata": {},
   "outputs": [
    {
     "data": {
      "text/plain": [
       "30"
      ]
     },
     "execution_count": 31,
     "metadata": {},
     "output_type": "execute_result"
    }
   ],
   "source": [
    "stack[-1] #to peek() top of the stack item "
   ]
  },
  {
   "cell_type": "markdown",
   "id": "496ceeac-9581-4ac6-919d-edb83d917f7b",
   "metadata": {},
   "source": [
    "## Implementing stack by using queue module- LifoQueue"
   ]
  },
  {
   "cell_type": "code",
   "execution_count": 53,
   "id": "be1e661d-d10f-4096-929f-bd79781f3e86",
   "metadata": {},
   "outputs": [],
   "source": [
    "from queue import LifoQueue"
   ]
  },
  {
   "cell_type": "code",
   "execution_count": 54,
   "id": "c50307b8-2f4e-4972-b055-9624d7c54098",
   "metadata": {},
   "outputs": [],
   "source": [
    "stack1 = LifoQueue() #to create a empty stack #we can set limit for the size of stack"
   ]
  },
  {
   "cell_type": "code",
   "execution_count": 56,
   "id": "62f6dc8f-babb-44e7-aede-8a3b031d94c2",
   "metadata": {},
   "outputs": [],
   "source": [
    "stack1.put(300) #to push an item in stack"
   ]
  },
  {
   "cell_type": "code",
   "execution_count": 57,
   "id": "f1707fdb-adaa-473a-aee0-463bef107cd0",
   "metadata": {},
   "outputs": [
    {
     "data": {
      "text/plain": [
       "300"
      ]
     },
     "execution_count": 57,
     "metadata": {},
     "output_type": "execute_result"
    }
   ],
   "source": [
    "stack1.get()"
   ]
  },
  {
   "cell_type": "code",
   "execution_count": 64,
   "id": "77987b5a-31f9-431f-8fec-ccb9d5eca49f",
   "metadata": {},
   "outputs": [],
   "source": [
    "stack1.put(38)"
   ]
  },
  {
   "cell_type": "code",
   "execution_count": 65,
   "id": "03d4ad3d-1848-41c2-a1ef-c7faa7337089",
   "metadata": {},
   "outputs": [],
   "source": [
    "stack1.put(20)"
   ]
  },
  {
   "cell_type": "code",
   "execution_count": 66,
   "id": "14fb1a39-b7e3-4ec2-8330-01b2f5b03ced",
   "metadata": {},
   "outputs": [
    {
     "data": {
      "text/plain": [
       "False"
      ]
     },
     "execution_count": 66,
     "metadata": {},
     "output_type": "execute_result"
    }
   ],
   "source": [
    "not stack1 #to see if stack isEmpty"
   ]
  },
  {
   "cell_type": "code",
   "execution_count": null,
   "id": "7da1ce36-8e6c-49cb-b991-f9e664f321bd",
   "metadata": {},
   "outputs": [],
   "source": []
  }
 ],
 "metadata": {
  "kernelspec": {
   "display_name": "Python 3 (ipykernel)",
   "language": "python",
   "name": "python3"
  },
  "language_info": {
   "codemirror_mode": {
    "name": "ipython",
    "version": 3
   },
   "file_extension": ".py",
   "mimetype": "text/x-python",
   "name": "python",
   "nbconvert_exporter": "python",
   "pygments_lexer": "ipython3",
   "version": "3.9.10"
  }
 },
 "nbformat": 4,
 "nbformat_minor": 5
}
