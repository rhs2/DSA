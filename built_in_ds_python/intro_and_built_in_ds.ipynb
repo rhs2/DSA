{
 "cells": [
  {
   "cell_type": "markdown",
   "id": "37d12669-df0a-41e9-8fa6-633dafb8b677",
   "metadata": {},
   "source": [
    "# Data Structure is a way to store and organize the data so that it can be accessed effectively and it can be used and manupulated in future easily. \n",
    "\n",
    "- organizing a data is really important to work in future.\n",
    "- coosing the appropriate data is the most important task while we do programming.\n",
    "\n",
    "In python, we can categorise the data in two ways\n",
    "1. Built-in\n",
    "- LIST\n",
    "- TUPLE\n",
    "- SET\n",
    "- DICTIONARY\n",
    "3. User-defined\n",
    "- STACK\n",
    "- QUEUE\n",
    "- LINKED LIST\n",
    "- TREE\n",
    "- GRAPH\n",
    "- HASH TABLE"
   ]
  },
  {
   "cell_type": "markdown",
   "id": "cf82b54e-a566-4954-a6b5-fc20ed045363",
   "metadata": {},
   "source": [
    "# LIST\n",
    "- list is the collection of 0 or many elements seperated by comma and closed in the square bracket\n",
    "- list can contain 0 or more than 0 elements."
   ]
  },
  {
   "cell_type": "code",
   "execution_count": 1,
   "id": "378c5f44-10a6-42f9-9042-f317dd256287",
   "metadata": {},
   "outputs": [
    {
     "name": "stdout",
     "output_type": "stream",
     "text": [
      "[1, 2, 3, 5, 6, 7.5, 9, 10]\n"
     ]
    }
   ],
   "source": [
    "#to create a list \n",
    "list1 = [1,2,3,5,6,7.5, 9,10]\n",
    "print(list1)"
   ]
  },
  {
   "cell_type": "code",
   "execution_count": 2,
   "id": "9ae7b796-e5a9-49f6-94ff-7aa666ceca51",
   "metadata": {},
   "outputs": [
    {
     "name": "stdout",
     "output_type": "stream",
     "text": [
      "[]\n"
     ]
    }
   ],
   "source": [
    "#another way to create a list is by using list() contractor\n",
    "list2 = list()\n",
    "print(list2)"
   ]
  },
  {
   "cell_type": "code",
   "execution_count": 3,
   "id": "e013799a-5707-4a4f-bd31-82119d1193d9",
   "metadata": {},
   "outputs": [
    {
     "name": "stdout",
     "output_type": "stream",
     "text": [
      "[1, 2.5, 'sium', 10]\n"
     ]
    }
   ],
   "source": [
    "#list is used in store to various sequence types of data it means we can store various data type in list \n",
    "list3 = [1,2.5, \"sium\",10 ]\n",
    "print(list3)\n"
   ]
  },
  {
   "cell_type": "code",
   "execution_count": 4,
   "id": "c86e0fb6-b543-4ec8-805d-d13b3103ec31",
   "metadata": {},
   "outputs": [
    {
     "name": "stdout",
     "output_type": "stream",
     "text": [
      "1\n",
      "10\n"
     ]
    },
    {
     "data": {
      "text/plain": [
       "('sium', 2.5, 1)"
      ]
     },
     "execution_count": 4,
     "metadata": {},
     "output_type": "execute_result"
    }
   ],
   "source": [
    "#list are ordered, the element we add it remains at the index 0\n",
    "#second element we add it remains at index 1 and so on\n",
    "#if we delete a element from list, index position can be changed but ordered are remain same\n",
    "\n",
    "\n",
    "#list element can be accessed by using indexing\n",
    "print(list3[0]) #staring index\n",
    "print(list3[-1]) #last index\n",
    "\n",
    "\n",
    "#we can also using negative indexing also \n",
    "list3[-2], list3[-3], list3[-4]"
   ]
  },
  {
   "cell_type": "code",
   "execution_count": 5,
   "id": "dab3b50a-4762-450e-99dd-2b0e3602ac6e",
   "metadata": {},
   "outputs": [
    {
     "name": "stdout",
     "output_type": "stream",
     "text": [
      "[['sium', 3.5], 300, 58]\n",
      "['sium', 3.5]\n",
      "sium\n"
     ]
    }
   ],
   "source": [
    "#list can be nested, so we can have list inside a list\n",
    "list4 =[[\"sium\", 3.5], 300, 58]\n",
    "print(list4)\n",
    "print(list4[0])\n",
    "print(list4[0][0])\n"
   ]
  },
  {
   "cell_type": "code",
   "execution_count": 6,
   "id": "03ee1846-4e12-412d-a1b8-47705a233310",
   "metadata": {},
   "outputs": [
    {
     "name": "stdout",
     "output_type": "stream",
     "text": [
      "[['sium', 3.5], 300, 58, 7]\n"
     ]
    }
   ],
   "source": [
    "#list are mutable, after creating a list we can modify our list\n",
    "#insert any element\n",
    "list4.append(7)\n",
    "print(list4)\n",
    "#for insert(index, value)\n",
    "list4[0].insert(2, 499)"
   ]
  },
  {
   "cell_type": "code",
   "execution_count": 8,
   "id": "5dba151d-5ec2-48e4-a2bc-5859bd5035ca",
   "metadata": {},
   "outputs": [
    {
     "data": {
      "text/plain": [
       "[['sium', 3.5, 499], 58, 7]"
      ]
     },
     "execution_count": 8,
     "metadata": {},
     "output_type": "execute_result"
    }
   ],
   "source": [
    "#deleting method from list\n",
    "#remove(value)\n",
    "list4.remove(300)\n",
    "list4"
   ]
  },
  {
   "cell_type": "code",
   "execution_count": 9,
   "id": "6649f327-872b-4104-ac02-10e7c931eb2d",
   "metadata": {},
   "outputs": [
    {
     "data": {
      "text/plain": [
       "[['sium', 3.5, 499], 58, 7]"
      ]
     },
     "execution_count": 9,
     "metadata": {},
     "output_type": "execute_result"
    }
   ],
   "source": [
    "list4"
   ]
  },
  {
   "cell_type": "code",
   "execution_count": 10,
   "id": "5a54e394-10cc-4a64-a693-4866225537e4",
   "metadata": {},
   "outputs": [],
   "source": [
    "#by using del method del list4[index]\n",
    "del list4[0][0]"
   ]
  },
  {
   "cell_type": "code",
   "execution_count": 11,
   "id": "c782d0e0-eca5-4314-9703-b421c6e55901",
   "metadata": {},
   "outputs": [
    {
     "data": {
      "text/plain": [
       "[[3.5, 499], 58, 7]"
      ]
     },
     "execution_count": 11,
     "metadata": {},
     "output_type": "execute_result"
    }
   ],
   "source": [
    "list4"
   ]
  },
  {
   "cell_type": "code",
   "execution_count": 12,
   "id": "5582fe44-4fd1-430c-b715-865f71375a15",
   "metadata": {},
   "outputs": [
    {
     "data": {
      "text/plain": [
       "7"
      ]
     },
     "execution_count": 12,
     "metadata": {},
     "output_type": "execute_result"
    }
   ],
   "source": [
    "#by using pop() method-it will delete the last element from the list and return the value\n",
    "list4.pop()\n"
   ]
  },
  {
   "cell_type": "code",
   "execution_count": 13,
   "id": "56abc0a5-385f-4357-92e6-9c54fc223eb3",
   "metadata": {},
   "outputs": [
    {
     "data": {
      "text/plain": [
       "[[3.5, 499], 58]"
      ]
     },
     "execution_count": 13,
     "metadata": {},
     "output_type": "execute_result"
    }
   ],
   "source": [
    "list4"
   ]
  },
  {
   "cell_type": "code",
   "execution_count": 14,
   "id": "eebfdb95-30cd-41ef-b84b-579f28ddd3df",
   "metadata": {},
   "outputs": [
    {
     "data": {
      "text/plain": [
       "list"
      ]
     },
     "execution_count": 14,
     "metadata": {},
     "output_type": "execute_result"
    }
   ],
   "source": [
    "type(list4)"
   ]
  },
  {
   "cell_type": "code",
   "execution_count": null,
   "id": "1af5e3c5-f214-411e-b6ed-36f717776afc",
   "metadata": {},
   "outputs": [],
   "source": [
    "#list are dynamic-because list is mutable\n"
   ]
  },
  {
   "cell_type": "markdown",
   "id": "5d5c6411-0566-4ebc-8882-7382da1c8c8c",
   "metadata": {},
   "source": [
    "## TUPLE\n",
    "- tuples are also stores the collection of data, it is similar to the list but it has few difference, it's elements are seperated by the comma and enclosed with parenthesis()\n",
    "- if you do not use () but the value sperated with comma that also means tuple"
   ]
  },
  {
   "cell_type": "code",
   "execution_count": 15,
   "id": "a00fb642-6a03-417a-8d44-5e9af0d06e54",
   "metadata": {},
   "outputs": [
    {
     "name": "stdout",
     "output_type": "stream",
     "text": [
      "<class 'tuple'>\n"
     ]
    }
   ],
   "source": [
    "t1 = (1,2,4,6,7,7)\n",
    "print(type(t1))"
   ]
  },
  {
   "cell_type": "code",
   "execution_count": 16,
   "id": "e1eaf5ef-55ad-4264-8ae2-591f33ef7c00",
   "metadata": {},
   "outputs": [
    {
     "name": "stdout",
     "output_type": "stream",
     "text": [
      "<class 'tuple'>\n"
     ]
    }
   ],
   "source": [
    "t2= 2,4,5,6,7,8\n",
    "print(type(t2))"
   ]
  },
  {
   "cell_type": "code",
   "execution_count": 17,
   "id": "e4163adf-f6a4-4cb8-ae94-9449cea973a0",
   "metadata": {},
   "outputs": [
    {
     "name": "stdout",
     "output_type": "stream",
     "text": [
      "<class 'tuple'>\n"
     ]
    }
   ],
   "source": [
    "#we can also use tuple constractor to create a empty tuple\n",
    "t3 = tuple()\n",
    "print(type(t3))"
   ]
  },
  {
   "cell_type": "code",
   "execution_count": 18,
   "id": "9573c761-fe18-4607-86f4-87e5b49d6cce",
   "metadata": {},
   "outputs": [
    {
     "name": "stdout",
     "output_type": "stream",
     "text": [
      "(1, 2, 4, 6, 7, 7)\n"
     ]
    }
   ],
   "source": [
    "print(t1)"
   ]
  },
  {
   "cell_type": "code",
   "execution_count": 19,
   "id": "3b5cce04-b9a3-45db-9151-d8e738aa5cdf",
   "metadata": {},
   "outputs": [
    {
     "name": "stdout",
     "output_type": "stream",
     "text": [
      "<class 'int'>\n"
     ]
    }
   ],
   "source": [
    "#for a single value if we use () then it is considered as single integer value\\\n",
    "t5 =(19)\n",
    "print(type(t5))"
   ]
  },
  {
   "cell_type": "code",
   "execution_count": 20,
   "id": "97982eff-4a49-491e-98c6-a6ddbabe76ba",
   "metadata": {},
   "outputs": [
    {
     "name": "stdout",
     "output_type": "stream",
     "text": [
      "<class 'tuple'>\n"
     ]
    }
   ],
   "source": [
    "#to create a tuple with a single value we need to add (10,) a comma after a value]\n",
    "t6 =(8,)\n",
    "print(type(t6))"
   ]
  },
  {
   "cell_type": "code",
   "execution_count": null,
   "id": "5f5f4635-0c5e-4b03-8415-586f6b02e78b",
   "metadata": {},
   "outputs": [],
   "source": [
    "#tuples are immutable- we can insert or delete the element from tuple\n",
    "#tuple store 0 or more number of elements\n",
    "#store differents types of data"
   ]
  },
  {
   "cell_type": "code",
   "execution_count": 21,
   "id": "3a4f5956-c070-4856-be99-94c0c5c611ed",
   "metadata": {},
   "outputs": [
    {
     "data": {
      "text/plain": [
       "1"
      ]
     },
     "execution_count": 21,
     "metadata": {},
     "output_type": "execute_result"
    }
   ],
   "source": [
    "#to access the tuple we need to use indexing method\n",
    "t1[0]"
   ]
  },
  {
   "cell_type": "code",
   "execution_count": 22,
   "id": "783e40fc-e53f-4906-b9a1-55c609ef57f0",
   "metadata": {},
   "outputs": [
    {
     "data": {
      "text/plain": [
       "7"
      ]
     },
     "execution_count": 22,
     "metadata": {},
     "output_type": "execute_result"
    }
   ],
   "source": [
    "t1[-1]"
   ]
  },
  {
   "cell_type": "code",
   "execution_count": 23,
   "id": "c7bd1eca-3a80-437a-b94c-9e17b75cb202",
   "metadata": {},
   "outputs": [
    {
     "data": {
      "text/plain": [
       "7"
      ]
     },
     "execution_count": 23,
     "metadata": {},
     "output_type": "execute_result"
    }
   ],
   "source": [
    "#we can also use negative indexing\n",
    "t1[-2]"
   ]
  },
  {
   "cell_type": "code",
   "execution_count": 24,
   "id": "250fb432-a7c0-494f-be7f-0099ae06c1d4",
   "metadata": {},
   "outputs": [],
   "source": [
    "#tuples also can be nested so we can use tuple inside a tuple\n",
    "t7 =(('sium', 9, 40), 20,40,57)"
   ]
  },
  {
   "cell_type": "code",
   "execution_count": 25,
   "id": "fff4b50a-8017-405b-8f4f-0b9dd8badbb6",
   "metadata": {},
   "outputs": [
    {
     "data": {
      "text/plain": [
       "('sium', 9, 40)"
      ]
     },
     "execution_count": 25,
     "metadata": {},
     "output_type": "execute_result"
    }
   ],
   "source": [
    "t7[0]"
   ]
  },
  {
   "cell_type": "code",
   "execution_count": 26,
   "id": "67e6ed4a-32e3-4844-813c-3cf2b362ee38",
   "metadata": {},
   "outputs": [
    {
     "data": {
      "text/plain": [
       "'sium'"
      ]
     },
     "execution_count": 26,
     "metadata": {},
     "output_type": "execute_result"
    }
   ],
   "source": [
    "t7[0][0]"
   ]
  },
  {
   "cell_type": "code",
   "execution_count": null,
   "id": "fe41af3c-62b0-4de4-9ad1-988a938dc926",
   "metadata": {},
   "outputs": [],
   "source": [
    "#why we need tuple\n",
    "#tuple is faster than list\n",
    "#sometimes we do not want to modified our data then we use tuple\n",
    "#to prevent accidental modification\n"
   ]
  }
 ],
 "metadata": {
  "kernelspec": {
   "display_name": "Python 3 (ipykernel)",
   "language": "python",
   "name": "python3"
  },
  "language_info": {
   "codemirror_mode": {
    "name": "ipython",
    "version": 3
   },
   "file_extension": ".py",
   "mimetype": "text/x-python",
   "name": "python",
   "nbconvert_exporter": "python",
   "pygments_lexer": "ipython3",
   "version": "3.9.10"
  }
 },
 "nbformat": 4,
 "nbformat_minor": 5
}
