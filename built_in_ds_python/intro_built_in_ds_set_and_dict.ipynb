{
 "cells": [
  {
   "cell_type": "markdown",
   "id": "dd27c618-20c1-46bc-8da2-41c677fe924a",
   "metadata": {},
   "source": [
    "## DICTIONARY\n",
    "- dictionary is defined using key value in pairs, seperated by comma and enclosed with curly braces. The key and value are seperated by colon."
   ]
  },
  {
   "cell_type": "code",
   "execution_count": 2,
   "id": "35341878-e50f-4c4e-8053-71daa017c456",
   "metadata": {},
   "outputs": [],
   "source": [
    "#syntax for dictionary \n",
    "#dictionary_name = {key:value, key2:value2.....}\n",
    "#key needs to be unique and we must have only one keys, and key must be immutable, values can be mutable or immutable. we can not have list as the keys"
   ]
  },
  {
   "cell_type": "code",
   "execution_count": 4,
   "id": "8e4a2892-ae5e-4261-b79c-a3f1ce171ba3",
   "metadata": {},
   "outputs": [],
   "source": [
    "#how to create the dictionary\n",
    "d1 = {} #created a empty dictionary"
   ]
  },
  {
   "cell_type": "code",
   "execution_count": 5,
   "id": "dadeb7ef-566d-42f6-9ce1-a4ddb5f19bca",
   "metadata": {},
   "outputs": [
    {
     "data": {
      "text/plain": [
       "dict"
      ]
     },
     "execution_count": 5,
     "metadata": {},
     "output_type": "execute_result"
    }
   ],
   "source": [
    "type(d1) #check the type of the ds"
   ]
  },
  {
   "cell_type": "code",
   "execution_count": 6,
   "id": "e741bd40-5cfa-4817-ba82-4cbda47baeaf",
   "metadata": {},
   "outputs": [],
   "source": [
    "d2 = {\"sium\": \"rhs0@yahoo.com\", \"sio\": \"sium1@hotmail.com\" }"
   ]
  },
  {
   "cell_type": "code",
   "execution_count": 7,
   "id": "762d3f2a-f51e-4c55-88df-251606fec142",
   "metadata": {},
   "outputs": [
    {
     "data": {
      "text/plain": [
       "{'sium': 'rhs0@yahoo.com', 'sio': 'sium1@hotmail.com'}"
      ]
     },
     "execution_count": 7,
     "metadata": {},
     "output_type": "execute_result"
    }
   ],
   "source": [
    "d2"
   ]
  },
  {
   "cell_type": "code",
   "execution_count": 10,
   "id": "ef3abf31-f255-4f18-b8b7-d1bab481fdde",
   "metadata": {},
   "outputs": [],
   "source": [
    "#create the dictionary use dict() constructor\n",
    "d3 = dict() #empty dictionary"
   ]
  },
  {
   "cell_type": "code",
   "execution_count": 11,
   "id": "6ddaa0f8-f74e-4bee-b45c-4fdae21d9982",
   "metadata": {},
   "outputs": [
    {
     "data": {
      "text/plain": [
       "dict"
      ]
     },
     "execution_count": 11,
     "metadata": {},
     "output_type": "execute_result"
    }
   ],
   "source": [
    "type(d3)"
   ]
  },
  {
   "cell_type": "code",
   "execution_count": null,
   "id": "f46ab613-9c75-4ee8-b34f-6f84ea1d2ac2",
   "metadata": {},
   "outputs": [],
   "source": []
  },
  {
   "cell_type": "code",
   "execution_count": 8,
   "id": "1eada254-5047-4461-80c1-0e1d65aee8f5",
   "metadata": {},
   "outputs": [
    {
     "data": {
      "text/plain": [
       "'rhs0@yahoo.com'"
      ]
     },
     "execution_count": 8,
     "metadata": {},
     "output_type": "execute_result"
    }
   ],
   "source": [
    "d2[\"sium\"]"
   ]
  },
  {
   "cell_type": "code",
   "execution_count": 12,
   "id": "6f418ec8-46b4-435f-b135-6d52c831d577",
   "metadata": {},
   "outputs": [],
   "source": [
    "#if we have a duplicate keys lets see what will happens\n",
    "d4 = {1: \"sium\", 2:'sio', 1: \"anable\"}"
   ]
  },
  {
   "cell_type": "code",
   "execution_count": 13,
   "id": "704f1340-75b5-4f80-810f-859cee5db6ce",
   "metadata": {},
   "outputs": [
    {
     "data": {
      "text/plain": [
       "{1: 'anable', 2: 'sio'}"
      ]
     },
     "execution_count": 13,
     "metadata": {},
     "output_type": "execute_result"
    }
   ],
   "source": [
    "d4 #it will take the last value i put with the same keys so key must be unique"
   ]
  },
  {
   "cell_type": "code",
   "execution_count": 14,
   "id": "934bd54b-01f5-4af1-a38c-d984aebe6685",
   "metadata": {},
   "outputs": [],
   "source": [
    "#we can not use mutable like list as keys\n",
    "#dict are unordered\n",
    "#we can not access the the element from dict by using index so we need to access the dict by keys"
   ]
  },
  {
   "cell_type": "code",
   "execution_count": 15,
   "id": "0c172484-74ac-43ad-be50-48e47c09c412",
   "metadata": {},
   "outputs": [
    {
     "data": {
      "text/plain": [
       "'anable'"
      ]
     },
     "execution_count": 15,
     "metadata": {},
     "output_type": "execute_result"
    }
   ],
   "source": [
    "d4[1] #to access the dict value with keys"
   ]
  },
  {
   "cell_type": "code",
   "execution_count": 16,
   "id": "f228a200-cacd-4eea-b171-c2ce5a33904f",
   "metadata": {},
   "outputs": [],
   "source": [
    "#we can delete the value by mentioning keys and del keyword\n",
    "del d4[1]"
   ]
  },
  {
   "cell_type": "code",
   "execution_count": 17,
   "id": "897121d0-b572-4210-b16d-9b05749f6eac",
   "metadata": {},
   "outputs": [
    {
     "data": {
      "text/plain": [
       "{2: 'sio'}"
      ]
     },
     "execution_count": 17,
     "metadata": {},
     "output_type": "execute_result"
    }
   ],
   "source": [
    "d4 #look it deleted"
   ]
  },
  {
   "cell_type": "code",
   "execution_count": 18,
   "id": "e2a24fa4-d86d-4c10-8cea-08a868fe4f0f",
   "metadata": {},
   "outputs": [],
   "source": [
    "#dict are mutable so we can add or delete the elements from dict\n",
    "#to add a element we can mention the dict name with a new keys and pass the value in it\n",
    "d4[3]= \"sium\" # to add the element"
   ]
  },
  {
   "cell_type": "code",
   "execution_count": 19,
   "id": "082986dc-ea78-4fc0-95c3-d23b8e400826",
   "metadata": {},
   "outputs": [
    {
     "data": {
      "text/plain": [
       "{2: 'sio', 3: 'sium'}"
      ]
     },
     "execution_count": 19,
     "metadata": {},
     "output_type": "execute_result"
    }
   ],
   "source": [
    "d4"
   ]
  },
  {
   "cell_type": "code",
   "execution_count": 21,
   "id": "2efdaa3f-157f-4a23-908c-a63633efee68",
   "metadata": {},
   "outputs": [],
   "source": [
    "#dictionary is nested so we make a dictionary inside a dictionary, but we can not use dict as the key in the nested dictionary because dict are mutable\n",
    "d5 = {1: {1:2}, 2: {2,3}} #thats how we can use nested dict"
   ]
  },
  {
   "cell_type": "code",
   "execution_count": 22,
   "id": "6695eb25-089c-45ab-8811-5c72072b7757",
   "metadata": {},
   "outputs": [
    {
     "data": {
      "text/plain": [
       "{1: {1: 2}, 2: {2, 3}}"
      ]
     },
     "execution_count": 22,
     "metadata": {},
     "output_type": "execute_result"
    }
   ],
   "source": [
    "d5"
   ]
  },
  {
   "cell_type": "markdown",
   "id": "c4a79a1d-b9a1-40e0-aeb3-48ea45f4ed48",
   "metadata": {},
   "source": [
    "## SET DS\n",
    "- set is a collection of a unique elements, in set no item can be repeated. we can not have duplicate values, set also defines in a curly braces.  "
   ]
  },
  {
   "cell_type": "code",
   "execution_count": 23,
   "id": "b6e2f945-be69-4ddb-afff-3bb38c5cb1f4",
   "metadata": {},
   "outputs": [],
   "source": [
    "#to created a set\n",
    "s1 = {1,2,3,45,6,6,7}"
   ]
  },
  {
   "cell_type": "code",
   "execution_count": 24,
   "id": "42ab8223-259a-46ac-b8f3-74688a7cba76",
   "metadata": {},
   "outputs": [
    {
     "data": {
      "text/plain": [
       "{1, 2, 3, 6, 7, 45}"
      ]
     },
     "execution_count": 24,
     "metadata": {},
     "output_type": "execute_result"
    }
   ],
   "source": [
    "s1 #set always will be unique so it will ignore the duplicate values"
   ]
  },
  {
   "cell_type": "code",
   "execution_count": 25,
   "id": "7022e73b-85e5-4b79-98ee-72d34085ef07",
   "metadata": {},
   "outputs": [
    {
     "data": {
      "text/plain": [
       "set"
      ]
     },
     "execution_count": 25,
     "metadata": {},
     "output_type": "execute_result"
    }
   ],
   "source": [
    "type(s1)"
   ]
  },
  {
   "cell_type": "code",
   "execution_count": 26,
   "id": "96a035ed-6dcf-43cf-9fcc-ec9be73335ad",
   "metadata": {},
   "outputs": [],
   "source": [
    "#to create a empty set we can not use { } braces because it will make dict\n",
    "s2 ={}"
   ]
  },
  {
   "cell_type": "code",
   "execution_count": 27,
   "id": "82bd7856-7c58-47ad-826a-d8892b95161d",
   "metadata": {},
   "outputs": [
    {
     "data": {
      "text/plain": [
       "dict"
      ]
     },
     "execution_count": 27,
     "metadata": {},
     "output_type": "execute_result"
    }
   ],
   "source": [
    "type(s2)"
   ]
  },
  {
   "cell_type": "code",
   "execution_count": 28,
   "id": "f86f6f35-9467-481b-acce-3341d963c058",
   "metadata": {},
   "outputs": [],
   "source": [
    "# so we need to use set constructor to build a empty set\n",
    "s3 = set() #empty set"
   ]
  },
  {
   "cell_type": "code",
   "execution_count": 29,
   "id": "22facf65-9004-40e2-86a1-41b3a741e6bb",
   "metadata": {},
   "outputs": [
    {
     "data": {
      "text/plain": [
       "set()"
      ]
     },
     "execution_count": 29,
     "metadata": {},
     "output_type": "execute_result"
    }
   ],
   "source": [
    "s3 "
   ]
  },
  {
   "cell_type": "code",
   "execution_count": 30,
   "id": "c53b7337-f81c-4141-b4a9-0d8936880d50",
   "metadata": {},
   "outputs": [
    {
     "data": {
      "text/plain": [
       "set"
      ]
     },
     "execution_count": 30,
     "metadata": {},
     "output_type": "execute_result"
    }
   ],
   "source": [
    "type(s3)"
   ]
  },
  {
   "cell_type": "code",
   "execution_count": 1,
   "id": "0ae6666f-94b3-44ca-bc94-2cefb8513448",
   "metadata": {},
   "outputs": [],
   "source": [
    "#we can create the set from string\n",
    "s4 = set(\"rakibul\")"
   ]
  },
  {
   "cell_type": "code",
   "execution_count": 3,
   "id": "9255dba0-4c7a-455f-9cbc-704024e828e7",
   "metadata": {},
   "outputs": [
    {
     "data": {
      "text/plain": [
       "{'a', 'b', 'i', 'k', 'l', 'r', 'u'}"
      ]
     },
     "execution_count": 3,
     "metadata": {},
     "output_type": "execute_result"
    }
   ],
   "source": [
    "s4"
   ]
  },
  {
   "cell_type": "code",
   "execution_count": 33,
   "id": "9b71b2d2-b7b2-41fc-9ff7-7337785f760b",
   "metadata": {},
   "outputs": [],
   "source": [
    "#sets are mutable so we can add or delete item from sets to add we can do it by add() method\n",
    "s4.add(\"sio\") #to add a item in set"
   ]
  },
  {
   "cell_type": "code",
   "execution_count": 34,
   "id": "cd6a9a2b-17a4-49da-aae6-7d304cc0447a",
   "metadata": {},
   "outputs": [
    {
     "data": {
      "text/plain": [
       "{'a', 'b', 'i', 'k', 'l', 'r', 'sio', 'u'}"
      ]
     },
     "execution_count": 34,
     "metadata": {},
     "output_type": "execute_result"
    }
   ],
   "source": [
    "s4"
   ]
  },
  {
   "cell_type": "code",
   "execution_count": 36,
   "id": "4cee99b4-e7f5-42cb-8740-7238f696ee21",
   "metadata": {},
   "outputs": [],
   "source": [
    "#set is also unordered"
   ]
  },
  {
   "cell_type": "code",
   "execution_count": 37,
   "id": "3f3376f3-0fe8-483e-a46c-7f7e9daf25f2",
   "metadata": {},
   "outputs": [],
   "source": [
    "#to delete the element from set by remove() method\n",
    "s4.remove(\"sio\")"
   ]
  },
  {
   "cell_type": "code",
   "execution_count": 38,
   "id": "d7cc3fde-f914-4a8f-9597-9c12efa26fbb",
   "metadata": {},
   "outputs": [
    {
     "data": {
      "text/plain": [
       "{'a', 'b', 'i', 'k', 'l', 'r', 'u'}"
      ]
     },
     "execution_count": 38,
     "metadata": {},
     "output_type": "execute_result"
    }
   ],
   "source": [
    "s4"
   ]
  },
  {
   "cell_type": "code",
   "execution_count": 39,
   "id": "26fe8f6d-d33f-4422-b61d-51e1c075a01a",
   "metadata": {},
   "outputs": [],
   "source": [
    "#set can not be nested"
   ]
  },
  {
   "cell_type": "code",
   "execution_count": null,
   "id": "b760b5fd-4614-4b25-ada6-dcbaef08cd36",
   "metadata": {},
   "outputs": [],
   "source": [
    "#set can have different types of element but it must be immutable object\n",
    "#we can use set for union, intersection and diffrence between two set"
   ]
  },
  {
   "cell_type": "code",
   "execution_count": 40,
   "id": "7b4085b7-bf77-4298-b200-5e8937a20a67",
   "metadata": {},
   "outputs": [
    {
     "data": {
      "text/plain": [
       "{'a', 'b', 'i', 'k', 'l', 'r', 'u'}"
      ]
     },
     "execution_count": 40,
     "metadata": {},
     "output_type": "execute_result"
    }
   ],
   "source": [
    "#to access the element from set we can use the loop or membership operation\n",
    "s4"
   ]
  },
  {
   "cell_type": "code",
   "execution_count": 41,
   "id": "f4db12c7-219f-4e21-a951-0946ace2e92a",
   "metadata": {},
   "outputs": [
    {
     "name": "stdout",
     "output_type": "stream",
     "text": [
      "k\n",
      "r\n",
      "l\n",
      "u\n",
      "i\n",
      "a\n",
      "b\n"
     ]
    }
   ],
   "source": [
    "for i in s4: #loop\n",
    "    print(i)"
   ]
  },
  {
   "cell_type": "code",
   "execution_count": 44,
   "id": "a73d7b8e-8726-4813-9f07-4c975bbc31c8",
   "metadata": {},
   "outputs": [
    {
     "data": {
      "text/plain": [
       "True"
      ]
     },
     "execution_count": 44,
     "metadata": {},
     "output_type": "execute_result"
    }
   ],
   "source": [
    "\"i\" in s4 #it will give true or false result"
   ]
  },
  {
   "cell_type": "code",
   "execution_count": null,
   "id": "28c4c6e1-082e-411a-8e1c-5b5d0a8513ec",
   "metadata": {},
   "outputs": [],
   "source": []
  }
 ],
 "metadata": {
  "kernelspec": {
   "display_name": "Python 3 (ipykernel)",
   "language": "python",
   "name": "python3"
  },
  "language_info": {
   "codemirror_mode": {
    "name": "ipython",
    "version": 3
   },
   "file_extension": ".py",
   "mimetype": "text/x-python",
   "name": "python",
   "nbconvert_exporter": "python",
   "pygments_lexer": "ipython3",
   "version": "3.9.10"
  }
 },
 "nbformat": 4,
 "nbformat_minor": 5
}
