{
 "cells": [
  {
   "cell_type": "markdown",
   "id": "944c22c9-6a08-4ba1-92d5-5d94e3c3b836",
   "metadata": {},
   "source": [
    "## LIST- relatble with shopping list(group of different types of element)\n",
    "- list are mutable- we can change, replace, remove \n",
    "- linear data structure- linear order like first one, then second one then third one\n",
    "- mixed types element- mixed type of element, it contains integer, float, string and complex numbers\n",
    "- variable length - \n",
    "- zero based indexing- first index will be 0"
   ]
  },
  {
   "cell_type": "code",
   "execution_count": 1,
   "id": "534b91b4-8ad0-4717-8366-e4b572d22fac",
   "metadata": {},
   "outputs": [
    {
     "name": "stdout",
     "output_type": "stream",
     "text": [
      "[]\n",
      "[3, 5, 62, 0, 38, 'sium', 5.7]\n"
     ]
    }
   ],
   "source": [
    "l1 = [] #to create a empty list\n",
    "l2 = [3,5,62,0,38, \"sium\", 5.7]\n",
    "print(l1)\n",
    "print(l2)"
   ]
  },
  {
   "cell_type": "code",
   "execution_count": 2,
   "id": "67c2d850-0f7c-42a7-8ba0-a8aa6a7c8d59",
   "metadata": {},
   "outputs": [
    {
     "name": "stdout",
     "output_type": "stream",
     "text": [
      "[]\n",
      "<class 'list'>\n"
     ]
    }
   ],
   "source": [
    "l3 = list() #to create a list with list constructor\n",
    "print(l3)\n",
    "print(type(l3)) #type of it is a list or not"
   ]
  },
  {
   "cell_type": "code",
   "execution_count": 3,
   "id": "b40a271c-eb8d-45d8-a838-3a91a812c909",
   "metadata": {},
   "outputs": [
    {
     "name": "stdout",
     "output_type": "stream",
     "text": [
      "[10, 20.4, 5, 'sium', 57]\n"
     ]
    }
   ],
   "source": [
    "#list contain mixed types of data\n",
    "l4 =[]\n",
    "l4 = [10,20.4,5,'sium', 57]\n",
    "print(l4)"
   ]
  },
  {
   "cell_type": "code",
   "execution_count": 4,
   "id": "37b802f0-eef2-4650-ad39-ea023267caab",
   "metadata": {},
   "outputs": [
    {
     "name": "stdout",
     "output_type": "stream",
     "text": [
      "10\n",
      "20.4\n",
      "5\n",
      "sium\n"
     ]
    }
   ],
   "source": [
    "#to see indivisual element from list we can use indexing\n",
    "print(l4[0])\n",
    "print(l4[1])\n",
    "print(l4[2])\n",
    "print(l4[3])"
   ]
  },
  {
   "cell_type": "code",
   "execution_count": 5,
   "id": "0914dc3c-86d6-4101-8635-cecb7fab5fa2",
   "metadata": {},
   "outputs": [
    {
     "name": "stdout",
     "output_type": "stream",
     "text": [
      "[[40, 38, 'sium'], 40.6, 90]\n"
     ]
    }
   ],
   "source": [
    "#we can also make nested list that means list within the list\n",
    "l5 = [[40, 38, \"sium\"], 40.6, 90]\n",
    "print(l5)"
   ]
  },
  {
   "cell_type": "code",
   "execution_count": 6,
   "id": "c2719101-5105-4e65-958b-f15db47b5312",
   "metadata": {},
   "outputs": [
    {
     "data": {
      "text/plain": [
       "[40, 38, 'sium']"
      ]
     },
     "execution_count": 6,
     "metadata": {},
     "output_type": "execute_result"
    }
   ],
   "source": [
    "l5[0] #to access the first index means accesing the first nested list"
   ]
  },
  {
   "cell_type": "code",
   "execution_count": 7,
   "id": "f55681ff-bb12-4c53-b489-8616aedae11f",
   "metadata": {},
   "outputs": [
    {
     "data": {
      "text/plain": [
       "40"
      ]
     },
     "execution_count": 7,
     "metadata": {},
     "output_type": "execute_result"
    }
   ],
   "source": [
    "l5[0][0] #to accessing the nestes list first index"
   ]
  },
  {
   "cell_type": "code",
   "execution_count": 8,
   "id": "f3f91760-0881-48cf-b25b-b7c664b4c734",
   "metadata": {},
   "outputs": [
    {
     "name": "stdout",
     "output_type": "stream",
     "text": [
      "Help on class list in module builtins:\n",
      "\n",
      "class list(object)\n",
      " |  list(iterable=(), /)\n",
      " |  \n",
      " |  Built-in mutable sequence.\n",
      " |  \n",
      " |  If no argument is given, the constructor creates a new empty list.\n",
      " |  The argument must be an iterable if specified.\n",
      " |  \n",
      " |  Methods defined here:\n",
      " |  \n",
      " |  __add__(self, value, /)\n",
      " |      Return self+value.\n",
      " |  \n",
      " |  __contains__(self, key, /)\n",
      " |      Return key in self.\n",
      " |  \n",
      " |  __delitem__(self, key, /)\n",
      " |      Delete self[key].\n",
      " |  \n",
      " |  __eq__(self, value, /)\n",
      " |      Return self==value.\n",
      " |  \n",
      " |  __ge__(self, value, /)\n",
      " |      Return self>=value.\n",
      " |  \n",
      " |  __getattribute__(self, name, /)\n",
      " |      Return getattr(self, name).\n",
      " |  \n",
      " |  __getitem__(...)\n",
      " |      x.__getitem__(y) <==> x[y]\n",
      " |  \n",
      " |  __gt__(self, value, /)\n",
      " |      Return self>value.\n",
      " |  \n",
      " |  __iadd__(self, value, /)\n",
      " |      Implement self+=value.\n",
      " |  \n",
      " |  __imul__(self, value, /)\n",
      " |      Implement self*=value.\n",
      " |  \n",
      " |  __init__(self, /, *args, **kwargs)\n",
      " |      Initialize self.  See help(type(self)) for accurate signature.\n",
      " |  \n",
      " |  __iter__(self, /)\n",
      " |      Implement iter(self).\n",
      " |  \n",
      " |  __le__(self, value, /)\n",
      " |      Return self<=value.\n",
      " |  \n",
      " |  __len__(self, /)\n",
      " |      Return len(self).\n",
      " |  \n",
      " |  __lt__(self, value, /)\n",
      " |      Return self<value.\n",
      " |  \n",
      " |  __mul__(self, value, /)\n",
      " |      Return self*value.\n",
      " |  \n",
      " |  __ne__(self, value, /)\n",
      " |      Return self!=value.\n",
      " |  \n",
      " |  __repr__(self, /)\n",
      " |      Return repr(self).\n",
      " |  \n",
      " |  __reversed__(self, /)\n",
      " |      Return a reverse iterator over the list.\n",
      " |  \n",
      " |  __rmul__(self, value, /)\n",
      " |      Return value*self.\n",
      " |  \n",
      " |  __setitem__(self, key, value, /)\n",
      " |      Set self[key] to value.\n",
      " |  \n",
      " |  __sizeof__(self, /)\n",
      " |      Return the size of the list in memory, in bytes.\n",
      " |  \n",
      " |  append(self, object, /)\n",
      " |      Append object to the end of the list.\n",
      " |  \n",
      " |  clear(self, /)\n",
      " |      Remove all items from list.\n",
      " |  \n",
      " |  copy(self, /)\n",
      " |      Return a shallow copy of the list.\n",
      " |  \n",
      " |  count(self, value, /)\n",
      " |      Return number of occurrences of value.\n",
      " |  \n",
      " |  extend(self, iterable, /)\n",
      " |      Extend list by appending elements from the iterable.\n",
      " |  \n",
      " |  index(self, value, start=0, stop=9223372036854775807, /)\n",
      " |      Return first index of value.\n",
      " |      \n",
      " |      Raises ValueError if the value is not present.\n",
      " |  \n",
      " |  insert(self, index, object, /)\n",
      " |      Insert object before index.\n",
      " |  \n",
      " |  pop(self, index=-1, /)\n",
      " |      Remove and return item at index (default last).\n",
      " |      \n",
      " |      Raises IndexError if list is empty or index is out of range.\n",
      " |  \n",
      " |  remove(self, value, /)\n",
      " |      Remove first occurrence of value.\n",
      " |      \n",
      " |      Raises ValueError if the value is not present.\n",
      " |  \n",
      " |  reverse(self, /)\n",
      " |      Reverse *IN PLACE*.\n",
      " |  \n",
      " |  sort(self, /, *, key=None, reverse=False)\n",
      " |      Sort the list in ascending order and return None.\n",
      " |      \n",
      " |      The sort is in-place (i.e. the list itself is modified) and stable (i.e. the\n",
      " |      order of two equal elements is maintained).\n",
      " |      \n",
      " |      If a key function is given, apply it once to each list item and sort them,\n",
      " |      ascending or descending, according to their function values.\n",
      " |      \n",
      " |      The reverse flag can be set to sort in descending order.\n",
      " |  \n",
      " |  ----------------------------------------------------------------------\n",
      " |  Class methods defined here:\n",
      " |  \n",
      " |  __class_getitem__(...) from builtins.type\n",
      " |      See PEP 585\n",
      " |  \n",
      " |  ----------------------------------------------------------------------\n",
      " |  Static methods defined here:\n",
      " |  \n",
      " |  __new__(*args, **kwargs) from builtins.type\n",
      " |      Create and return a new object.  See help(type) for accurate signature.\n",
      " |  \n",
      " |  ----------------------------------------------------------------------\n",
      " |  Data and other attributes defined here:\n",
      " |  \n",
      " |  __hash__ = None\n",
      "\n"
     ]
    }
   ],
   "source": [
    "help(list) #to check list documentation"
   ]
  },
  {
   "cell_type": "code",
   "execution_count": 9,
   "id": "72566bfe-4577-4da0-9c95-3a8347096d42",
   "metadata": {},
   "outputs": [
    {
     "name": "stdout",
     "output_type": "stream",
     "text": [
      "[40, 38, 'sium']\n",
      "40.6\n",
      "90\n"
     ]
    }
   ],
   "source": [
    "for i in l5: #iterate element through for loop\n",
    "    print(i)"
   ]
  },
  {
   "cell_type": "code",
   "execution_count": 10,
   "id": "5594784c-4e98-47c8-ac5e-46934d861f66",
   "metadata": {},
   "outputs": [
    {
     "name": "stdout",
     "output_type": "stream",
     "text": [
      "40\n",
      "38\n",
      "sium\n"
     ]
    }
   ],
   "source": [
    "for j in l5[0]: #to iterate nested list\n",
    "    print(j)"
   ]
  },
  {
   "cell_type": "code",
   "execution_count": 11,
   "id": "78c495d5-02ad-46ff-9435-43aa65288903",
   "metadata": {},
   "outputs": [
    {
     "name": "stdout",
     "output_type": "stream",
     "text": [
      "[[40, 38, 'sium'], 40.6, 90]\n"
     ]
    }
   ],
   "source": [
    "#LIST OPERATION\n",
    "#1. replace\n",
    "print(l5)"
   ]
  },
  {
   "cell_type": "code",
   "execution_count": 12,
   "id": "364d1f5e-5873-4391-a7e9-71a9cba58a93",
   "metadata": {},
   "outputs": [
    {
     "name": "stdout",
     "output_type": "stream",
     "text": [
      "[[69.6, 38, 'sium'], 40.6, 90]\n"
     ]
    }
   ],
   "source": [
    "#replace 40 from the list and add a floting number 69.9\n",
    "#by using index we can change it\n",
    "l5[0][0]=69.6\n",
    "print(l5) #here is the new list\n"
   ]
  },
  {
   "cell_type": "code",
   "execution_count": 13,
   "id": "e199a9a9-4732-410f-8ddc-e59d9145e4df",
   "metadata": {},
   "outputs": [
    {
     "name": "stdout",
     "output_type": "stream",
     "text": [
      "[[79.9, 69.6, 38, 'sium'], 40.6, 90]\n"
     ]
    }
   ],
   "source": [
    "#2.INSERT OPERATION\n",
    "#we can insert a value in the list by using insert(index, value) \n",
    "#insert 79.9 in the list\n",
    "#by the insert() method we can insert a element by indexing then the indexing will be changed for others\n",
    "l5[0].insert(0, 79.9)\n",
    "print(l5)"
   ]
  },
  {
   "cell_type": "code",
   "execution_count": 14,
   "id": "4a5fb79c-1563-40dc-9fe7-653ac1e4e395",
   "metadata": {},
   "outputs": [],
   "source": [
    "#we can also use append in the list by append() method"
   ]
  },
  {
   "cell_type": "code",
   "execution_count": 15,
   "id": "c2e64d76-6621-4d78-8172-b29aec39b4ed",
   "metadata": {},
   "outputs": [
    {
     "name": "stdout",
     "output_type": "stream",
     "text": [
      "[2, 4, 5, 7, 25, 32, 73, 89]\n"
     ]
    }
   ],
   "source": [
    "#3. SORT OPERATION\n",
    "# we can only do sort operation when a list contains only integer or string value, in the mixed data type we can not use sort() method\n",
    "l6 = [2,4,73,5,7,25,89,32]\n",
    "l6.sort()\n",
    "print(l6)"
   ]
  },
  {
   "cell_type": "code",
   "execution_count": 16,
   "id": "d550976b-dbde-4d7a-a3f4-b4583b712e44",
   "metadata": {},
   "outputs": [
    {
     "data": {
      "text/plain": [
       "['hasan', 'rakibul', 'sium']"
      ]
     },
     "execution_count": 16,
     "metadata": {},
     "output_type": "execute_result"
    }
   ],
   "source": [
    "l7=[\"sium\", \"rakibul\", \"hasan\"]\n",
    "l7.sort()\n",
    "l7"
   ]
  },
  {
   "cell_type": "code",
   "execution_count": 17,
   "id": "86e4aa43-af33-47e1-b93a-799b33a211d6",
   "metadata": {},
   "outputs": [
    {
     "data": {
      "text/plain": [
       "[[79.9, 69.6, 38, 'sium'], 40.6, 90]"
      ]
     },
     "execution_count": 17,
     "metadata": {},
     "output_type": "execute_result"
    }
   ],
   "source": [
    "l5 #we can not do sort operation in this types of list\n"
   ]
  },
  {
   "cell_type": "code",
   "execution_count": 18,
   "id": "2f02226e-a43e-4d40-b4f2-f630a24b35f8",
   "metadata": {},
   "outputs": [],
   "source": [
    "#4. DELETE OPERATION\n",
    "#if we want to delete something from the list we can use del method\n",
    "# lets say, delete 79.9 from the list\n",
    "del l5[0][0] #we need mention the index with del key\n"
   ]
  },
  {
   "cell_type": "code",
   "execution_count": 19,
   "id": "50f2a08f-85fc-4f04-95a1-8261d3acbf94",
   "metadata": {},
   "outputs": [
    {
     "name": "stdout",
     "output_type": "stream",
     "text": [
      "[[69.6, 38, 'sium'], 40.6, 90]\n"
     ]
    }
   ],
   "source": [
    "print(l5)"
   ]
  },
  {
   "cell_type": "code",
   "execution_count": 20,
   "id": "01cbe9b8-e8f9-47e0-af18-fc437b6b0adf",
   "metadata": {},
   "outputs": [],
   "source": [
    "l5.remove(40.6) #we can also delete by remove(value) method\n"
   ]
  },
  {
   "cell_type": "code",
   "execution_count": 21,
   "id": "b1414076-7abb-467b-ab1f-6219567d4db9",
   "metadata": {},
   "outputs": [
    {
     "name": "stdout",
     "output_type": "stream",
     "text": [
      "[[69.6, 38, 'sium'], 90]\n"
     ]
    }
   ],
   "source": [
    "print(l5)"
   ]
  },
  {
   "cell_type": "code",
   "execution_count": 22,
   "id": "850e203d-6a48-4dac-9d55-943839932027",
   "metadata": {},
   "outputs": [
    {
     "data": {
      "text/plain": [
       "90"
      ]
     },
     "execution_count": 22,
     "metadata": {},
     "output_type": "execute_result"
    }
   ],
   "source": [
    "#using pop(index) method- if we use pop then it delete from the last item\n",
    "l5.pop() #will delete last value from the list\n",
    "#we can also use indexing method with the pop() method\n"
   ]
  },
  {
   "cell_type": "code",
   "execution_count": 23,
   "id": "b351e009-a9cf-4846-a891-20439e7bbcbb",
   "metadata": {},
   "outputs": [],
   "source": [
    "#we can also delete the whole list by using del method\n",
    "#del list_name\n"
   ]
  },
  {
   "cell_type": "code",
   "execution_count": 24,
   "id": "47799936-bd11-4eae-9d71-5877eb9036ce",
   "metadata": {},
   "outputs": [
    {
     "name": "stdout",
     "output_type": "stream",
     "text": [
      "[[69.6, 38, 'sium']]\n"
     ]
    }
   ],
   "source": [
    "#5.APPEND operation\n",
    "#we can add inseert value by append(value) method, it will insert value at the end of the list\n",
    "print(l5)\n",
    "l5.append(30)\n"
   ]
  },
  {
   "cell_type": "code",
   "execution_count": 25,
   "id": "bc13f0c7-f7ea-480c-b853-e6b51b7a6fa9",
   "metadata": {},
   "outputs": [
    {
     "data": {
      "text/plain": [
       "[[69.6, 38, 'sium'], 30]"
      ]
     },
     "execution_count": 25,
     "metadata": {},
     "output_type": "execute_result"
    }
   ],
   "source": [
    "l5"
   ]
  },
  {
   "cell_type": "code",
   "execution_count": 26,
   "id": "1e53fbe0-5b71-42b7-a8d8-330971aa5f17",
   "metadata": {},
   "outputs": [
    {
     "name": "stdout",
     "output_type": "stream",
     "text": [
      "[2, 4, 5, 7, 25, 32, 73, 89]\n"
     ]
    }
   ],
   "source": [
    "#6. REVERSE\n",
    "#we can use the reverse method to reverse the whole list\n",
    "print(l6)\n"
   ]
  },
  {
   "cell_type": "code",
   "execution_count": 27,
   "id": "6539ddfd-3a04-477b-942b-903c525571b6",
   "metadata": {},
   "outputs": [],
   "source": [
    "l6.reverse()"
   ]
  },
  {
   "cell_type": "code",
   "execution_count": 28,
   "id": "a74b8925-8cdf-49d2-8693-0eccf8475b02",
   "metadata": {},
   "outputs": [
    {
     "name": "stdout",
     "output_type": "stream",
     "text": [
      "[89, 73, 32, 25, 7, 5, 4, 2]\n"
     ]
    }
   ],
   "source": [
    "print(l6)"
   ]
  },
  {
   "cell_type": "code",
   "execution_count": 29,
   "id": "23b41b05-9afe-4741-9812-08869c7e31c1",
   "metadata": {},
   "outputs": [
    {
     "name": "stdout",
     "output_type": "stream",
     "text": [
      "['sium', 'apple', 'laptop']\n"
     ]
    }
   ],
   "source": [
    "# complete summery of the list\n",
    "l8 = ['sium', 'apple', \"hasan\"]\n",
    "#replace \"hasan\" with \"laptop\"\n",
    "l8[2]= \"laptop\" #replace\n",
    "print(l8)"
   ]
  },
  {
   "cell_type": "code",
   "execution_count": 30,
   "id": "3cfb2d6f-9139-4c6c-b5ff-2735a3720436",
   "metadata": {},
   "outputs": [
    {
     "name": "stdout",
     "output_type": "stream",
     "text": [
      "['sium', 'apple', 'laptop']\n"
     ]
    }
   ],
   "source": [
    "print(l8)\n",
    "#insert a element \"mobile\" by using insert method after the apple\n",
    "l8.insert(2, \"mobile\")"
   ]
  },
  {
   "cell_type": "code",
   "execution_count": 31,
   "id": "b4815110-a16e-4fc6-b4f3-95c4672c2c44",
   "metadata": {},
   "outputs": [
    {
     "name": "stdout",
     "output_type": "stream",
     "text": [
      "['sium', 'apple', 'mobile', 'laptop']\n"
     ]
    }
   ],
   "source": [
    "print(l8)"
   ]
  },
  {
   "cell_type": "code",
   "execution_count": 32,
   "id": "66f7d127-e3f5-47e4-8639-fae2de8632ec",
   "metadata": {},
   "outputs": [
    {
     "name": "stdout",
     "output_type": "stream",
     "text": [
      "['sium', 'apple', 'mobile', 'laptop']\n",
      "['apple', 'laptop', 'mobile', 'sium']\n"
     ]
    }
   ],
   "source": [
    "#sort method\n",
    "print(l8)\n",
    "l8.sort()\n",
    "print(l8)"
   ]
  },
  {
   "cell_type": "code",
   "execution_count": 33,
   "id": "5c510d70-321c-4fb8-8473-6c8c1776cc79",
   "metadata": {},
   "outputs": [],
   "source": [
    "#delete method\n",
    "#delete 'mobile from the list'\n",
    "del l8[2]"
   ]
  },
  {
   "cell_type": "code",
   "execution_count": 34,
   "id": "7f1a7086-4507-4e86-a5c6-20a24c3319b9",
   "metadata": {},
   "outputs": [
    {
     "name": "stdout",
     "output_type": "stream",
     "text": [
      "['apple', 'laptop', 'sium']\n"
     ]
    }
   ],
   "source": [
    "print(l8)"
   ]
  },
  {
   "cell_type": "code",
   "execution_count": 35,
   "id": "3b0d480e-e89c-4c3a-a637-e8fbec8c26f2",
   "metadata": {},
   "outputs": [],
   "source": [
    "#delete by value by using remove(value)\n",
    "#delete \"laptop\"\n",
    "l8.remove(\"laptop\")"
   ]
  },
  {
   "cell_type": "code",
   "execution_count": 36,
   "id": "78efd386-105d-4e98-8772-6c16aff5762c",
   "metadata": {},
   "outputs": [
    {
     "name": "stdout",
     "output_type": "stream",
     "text": [
      "['apple', 'sium']\n"
     ]
    }
   ],
   "source": [
    "print(l8)"
   ]
  },
  {
   "cell_type": "code",
   "execution_count": 37,
   "id": "850b042c-aacb-4ef1-90eb-f9507836d6d8",
   "metadata": {},
   "outputs": [
    {
     "name": "stdout",
     "output_type": "stream",
     "text": [
      "['apple', 'sium']\n"
     ]
    }
   ],
   "source": [
    "#delete using pop(index) method\n",
    "#usually pop will remove the last element but what we can do is we can use indexing to delete any value with the pop() method\n",
    "print(l8)"
   ]
  },
  {
   "cell_type": "code",
   "execution_count": 38,
   "id": "2b69406e-096d-40a6-9a6d-7ad2c6757268",
   "metadata": {},
   "outputs": [
    {
     "data": {
      "text/plain": [
       "'apple'"
      ]
     },
     "execution_count": 38,
     "metadata": {},
     "output_type": "execute_result"
    }
   ],
   "source": [
    "l8.pop(0)"
   ]
  },
  {
   "cell_type": "code",
   "execution_count": 39,
   "id": "5c8ed7d0-4398-45a3-b415-4d30904d4c4a",
   "metadata": {},
   "outputs": [
    {
     "name": "stdout",
     "output_type": "stream",
     "text": [
      "['sium']\n"
     ]
    }
   ],
   "source": [
    "print(l8)"
   ]
  },
  {
   "cell_type": "code",
   "execution_count": 40,
   "id": "3299c648-3bce-446f-a557-b51055376957",
   "metadata": {},
   "outputs": [
    {
     "name": "stdout",
     "output_type": "stream",
     "text": [
      "['hasan', 'rakibul', 'sium']\n"
     ]
    }
   ],
   "source": [
    "print(l7)"
   ]
  },
  {
   "cell_type": "code",
   "execution_count": 41,
   "id": "fac87f80-8eab-4d1f-8f0d-879b904f7655",
   "metadata": {},
   "outputs": [
    {
     "data": {
      "text/plain": [
       "'sium'"
      ]
     },
     "execution_count": 41,
     "metadata": {},
     "output_type": "execute_result"
    }
   ],
   "source": [
    "l7.pop() #will remove the last element and return a value"
   ]
  },
  {
   "cell_type": "code",
   "execution_count": 42,
   "id": "6d335cc2-5181-4493-b7e1-eec15d6d505a",
   "metadata": {},
   "outputs": [
    {
     "name": "stdout",
     "output_type": "stream",
     "text": [
      "['hasan', 'rakibul']\n"
     ]
    }
   ],
   "source": [
    "print(l7)"
   ]
  },
  {
   "cell_type": "code",
   "execution_count": 43,
   "id": "e5181d97-d320-40a2-9fb7-f6f08cb75c80",
   "metadata": {},
   "outputs": [
    {
     "name": "stdout",
     "output_type": "stream",
     "text": [
      "['hasan', 'rakibul']\n"
     ]
    }
   ],
   "source": [
    "#append() method, it works like it will add a element in the last\n",
    "print(l7)\n"
   ]
  },
  {
   "cell_type": "code",
   "execution_count": 44,
   "id": "232bcecc-32ae-42bb-a512-6233da5e85e6",
   "metadata": {},
   "outputs": [],
   "source": [
    "l7.append(\"rhs2\")"
   ]
  },
  {
   "cell_type": "code",
   "execution_count": 45,
   "id": "329b82b2-0a2e-441b-8859-1e155297d63e",
   "metadata": {},
   "outputs": [
    {
     "name": "stdout",
     "output_type": "stream",
     "text": [
      "['hasan', 'rakibul', 'rhs2']\n"
     ]
    }
   ],
   "source": [
    "print(l7)"
   ]
  },
  {
   "cell_type": "code",
   "execution_count": 46,
   "id": "f1cb2248-b9de-4d2b-a93b-9d87600a4cda",
   "metadata": {},
   "outputs": [],
   "source": [
    "#reverse method\n",
    "#by reverse() method we can reverse the whole list but remember list will have to be either full of integer or string value or same types of value\n",
    "l7.reverse()"
   ]
  },
  {
   "cell_type": "code",
   "execution_count": 47,
   "id": "283af03f-36b2-44a9-a944-20ba21b0884a",
   "metadata": {},
   "outputs": [
    {
     "name": "stdout",
     "output_type": "stream",
     "text": [
      "['rhs2', 'rakibul', 'hasan']\n"
     ]
    }
   ],
   "source": [
    "print(l7)"
   ]
  },
  {
   "cell_type": "markdown",
   "id": "c46c8471-51e1-4c4a-a6cc-dfad09da390a",
   "metadata": {},
   "source": [
    "## LIST ASSIGNMENT AND COPYING A LIST\n"
   ]
  },
  {
   "cell_type": "code",
   "execution_count": 48,
   "id": "f563dfcd-ea0d-4bef-bd92-01ffd5428b99",
   "metadata": {},
   "outputs": [
    {
     "data": {
      "text/plain": [
       "[3, 5, 62, 0, 38, 'sium', 5.7]"
      ]
     },
     "execution_count": 48,
     "metadata": {},
     "output_type": "execute_result"
    }
   ],
   "source": [
    "l2"
   ]
  },
  {
   "cell_type": "code",
   "execution_count": 49,
   "id": "27afdb59-1c0e-4ac2-82c5-e9b51ba5e816",
   "metadata": {},
   "outputs": [],
   "source": [
    "l11 = l2 #here we can assign a operator a copying a list "
   ]
  },
  {
   "cell_type": "code",
   "execution_count": 50,
   "id": "a83b0f03-1b37-4d15-ba81-efce606911e1",
   "metadata": {},
   "outputs": [
    {
     "name": "stdout",
     "output_type": "stream",
     "text": [
      "[3, 5, 62, 0, 38, 'sium', 5.7]\n"
     ]
    }
   ],
   "source": [
    "print(l11)"
   ]
  },
  {
   "cell_type": "code",
   "execution_count": 51,
   "id": "0a5f229a-c6e3-4b70-885a-3abecfd51ffb",
   "metadata": {},
   "outputs": [],
   "source": [
    "#now we we change a value from l2\n",
    "l2[2]= 10"
   ]
  },
  {
   "cell_type": "code",
   "execution_count": 52,
   "id": "10b9e515-a8e1-4135-b61e-cd2762198372",
   "metadata": {},
   "outputs": [
    {
     "name": "stdout",
     "output_type": "stream",
     "text": [
      "[3, 5, 10, 0, 38, 'sium', 5.7]\n",
      "[3, 5, 10, 0, 38, 'sium', 5.7]\n"
     ]
    }
   ],
   "source": [
    "print(l2)\n",
    "print(l11)"
   ]
  },
  {
   "cell_type": "code",
   "execution_count": 53,
   "id": "e0fdabd2-6cfa-4f6d-9571-e141a943bd1a",
   "metadata": {},
   "outputs": [],
   "source": [
    "l11[2] = 15"
   ]
  },
  {
   "cell_type": "code",
   "execution_count": 54,
   "id": "124c8993-12ee-4e78-ad61-c0e9b069f8b8",
   "metadata": {},
   "outputs": [
    {
     "name": "stdout",
     "output_type": "stream",
     "text": [
      "[3, 5, 15, 0, 38, 'sium', 5.7]\n",
      "[3, 5, 15, 0, 38, 'sium', 5.7]\n"
     ]
    }
   ],
   "source": [
    "print(l2)\n",
    "print(l11)"
   ]
  },
  {
   "cell_type": "code",
   "execution_count": 55,
   "id": "fc9d74a5-a73c-44d3-91d9-94fd2639c759",
   "metadata": {},
   "outputs": [
    {
     "data": {
      "text/plain": [
       "[3, 5, 15, 0, 38, 'sium', 5.7]"
      ]
     },
     "execution_count": 55,
     "metadata": {},
     "output_type": "execute_result"
    }
   ],
   "source": [
    "l11"
   ]
  },
  {
   "cell_type": "code",
   "execution_count": 56,
   "id": "306af423-c78d-4521-ac50-0f03ab08f98a",
   "metadata": {},
   "outputs": [],
   "source": [
    "l11[0] = 11 #in here as you see if we change one value from any list both l2 and l11 will be changed"
   ]
  },
  {
   "cell_type": "code",
   "execution_count": 57,
   "id": "49ad007d-c032-4de1-b523-4623a48b154a",
   "metadata": {},
   "outputs": [
    {
     "data": {
      "text/plain": [
       "[11, 5, 15, 0, 38, 'sium', 5.7]"
      ]
     },
     "execution_count": 57,
     "metadata": {},
     "output_type": "execute_result"
    }
   ],
   "source": [
    "l11"
   ]
  },
  {
   "cell_type": "code",
   "execution_count": 58,
   "id": "e77cd9ee-7e01-4eb3-8e26-683d5c9bc4f1",
   "metadata": {},
   "outputs": [
    {
     "data": {
      "text/plain": [
       "[11, 5, 15, 0, 38, 'sium', 5.7]"
      ]
     },
     "execution_count": 58,
     "metadata": {},
     "output_type": "execute_result"
    }
   ],
   "source": [
    "l2"
   ]
  },
  {
   "cell_type": "code",
   "execution_count": 59,
   "id": "3cce4779-3dc4-4aec-aed9-1adf3afd9f5e",
   "metadata": {},
   "outputs": [],
   "source": [
    "#with the list constructor we can copy a list too \n",
    "#this is the best way to copying a list to work with\n",
    "l12 = list(l11)"
   ]
  },
  {
   "cell_type": "code",
   "execution_count": 60,
   "id": "1f54200f-1648-4e80-b38e-88bcaf82deaa",
   "metadata": {},
   "outputs": [
    {
     "name": "stdout",
     "output_type": "stream",
     "text": [
      "[11, 5, 15, 0, 38, 'sium', 5.7]\n"
     ]
    }
   ],
   "source": [
    "print(l12)"
   ]
  },
  {
   "cell_type": "code",
   "execution_count": 61,
   "id": "c47fcc30-b159-4f3f-aa8f-5a2f3bb42bdb",
   "metadata": {},
   "outputs": [],
   "source": [
    "l11[0]=100"
   ]
  },
  {
   "cell_type": "code",
   "execution_count": 62,
   "id": "038bce5a-de03-4e8d-aca0-4f262dae0cf8",
   "metadata": {},
   "outputs": [
    {
     "data": {
      "text/plain": [
       "[100, 5, 15, 0, 38, 'sium', 5.7]"
      ]
     },
     "execution_count": 62,
     "metadata": {},
     "output_type": "execute_result"
    }
   ],
   "source": [
    "l11"
   ]
  },
  {
   "cell_type": "code",
   "execution_count": 63,
   "id": "faa60579-f25f-4c60-9d17-a9ea5abc2aaf",
   "metadata": {},
   "outputs": [
    {
     "name": "stdout",
     "output_type": "stream",
     "text": [
      "[11, 5, 15, 0, 38, 'sium', 5.7]\n"
     ]
    }
   ],
   "source": [
    "print(l12) #see even we change a value in l11 it does not change anything in l12"
   ]
  },
  {
   "cell_type": "code",
   "execution_count": 64,
   "id": "616bb4d9-c03c-4d7b-b9c4-20cb4a6b1e51",
   "metadata": {},
   "outputs": [],
   "source": [
    "#instead of value we can also assign a list by using statement for loop\n",
    "#we can use range() function to declare the value range from what to what\n",
    "l14 = [x**2 for x in range(1,6)]"
   ]
  },
  {
   "cell_type": "code",
   "execution_count": 65,
   "id": "2e71a4dc-89a1-4e64-b5be-df2095a9d79b",
   "metadata": {},
   "outputs": [
    {
     "data": {
      "text/plain": [
       "[1, 4, 9, 16, 25]"
      ]
     },
     "execution_count": 65,
     "metadata": {},
     "output_type": "execute_result"
    }
   ],
   "source": [
    "l14"
   ]
  },
  {
   "cell_type": "code",
   "execution_count": 67,
   "id": "3f9f6b31-4217-4fd6-b0d3-0a0d4f579b18",
   "metadata": {},
   "outputs": [],
   "source": [
    "l15 = [x**3 for x in [1,4,6,7,8]]"
   ]
  },
  {
   "cell_type": "code",
   "execution_count": 68,
   "id": "ba3846b7-b12d-4f81-afad-ab60c194e455",
   "metadata": {},
   "outputs": [
    {
     "data": {
      "text/plain": [
       "[1, 64, 216, 343, 512]"
      ]
     },
     "execution_count": 68,
     "metadata": {},
     "output_type": "execute_result"
    }
   ],
   "source": [
    "l15"
   ]
  },
  {
   "cell_type": "markdown",
   "id": "010a0109-3bc1-4d8f-a5ae-e328b43d4bd4",
   "metadata": {},
   "source": [
    "## SORTING METHOD\n",
    "-here in the python there are 2 sorting method which we use\n",
    "1. sort() method- used for list-it only works for list\n",
    "2. sorted()"
   ]
  },
  {
   "cell_type": "code",
   "execution_count": 70,
   "id": "b02a932b-f947-4bd6-9768-d993f45909fe",
   "metadata": {},
   "outputs": [],
   "source": [
    "#1. sort()\n",
    "l15\n",
    "l15.sort(reverse=True)"
   ]
  },
  {
   "cell_type": "code",
   "execution_count": 71,
   "id": "7cd77549-889e-4f6d-853c-2eb22c38183b",
   "metadata": {},
   "outputs": [
    {
     "data": {
      "text/plain": [
       "[512, 343, 216, 64, 1]"
      ]
     },
     "execution_count": 71,
     "metadata": {},
     "output_type": "execute_result"
    }
   ],
   "source": [
    "l15"
   ]
  },
  {
   "cell_type": "code",
   "execution_count": 82,
   "id": "123cdb23-51d4-4e3d-89a6-97db7b430470",
   "metadata": {},
   "outputs": [
    {
     "name": "stdout",
     "output_type": "stream",
     "text": [
      "[2, 4, 5, 7, 25, 32, 73, 89]\n"
     ]
    }
   ],
   "source": [
    "l6.sort()"
   ]
  },
  {
   "cell_type": "code",
   "execution_count": 81,
   "id": "c57d1ee9-183e-4dee-83f0-1cc8713c62ae",
   "metadata": {},
   "outputs": [
    {
     "name": "stdout",
     "output_type": "stream",
     "text": [
      "[2, 4, 5, 7, 25, 32, 73, 89]\n"
     ]
    }
   ],
   "source": [
    "print(l6)"
   ]
  },
  {
   "cell_type": "code",
   "execution_count": 85,
   "id": "cf8ae774-9981-44ed-a1c2-66806b030033",
   "metadata": {},
   "outputs": [],
   "source": [
    "t12 = (3,5,7,2,3,34,23,4,64,799,54,567,9)"
   ]
  },
  {
   "cell_type": "code",
   "execution_count": 87,
   "id": "8bab5e62-d8a5-486b-a38e-fc29e5ca07d5",
   "metadata": {},
   "outputs": [
    {
     "name": "stdout",
     "output_type": "stream",
     "text": [
      "Help on class list in module builtins:\n",
      "\n",
      "class list(object)\n",
      " |  list(iterable=(), /)\n",
      " |  \n",
      " |  Built-in mutable sequence.\n",
      " |  \n",
      " |  If no argument is given, the constructor creates a new empty list.\n",
      " |  The argument must be an iterable if specified.\n",
      " |  \n",
      " |  Methods defined here:\n",
      " |  \n",
      " |  __add__(self, value, /)\n",
      " |      Return self+value.\n",
      " |  \n",
      " |  __contains__(self, key, /)\n",
      " |      Return key in self.\n",
      " |  \n",
      " |  __delitem__(self, key, /)\n",
      " |      Delete self[key].\n",
      " |  \n",
      " |  __eq__(self, value, /)\n",
      " |      Return self==value.\n",
      " |  \n",
      " |  __ge__(self, value, /)\n",
      " |      Return self>=value.\n",
      " |  \n",
      " |  __getattribute__(self, name, /)\n",
      " |      Return getattr(self, name).\n",
      " |  \n",
      " |  __getitem__(...)\n",
      " |      x.__getitem__(y) <==> x[y]\n",
      " |  \n",
      " |  __gt__(self, value, /)\n",
      " |      Return self>value.\n",
      " |  \n",
      " |  __iadd__(self, value, /)\n",
      " |      Implement self+=value.\n",
      " |  \n",
      " |  __imul__(self, value, /)\n",
      " |      Implement self*=value.\n",
      " |  \n",
      " |  __init__(self, /, *args, **kwargs)\n",
      " |      Initialize self.  See help(type(self)) for accurate signature.\n",
      " |  \n",
      " |  __iter__(self, /)\n",
      " |      Implement iter(self).\n",
      " |  \n",
      " |  __le__(self, value, /)\n",
      " |      Return self<=value.\n",
      " |  \n",
      " |  __len__(self, /)\n",
      " |      Return len(self).\n",
      " |  \n",
      " |  __lt__(self, value, /)\n",
      " |      Return self<value.\n",
      " |  \n",
      " |  __mul__(self, value, /)\n",
      " |      Return self*value.\n",
      " |  \n",
      " |  __ne__(self, value, /)\n",
      " |      Return self!=value.\n",
      " |  \n",
      " |  __repr__(self, /)\n",
      " |      Return repr(self).\n",
      " |  \n",
      " |  __reversed__(self, /)\n",
      " |      Return a reverse iterator over the list.\n",
      " |  \n",
      " |  __rmul__(self, value, /)\n",
      " |      Return value*self.\n",
      " |  \n",
      " |  __setitem__(self, key, value, /)\n",
      " |      Set self[key] to value.\n",
      " |  \n",
      " |  __sizeof__(self, /)\n",
      " |      Return the size of the list in memory, in bytes.\n",
      " |  \n",
      " |  append(self, object, /)\n",
      " |      Append object to the end of the list.\n",
      " |  \n",
      " |  clear(self, /)\n",
      " |      Remove all items from list.\n",
      " |  \n",
      " |  copy(self, /)\n",
      " |      Return a shallow copy of the list.\n",
      " |  \n",
      " |  count(self, value, /)\n",
      " |      Return number of occurrences of value.\n",
      " |  \n",
      " |  extend(self, iterable, /)\n",
      " |      Extend list by appending elements from the iterable.\n",
      " |  \n",
      " |  index(self, value, start=0, stop=9223372036854775807, /)\n",
      " |      Return first index of value.\n",
      " |      \n",
      " |      Raises ValueError if the value is not present.\n",
      " |  \n",
      " |  insert(self, index, object, /)\n",
      " |      Insert object before index.\n",
      " |  \n",
      " |  pop(self, index=-1, /)\n",
      " |      Remove and return item at index (default last).\n",
      " |      \n",
      " |      Raises IndexError if list is empty or index is out of range.\n",
      " |  \n",
      " |  remove(self, value, /)\n",
      " |      Remove first occurrence of value.\n",
      " |      \n",
      " |      Raises ValueError if the value is not present.\n",
      " |  \n",
      " |  reverse(self, /)\n",
      " |      Reverse *IN PLACE*.\n",
      " |  \n",
      " |  sort(self, /, *, key=None, reverse=False)\n",
      " |      Sort the list in ascending order and return None.\n",
      " |      \n",
      " |      The sort is in-place (i.e. the list itself is modified) and stable (i.e. the\n",
      " |      order of two equal elements is maintained).\n",
      " |      \n",
      " |      If a key function is given, apply it once to each list item and sort them,\n",
      " |      ascending or descending, according to their function values.\n",
      " |      \n",
      " |      The reverse flag can be set to sort in descending order.\n",
      " |  \n",
      " |  ----------------------------------------------------------------------\n",
      " |  Class methods defined here:\n",
      " |  \n",
      " |  __class_getitem__(...) from builtins.type\n",
      " |      See PEP 585\n",
      " |  \n",
      " |  ----------------------------------------------------------------------\n",
      " |  Static methods defined here:\n",
      " |  \n",
      " |  __new__(*args, **kwargs) from builtins.type\n",
      " |      Create and return a new object.  See help(type) for accurate signature.\n",
      " |  \n",
      " |  ----------------------------------------------------------------------\n",
      " |  Data and other attributes defined here:\n",
      " |  \n",
      " |  __hash__ = None\n",
      "\n"
     ]
    }
   ],
   "source": [
    "help(list) #thats how we find out the list documentation"
   ]
  },
  {
   "cell_type": "code",
   "execution_count": 89,
   "id": "10fed415-1e66-4080-a73e-46aa72884a1a",
   "metadata": {},
   "outputs": [],
   "source": [
    "list16 = [\"aa\", 'bbb', 'ddd', 'xxx', 'lll', 'ccc']\n",
    "list16.sort() #sorted list"
   ]
  },
  {
   "cell_type": "code",
   "execution_count": 90,
   "id": "49eea870-3b16-49f5-8330-ea9bf7b03f3f",
   "metadata": {},
   "outputs": [
    {
     "data": {
      "text/plain": [
       "['aa', 'bbb', 'ccc', 'ddd', 'lll', 'xxx']"
      ]
     },
     "execution_count": 90,
     "metadata": {},
     "output_type": "execute_result"
    }
   ],
   "source": [
    "list16"
   ]
  },
  {
   "cell_type": "code",
   "execution_count": 95,
   "id": "c38c225f-b0ec-4734-995e-ddcacaf5c293",
   "metadata": {},
   "outputs": [
    {
     "name": "stdout",
     "output_type": "stream",
     "text": [
      "['xxx', 'lll', 'ddd', 'ccc', 'bbb', 'aa']\n"
     ]
    }
   ],
   "source": [
    "list16.sort(reverse = True)\n",
    "print(list16)"
   ]
  },
  {
   "cell_type": "code",
   "execution_count": 97,
   "id": "33f37317-c3cd-4321-a696-8425767fc613",
   "metadata": {},
   "outputs": [
    {
     "name": "stdout",
     "output_type": "stream",
     "text": [
      "['a', 'bde', 'dhdhd', 'xhdgsts']\n"
     ]
    }
   ],
   "source": [
    "l16 = ['a', 'bde','dhdhd' ,'xhdgsts']\n",
    "l16.sort(key =len) #using len in the key to sort the list with length\n",
    "print(l16)"
   ]
  },
  {
   "cell_type": "code",
   "execution_count": 99,
   "id": "7769fac2-397d-4dfb-8699-794f02439a51",
   "metadata": {},
   "outputs": [
    {
     "name": "stdout",
     "output_type": "stream",
     "text": [
      "[[2, 4, 9], [3, 5, 7], [20, 40, 5]]\n"
     ]
    }
   ],
   "source": [
    "l17 =[[3,5,7], [2,4,9], [20,40,5]]\n",
    "l17.sort() #sorted with smaller number\n",
    "print(l17)"
   ]
  },
  {
   "cell_type": "code",
   "execution_count": 102,
   "id": "9689d783-f146-4fc4-b597-e9c1901393c8",
   "metadata": {},
   "outputs": [
    {
     "name": "stdout",
     "output_type": "stream",
     "text": [
      "[[2, 4, 9], [3, 5, 7], [20, 40, 5]]\n"
     ]
    }
   ],
   "source": [
    "#now if we want to sort it with the second number\n",
    "def sortbysec(value):\n",
    "    return value[1]\n",
    "l17.sort(key = sortbysec) #here you can see with the second element we sorted the list\n",
    "print(l17)"
   ]
  },
  {
   "cell_type": "markdown",
   "id": "52efc078-b4d1-4dca-9c73-475c58a696d8",
   "metadata": {},
   "source": [
    "## SORTED FUNCTION\n",
    "- sort method only works for list because it is a method for list\n",
    "- but with sorted() function we can sorted tuple and dictionaries and list too"
   ]
  },
  {
   "cell_type": "code",
   "execution_count": 103,
   "id": "c752eaa2-2253-4d55-83e0-2d0bbb5bfa6e",
   "metadata": {},
   "outputs": [
    {
     "name": "stdout",
     "output_type": "stream",
     "text": [
      "Help on built-in function sorted in module builtins:\n",
      "\n",
      "sorted(iterable, /, *, key=None, reverse=False)\n",
      "    Return a new list containing all items from the iterable in ascending order.\n",
      "    \n",
      "    A custom key function can be supplied to customize the sort order, and the\n",
      "    reverse flag can be set to request the result in descending order.\n",
      "\n"
     ]
    }
   ],
   "source": [
    "help(sorted)"
   ]
  },
  {
   "cell_type": "code",
   "execution_count": 115,
   "id": "6f98c74d-9479-4a1c-b4ad-fcc45d6dfe7f",
   "metadata": {},
   "outputs": [],
   "source": [
    "l18= [3,23,5,7,83,566,34,6,784,35]\n",
    "t14= (399,4,5,666,2,44,63,778)\n",
    "d1= {34: \"s\", 46:\"a\", 3: \"i\", 56:'r'}\n"
   ]
  },
  {
   "cell_type": "code",
   "execution_count": 106,
   "id": "86b9f58c-0d8f-486f-b104-d800c9e3cb7e",
   "metadata": {},
   "outputs": [
    {
     "data": {
      "text/plain": [
       "[3, 5, 6, 7, 23, 34, 35, 83, 566, 784]"
      ]
     },
     "execution_count": 106,
     "metadata": {},
     "output_type": "execute_result"
    }
   ],
   "source": [
    "sorted(l18)"
   ]
  },
  {
   "cell_type": "code",
   "execution_count": 107,
   "id": "451a0f3b-a33f-4444-b825-ec9c1fb8f711",
   "metadata": {},
   "outputs": [
    {
     "data": {
      "text/plain": [
       "[2, 4, 5, 44, 63, 399, 666, 778]"
      ]
     },
     "execution_count": 107,
     "metadata": {},
     "output_type": "execute_result"
    }
   ],
   "source": [
    "sorted(t14)\n"
   ]
  },
  {
   "cell_type": "code",
   "execution_count": 111,
   "id": "7bed993d-3a42-4c7a-9362-8b1b56ff1fb2",
   "metadata": {},
   "outputs": [
    {
     "data": {
      "text/plain": [
       "[3, 34, 46, 56]"
      ]
     },
     "execution_count": 111,
     "metadata": {},
     "output_type": "execute_result"
    }
   ],
   "source": [
    "sorted(d1)"
   ]
  },
  {
   "cell_type": "code",
   "execution_count": 112,
   "id": "19e0bca4-c2e2-4ddc-ba0f-eaf3625c6e61",
   "metadata": {},
   "outputs": [
    {
     "data": {
      "text/plain": [
       "[778, 666, 399, 63, 44, 5, 4, 2]"
      ]
     },
     "execution_count": 112,
     "metadata": {},
     "output_type": "execute_result"
    }
   ],
   "source": [
    "sorted(t14, reverse = True)"
   ]
  },
  {
   "cell_type": "code",
   "execution_count": 116,
   "id": "e2eec8b1-19f4-49f1-bbc9-38fd4363d27e",
   "metadata": {},
   "outputs": [
    {
     "data": {
      "text/plain": [
       "['a', 'i', 'r', 's']"
      ]
     },
     "execution_count": 116,
     "metadata": {},
     "output_type": "execute_result"
    }
   ],
   "source": [
    "sorted(d1.values()) #thats how we get sorted values "
   ]
  },
  {
   "cell_type": "code",
   "execution_count": 117,
   "id": "e98d7f6a-18f9-4152-899e-5643f3cf596a",
   "metadata": {},
   "outputs": [
    {
     "data": {
      "text/plain": [
       "[(3, 'i'), (34, 's'), (46, 'a'), (56, 'r')]"
      ]
     },
     "execution_count": 117,
     "metadata": {},
     "output_type": "execute_result"
    }
   ],
   "source": [
    "sorted(d1.items()) #to get keys and value in tuple form dictionaries"
   ]
  },
  {
   "cell_type": "code",
   "execution_count": 119,
   "id": "25a9b3f1-122d-4fba-b012-0d42a0a9dff3",
   "metadata": {},
   "outputs": [
    {
     "data": {
      "text/plain": [
       "[(46, 'a'), (3, 'i'), (56, 'r'), (34, 's')]"
      ]
     },
     "execution_count": 119,
     "metadata": {},
     "output_type": "execute_result"
    }
   ],
   "source": [
    "sorted(d1.items(), key = lambda x:x[1]) #sorted by values and it will give list of tuples"
   ]
  },
  {
   "cell_type": "code",
   "execution_count": 120,
   "id": "8c51f4b7-dfcb-427e-a9e1-64e7f60f442c",
   "metadata": {},
   "outputs": [
    {
     "data": {
      "text/plain": [
       "[(10, 4), (4, 29), (28, 49), (29, 50)]"
      ]
     },
     "execution_count": 120,
     "metadata": {},
     "output_type": "execute_result"
    }
   ],
   "source": [
    "#use sorted function by sort by the second value\n",
    "def sortbysec(value):\n",
    "    return value[1]\n",
    "tuple20=((10,4), (29,50), (28,49),(4,29))\n",
    "sorted(tuple20, key = sortbysec)\n"
   ]
  },
  {
   "cell_type": "code",
   "execution_count": null,
   "id": "c117aff0-5991-4f0f-a3ab-eae21ef03d6a",
   "metadata": {},
   "outputs": [],
   "source": []
  },
  {
   "cell_type": "markdown",
   "id": "cf008b26-fb81-416b-a006-fe533bd5a84c",
   "metadata": {},
   "source": [
    "## SEQUENCES \n",
    "- the list, tuple, string are called as sequences\n",
    "1. lenght - len()\n",
    "2. select\n",
    "3. slice\n",
    "4. count\n",
    "5. index\n",
    "6. membership\n",
    "7. concatenation\n",
    "8. min value\n",
    "9. max value\n",
    "10. sum"
   ]
  },
  {
   "cell_type": "code",
   "execution_count": null,
   "id": "46b127ec-b90d-4d67-a7d4-09626f6fc675",
   "metadata": {},
   "outputs": [],
   "source": []
  },
  {
   "cell_type": "code",
   "execution_count": 48,
   "id": "07f4d1ad-76a6-42ea-a5fd-a7e2c31c1b9f",
   "metadata": {},
   "outputs": [
    {
     "name": "stdout",
     "output_type": "stream",
     "text": [
      "16\n",
      "9\n",
      "6\n"
     ]
    }
   ],
   "source": [
    "#1. length- len() function, we can find out the lenght from the list, tuple or string\n",
    "\n",
    "s1 = \"siumrakibulhasan\"\n",
    "l10= [4,6,3,8,23,69,46,300,59]\n",
    "t10=(2,4,6,8,39,50)\n",
    "print(len(s1))\n",
    "print(len(l10))\n",
    "print(len(t10))"
   ]
  },
  {
   "cell_type": "code",
   "execution_count": 49,
   "id": "2fc641c3-e81c-498e-bf7e-57d7a8cfb78c",
   "metadata": {},
   "outputs": [
    {
     "name": "stdout",
     "output_type": "stream",
     "text": [
      "s\n",
      "8\n",
      "300\n"
     ]
    }
   ],
   "source": [
    "#2. SELECT SEQUENCE\n",
    "#by indexing we can select any value from the list, tuple or string\n",
    "#by indexing we can select an indivisual value from list, tuple or string\n",
    "\n",
    "print(s1[0]) #here from the string we will get the first index value\n",
    "\n",
    "print(t10[3]) #here we will get index 3 position value\n",
    "\n",
    "print(l10[7]) #here we get index 7 position value"
   ]
  },
  {
   "cell_type": "code",
   "execution_count": 50,
   "id": "5b6de4d7-dd7e-49f6-a262-e26506b455b5",
   "metadata": {},
   "outputs": [
    {
     "name": "stdout",
     "output_type": "stream",
     "text": [
      "(2, 4, 6, 8, 39, 50)\n"
     ]
    },
    {
     "data": {
      "text/plain": [
       "(4, 6)"
      ]
     },
     "execution_count": 50,
     "metadata": {},
     "output_type": "execute_result"
    }
   ],
   "source": [
    "#3. SLICE \n",
    "#by slicing we can take a part of the list or part of the tuple \n",
    "print(t10)\n",
    "t10[1:3] #including index 1 but excluding last index"
   ]
  },
  {
   "cell_type": "code",
   "execution_count": 51,
   "id": "c0cfaf3d-4c20-44c6-8d33-2ef782772159",
   "metadata": {},
   "outputs": [
    {
     "name": "stdout",
     "output_type": "stream",
     "text": [
      "[3, 8, 23, 69, 46, 300, 59]\n"
     ]
    }
   ],
   "source": [
    "#take the value from 3 to end\n",
    "print(l10[2:]) #here if we want to take to the end then empty the second slicing index\n"
   ]
  },
  {
   "cell_type": "code",
   "execution_count": 52,
   "id": "0a9dd713-fabe-4a0c-8316-e8e313d2ea42",
   "metadata": {},
   "outputs": [
    {
     "data": {
      "text/plain": [
       "[23, 69]"
      ]
     },
     "execution_count": 52,
     "metadata": {},
     "output_type": "execute_result"
    }
   ],
   "source": [
    "l10[4:6]"
   ]
  },
  {
   "cell_type": "code",
   "execution_count": 53,
   "id": "73e6be8a-ff2f-4890-9739-29996974b50c",
   "metadata": {},
   "outputs": [
    {
     "data": {
      "text/plain": [
       "[4, 6, 3, 8, 23, 69, 46, 300, 59]"
      ]
     },
     "execution_count": 53,
     "metadata": {},
     "output_type": "execute_result"
    }
   ],
   "source": [
    "l10"
   ]
  },
  {
   "cell_type": "code",
   "execution_count": 54,
   "id": "9460944d-296e-477a-b63f-dfeeda62ea21",
   "metadata": {},
   "outputs": [
    {
     "name": "stdout",
     "output_type": "stream",
     "text": [
      "sium\n"
     ]
    }
   ],
   "source": [
    "print(s1[0:4]) #from the string i slice my nick name"
   ]
  },
  {
   "cell_type": "code",
   "execution_count": 55,
   "id": "d222b46d-2785-4ceb-9404-79a7f1624497",
   "metadata": {},
   "outputs": [
    {
     "name": "stdout",
     "output_type": "stream",
     "text": [
      "siumra\n"
     ]
    }
   ],
   "source": [
    "#if we want to start from the begin and end it at index 5 then either we take 0 in the index or empty index \n",
    "print(s1[:6]) #[0:6] means including 0 and exclusing 6"
   ]
  },
  {
   "cell_type": "code",
   "execution_count": 56,
   "id": "345c20cd-6474-44f0-8657-e143342f22bc",
   "metadata": {},
   "outputs": [
    {
     "data": {
      "text/plain": [
       "(2, 4, 6, 8, 39, 50)"
      ]
     },
     "execution_count": 56,
     "metadata": {},
     "output_type": "execute_result"
    }
   ],
   "source": [
    "#4. COUNT OPERATION\n",
    "#with count we can check how many same value stored in there \n",
    "t10"
   ]
  },
  {
   "cell_type": "code",
   "execution_count": 61,
   "id": "920aeffd-5d6c-42e0-af1b-74e5572ed19b",
   "metadata": {},
   "outputs": [
    {
     "name": "stdout",
     "output_type": "stream",
     "text": [
      "2\n",
      "1\n"
     ]
    }
   ],
   "source": [
    "print(s1.count('s'))\n",
    "print(t10.count(6))"
   ]
  },
  {
   "cell_type": "code",
   "execution_count": 62,
   "id": "41c9e5c4-8ca9-47d7-b8a3-cc87dce4f520",
   "metadata": {},
   "outputs": [
    {
     "data": {
      "text/plain": [
       "5"
      ]
     },
     "execution_count": 62,
     "metadata": {},
     "output_type": "execute_result"
    }
   ],
   "source": [
    "#5. INDEX\n",
    "#with index() method we can find out the index of a value in the list, tuple or string\n",
    "t10.index(50) #index of 50"
   ]
  },
  {
   "cell_type": "code",
   "execution_count": 64,
   "id": "c5883a53-78da-4650-82b5-e5b083862da8",
   "metadata": {},
   "outputs": [
    {
     "data": {
      "text/plain": [
       "0"
      ]
     },
     "execution_count": 64,
     "metadata": {},
     "output_type": "execute_result"
    }
   ],
   "source": [
    "s1.index(\"s\") #index of s "
   ]
  },
  {
   "cell_type": "code",
   "execution_count": 65,
   "id": "ee7ea20f-056c-4bb7-a6dc-496b77b131ea",
   "metadata": {},
   "outputs": [
    {
     "data": {
      "text/plain": [
       "4"
      ]
     },
     "execution_count": 65,
     "metadata": {},
     "output_type": "execute_result"
    }
   ],
   "source": [
    "t10.index(39)"
   ]
  },
  {
   "cell_type": "code",
   "execution_count": 66,
   "id": "0461434f-30b5-49ae-8505-0fac865175c6",
   "metadata": {},
   "outputs": [
    {
     "data": {
      "text/plain": [
       "False"
      ]
     },
     "execution_count": 66,
     "metadata": {},
     "output_type": "execute_result"
    }
   ],
   "source": [
    "#6. MEMBERSHIP \n",
    "#to check if any value has available in the list or tuple or string, it will give true or false result\n",
    "\"s\" not in s1"
   ]
  },
  {
   "cell_type": "code",
   "execution_count": 67,
   "id": "50fa0591-ae70-45ed-a9e3-dd4d9107faa0",
   "metadata": {},
   "outputs": [
    {
     "data": {
      "text/plain": [
       "True"
      ]
     },
     "execution_count": 67,
     "metadata": {},
     "output_type": "execute_result"
    }
   ],
   "source": [
    "\"s\" in s1 #because \"s\" is present"
   ]
  },
  {
   "cell_type": "code",
   "execution_count": 68,
   "id": "41769f5d-a842-45d1-865f-3066413693ef",
   "metadata": {},
   "outputs": [
    {
     "data": {
      "text/plain": [
       "False"
      ]
     },
     "execution_count": 68,
     "metadata": {},
     "output_type": "execute_result"
    }
   ],
   "source": [
    "50 in l10"
   ]
  },
  {
   "cell_type": "code",
   "execution_count": 69,
   "id": "e7aea2a1-0f22-499c-a4d8-a1974b6d04d5",
   "metadata": {},
   "outputs": [
    {
     "data": {
      "text/plain": [
       "False"
      ]
     },
     "execution_count": 69,
     "metadata": {},
     "output_type": "execute_result"
    }
   ],
   "source": [
    "400 in t10"
   ]
  },
  {
   "cell_type": "code",
   "execution_count": 70,
   "id": "94206e00-d6ad-46c7-8f1c-d3c2a52fca1b",
   "metadata": {},
   "outputs": [
    {
     "data": {
      "text/plain": [
       "True"
      ]
     },
     "execution_count": 70,
     "metadata": {},
     "output_type": "execute_result"
    }
   ],
   "source": [
    "400 not in t10"
   ]
  },
  {
   "cell_type": "code",
   "execution_count": 71,
   "id": "5e9e91bb-b679-4983-b552-ab3fe6fd89be",
   "metadata": {},
   "outputs": [
    {
     "name": "stdout",
     "output_type": "stream",
     "text": [
      "sium rakibul hasan\n"
     ]
    }
   ],
   "source": [
    "#7. CONCATENATION\n",
    "#we can concat the same types of data together \n",
    "s2= \"sium\"\n",
    "s3= \" rakibul hasan\"\n",
    "print(s2+s3)"
   ]
  },
  {
   "cell_type": "code",
   "execution_count": 75,
   "id": "c9ae9e4e-7c85-4020-a30b-fcc878a7b220",
   "metadata": {},
   "outputs": [
    {
     "name": "stdout",
     "output_type": "stream",
     "text": [
      "sium4\n"
     ]
    }
   ],
   "source": [
    "#we can not join two different data types unless we mention it like a str or integer but it has to be tuple to tuple, list to list, or string to string\n",
    "s4= 4\n",
    "print(s2+ str(s4)) #here we can join two different data types if we mention it in same data types. here s4 works like a str value because i mentioned it. "
   ]
  },
  {
   "cell_type": "code",
   "execution_count": 76,
   "id": "f58301d8-8b65-4c78-9a84-73155530acf7",
   "metadata": {},
   "outputs": [
    {
     "name": "stdout",
     "output_type": "stream",
     "text": [
      "[3, 5, 62, 0, 38, 'sium', 5.7]\n"
     ]
    }
   ],
   "source": [
    "#we can join 2 different list or tuple also\n",
    "print(l1+l2)"
   ]
  },
  {
   "cell_type": "code",
   "execution_count": 78,
   "id": "a5d3e4eb-d4e2-4cbd-839c-92f25b3bad21",
   "metadata": {},
   "outputs": [
    {
     "name": "stdout",
     "output_type": "stream",
     "text": [
      "(49, 6, 2, 'sium', 2, 4, 6, 8, 39, 50)\n"
     ]
    }
   ],
   "source": [
    "t9 =(49,6,2,\"sium\")\n",
    "print(t9+t10)"
   ]
  },
  {
   "cell_type": "code",
   "execution_count": 81,
   "id": "683eac1b-3c2c-478b-8ccd-f16c44788a38",
   "metadata": {},
   "outputs": [
    {
     "data": {
      "text/plain": [
       "'a'"
      ]
     },
     "execution_count": 81,
     "metadata": {},
     "output_type": "execute_result"
    }
   ],
   "source": [
    "#8. MIN VALUE\n",
    "min(s1) #thats how we check the min value from a string-it is alphabetical order"
   ]
  },
  {
   "cell_type": "code",
   "execution_count": 80,
   "id": "47e55efd-ede6-4d62-97e9-8e6c80cd6e5b",
   "metadata": {},
   "outputs": [
    {
     "data": {
      "text/plain": [
       "'siumrakibulhasan'"
      ]
     },
     "execution_count": 80,
     "metadata": {},
     "output_type": "execute_result"
    }
   ],
   "source": [
    "s1"
   ]
  },
  {
   "cell_type": "code",
   "execution_count": 84,
   "id": "0cf76ed0-8580-445a-aa60-77ef2d32db0c",
   "metadata": {},
   "outputs": [
    {
     "name": "stdout",
     "output_type": "stream",
     "text": [
      "[4, 6, 3, 8, 23, 69, 46, 300, 59]\n",
      "3\n"
     ]
    }
   ],
   "source": [
    "print(l10)\n",
    "print(min(l10)) #here you see the minimum value in the list \n"
   ]
  },
  {
   "cell_type": "code",
   "execution_count": 85,
   "id": "46e6b91d-31fb-40a5-bed0-014a59bd4a7e",
   "metadata": {},
   "outputs": [
    {
     "data": {
      "text/plain": [
       "'u'"
      ]
     },
     "execution_count": 85,
     "metadata": {},
     "output_type": "execute_result"
    }
   ],
   "source": [
    "#MAX VALUE\n",
    "#it will return the max value alphabetical order in the string\n",
    "max(s1)"
   ]
  },
  {
   "cell_type": "code",
   "execution_count": 86,
   "id": "601b40a8-1367-4660-a546-935a25d8196d",
   "metadata": {},
   "outputs": [
    {
     "data": {
      "text/plain": [
       "50"
      ]
     },
     "execution_count": 86,
     "metadata": {},
     "output_type": "execute_result"
    }
   ],
   "source": [
    "max(t10) #from the tuple max value"
   ]
  },
  {
   "cell_type": "code",
   "execution_count": 87,
   "id": "5f968a26-719a-4fea-9739-cc89ede49555",
   "metadata": {},
   "outputs": [
    {
     "data": {
      "text/plain": [
       "(2, 4, 6, 8, 39, 50)"
      ]
     },
     "execution_count": 87,
     "metadata": {},
     "output_type": "execute_result"
    }
   ],
   "source": [
    "t10 #here is the tuple"
   ]
  },
  {
   "cell_type": "code",
   "execution_count": 89,
   "id": "8370032a-f596-4830-874e-3971d95be73f",
   "metadata": {},
   "outputs": [
    {
     "data": {
      "text/plain": [
       "300"
      ]
     },
     "execution_count": 89,
     "metadata": {},
     "output_type": "execute_result"
    }
   ],
   "source": [
    "max(l10) #max value in the list"
   ]
  },
  {
   "cell_type": "code",
   "execution_count": 90,
   "id": "273480cd-1d8f-4026-b8b0-4d7c65beb8a3",
   "metadata": {},
   "outputs": [
    {
     "data": {
      "text/plain": [
       "[4, 6, 3, 8, 23, 69, 46, 300, 59]"
      ]
     },
     "execution_count": 90,
     "metadata": {},
     "output_type": "execute_result"
    }
   ],
   "source": [
    "l10"
   ]
  },
  {
   "cell_type": "code",
   "execution_count": 91,
   "id": "bc9c487e-e0c6-4999-abee-0059dc715a55",
   "metadata": {},
   "outputs": [
    {
     "data": {
      "text/plain": [
       "[4, 6, 3, 8, 23, 69, 46, 300, 59]"
      ]
     },
     "execution_count": 91,
     "metadata": {},
     "output_type": "execute_result"
    }
   ],
   "source": [
    "#10. SUM\n",
    "# with the sum what we can do is sum up all the integer value of a list or a tuple\n",
    "#we can not use sum for the string\n",
    "l10\n"
   ]
  },
  {
   "cell_type": "code",
   "execution_count": 93,
   "id": "b3e54544-fd78-4fd5-b21e-4d7cdd60e584",
   "metadata": {},
   "outputs": [
    {
     "data": {
      "text/plain": [
       "518"
      ]
     },
     "execution_count": 93,
     "metadata": {},
     "output_type": "execute_result"
    }
   ],
   "source": [
    "sum(l10) #with sum(constructor we can sum them up)"
   ]
  },
  {
   "cell_type": "markdown",
   "id": "ef227dcb-888e-4eb6-a565-9af25a6323d8",
   "metadata": {},
   "source": [
    "## TUPLE\n",
    "- tuples are similar to the list, it contains different data types like list\n",
    "- tuples are immutable, once you created a tuple, you cannot change it, remove anything from it, or add anything new\n",
    "- we can access tuple by indexing"
   ]
  },
  {
   "cell_type": "code",
   "execution_count": 121,
   "id": "590595f4-016c-4ddc-bb3b-cd8de8c79140",
   "metadata": {},
   "outputs": [
    {
     "name": "stdout",
     "output_type": "stream",
     "text": [
      "(30, 4, 6, 73, 68, 35, 100)\n"
     ]
    }
   ],
   "source": [
    "#to create a tuple we can take a variable and assign value within a parenthesis and each value seperated by comma\n",
    "t15 = (30,4,6,73,68,35,100)\n",
    "print(t15)\n"
   ]
  },
  {
   "cell_type": "code",
   "execution_count": 122,
   "id": "26cf384f-2028-44fe-a39e-1679ad964b10",
   "metadata": {},
   "outputs": [
    {
     "name": "stdout",
     "output_type": "stream",
     "text": [
      "<class 'tuple'>\n"
     ]
    }
   ],
   "source": [
    "#to create a empty tuple \n",
    "t16 =()\n",
    "print(type(t16))"
   ]
  },
  {
   "cell_type": "code",
   "execution_count": 123,
   "id": "ade73a7c-e2f9-4a55-a0d8-7f90a32d931d",
   "metadata": {},
   "outputs": [
    {
     "name": "stdout",
     "output_type": "stream",
     "text": [
      "<class 'int'>\n"
     ]
    }
   ],
   "source": [
    "# if we take 1 value inside a tuple then it is not a tuple it is a integer\n",
    "t17 =(19)\n",
    "print(type(t17))\n"
   ]
  },
  {
   "cell_type": "code",
   "execution_count": 124,
   "id": "fc713f0f-47eb-4f6d-a871-8baa1166054e",
   "metadata": {},
   "outputs": [
    {
     "name": "stdout",
     "output_type": "stream",
     "text": [
      "<class 'tuple'>\n"
     ]
    }
   ],
   "source": [
    "#so for creating a tuple with a 1 value we need to use a comma after the value\n",
    "t18 = (10,)\n",
    "print(type(t18))"
   ]
  },
  {
   "cell_type": "code",
   "execution_count": 125,
   "id": "3bbb721b-3397-49e0-ab02-0543c45bc4cb",
   "metadata": {},
   "outputs": [],
   "source": [
    "# we also can create a tuple by using tuple() constructor\n",
    "t19 = tuple()"
   ]
  },
  {
   "cell_type": "code",
   "execution_count": 126,
   "id": "12b26636-0600-4520-83d5-7b70c87c6f5f",
   "metadata": {},
   "outputs": [
    {
     "data": {
      "text/plain": [
       "()"
      ]
     },
     "execution_count": 126,
     "metadata": {},
     "output_type": "execute_result"
    }
   ],
   "source": [
    "t19"
   ]
  },
  {
   "cell_type": "code",
   "execution_count": 127,
   "id": "b0eaa4a8-dcd6-457d-bae9-ce46bb25db10",
   "metadata": {},
   "outputs": [
    {
     "data": {
      "text/plain": [
       "tuple"
      ]
     },
     "execution_count": 127,
     "metadata": {},
     "output_type": "execute_result"
    }
   ],
   "source": [
    "type(t19) #here the type "
   ]
  },
  {
   "cell_type": "code",
   "execution_count": 128,
   "id": "efb9eee9-e772-4ce9-9708-dacafa1565b3",
   "metadata": {},
   "outputs": [
    {
     "data": {
      "text/plain": [
       "(30, 4, 6, 73, 68, 35, 100)"
      ]
     },
     "execution_count": 128,
     "metadata": {},
     "output_type": "execute_result"
    }
   ],
   "source": [
    "#accessing tuple by indexing\n",
    "t15\n"
   ]
  },
  {
   "cell_type": "code",
   "execution_count": 129,
   "id": "5e7732d8-ec59-4f21-9b06-9f028a49667c",
   "metadata": {},
   "outputs": [
    {
     "data": {
      "text/plain": [
       "73"
      ]
     },
     "execution_count": 129,
     "metadata": {},
     "output_type": "execute_result"
    }
   ],
   "source": [
    "t15[3]"
   ]
  },
  {
   "cell_type": "code",
   "execution_count": 130,
   "id": "df8e6eae-72f5-4a9f-860d-03ebc500f926",
   "metadata": {},
   "outputs": [
    {
     "data": {
      "text/plain": [
       "100"
      ]
     },
     "execution_count": 130,
     "metadata": {},
     "output_type": "execute_result"
    }
   ],
   "source": [
    "t15[-1] #accessing the last element"
   ]
  },
  {
   "cell_type": "code",
   "execution_count": 131,
   "id": "0f5f48c0-7a12-420b-b69c-f29488c5703b",
   "metadata": {},
   "outputs": [
    {
     "data": {
      "text/plain": [
       "30"
      ]
     },
     "execution_count": 131,
     "metadata": {},
     "output_type": "execute_result"
    }
   ],
   "source": [
    "t15[0] #accessing the first element"
   ]
  },
  {
   "cell_type": "code",
   "execution_count": 132,
   "id": "8a30c340-e736-4462-a802-9ae66fdf3a36",
   "metadata": {},
   "outputs": [
    {
     "name": "stdout",
     "output_type": "stream",
     "text": [
      "((20, 30, 300, 47, 59), 29, 375, 832)\n"
     ]
    }
   ],
   "source": [
    "#we can make tuple inside a tuple i mean nested tuple\n",
    "t20 = ((20,30,300,47,59), 29,375, 832)\n",
    "print(t20)"
   ]
  },
  {
   "cell_type": "code",
   "execution_count": 133,
   "id": "ec9642d2-9e5f-47f7-9e32-d6f84e25ac5c",
   "metadata": {},
   "outputs": [
    {
     "data": {
      "text/plain": [
       "(20, 30, 300, 47, 59)"
      ]
     },
     "execution_count": 133,
     "metadata": {},
     "output_type": "execute_result"
    }
   ],
   "source": [
    "t20[0] #accessing the nested tuple"
   ]
  },
  {
   "cell_type": "code",
   "execution_count": 134,
   "id": "e06dcb27-d77a-41eb-84dd-8fbfe48cced7",
   "metadata": {},
   "outputs": [
    {
     "data": {
      "text/plain": [
       "30"
      ]
     },
     "execution_count": 134,
     "metadata": {},
     "output_type": "execute_result"
    }
   ],
   "source": [
    "t20[0][1] #accessing the value from nested tuple"
   ]
  },
  {
   "cell_type": "code",
   "execution_count": 135,
   "id": "ff7451a3-500f-46cb-837d-d0f41d2e0416",
   "metadata": {},
   "outputs": [
    {
     "data": {
      "text/plain": [
       "[4, 6, 30, 35, 68, 73, 100]"
      ]
     },
     "execution_count": 135,
     "metadata": {},
     "output_type": "execute_result"
    }
   ],
   "source": [
    "#we cannot use sort() method with tuple \n",
    "#but we can use sorted function with the tuple\n",
    "sorted(t15) #using sorted function"
   ]
  },
  {
   "cell_type": "code",
   "execution_count": 138,
   "id": "6a913892-9547-4af8-ba06-607640c54b5a",
   "metadata": {},
   "outputs": [
    {
     "data": {
      "text/plain": [
       "[100, 73, 68, 35, 30, 6, 4]"
      ]
     },
     "execution_count": 138,
     "metadata": {},
     "output_type": "execute_result"
    }
   ],
   "source": [
    "sorted(t15, reverse= True) #reverse the tuple and sorted method"
   ]
  },
  {
   "cell_type": "code",
   "execution_count": null,
   "id": "18578fdb-f360-43ac-b622-1dedfb33bdb1",
   "metadata": {},
   "outputs": [],
   "source": [
    "#also we can use all the sequences with the tuple\n",
    "# 1. length- len()\n",
    "# 2. select - by indexing\n",
    "# 3. count - to check how many times a value appeared\n",
    "# 4. index - to find the index position\n",
    "# 5. membership- if the value is in tuple or not\n",
    "# 6. slice- we can slice tuple by indexing\n",
    "# 7. concat\n",
    "# 8. min value\n",
    "# 9. max value\n",
    "# 10. sum "
   ]
  }
 ],
 "metadata": {
  "kernelspec": {
   "display_name": "Python 3 (ipykernel)",
   "language": "python",
   "name": "python3"
  },
  "language_info": {
   "codemirror_mode": {
    "name": "ipython",
    "version": 3
   },
   "file_extension": ".py",
   "mimetype": "text/x-python",
   "name": "python",
   "nbconvert_exporter": "python",
   "pygments_lexer": "ipython3",
   "version": "3.9.10"
  }
 },
 "nbformat": 4,
 "nbformat_minor": 5
}
