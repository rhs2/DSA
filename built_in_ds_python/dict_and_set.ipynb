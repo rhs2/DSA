{
 "cells": [
  {
   "cell_type": "markdown",
   "id": "140f2941-322c-4e6a-a95c-7d5deedca60f",
   "metadata": {},
   "source": [
    "## Dictionary in details\n",
    "- dict and set are associated data structure\n",
    "- in dict , there will be keys and value, seperated by comma and enclosed with curly braces and key and value will be seprated by colon"
   ]
  },
  {
   "cell_type": "code",
   "execution_count": 1,
   "id": "f7aaddfc-7f4c-473d-ab83-cf98a1ff1314",
   "metadata": {},
   "outputs": [],
   "source": [
    "#to created a empty dict\n",
    "d1 = {}"
   ]
  },
  {
   "cell_type": "code",
   "execution_count": 3,
   "id": "3ddf7166-1a69-4ef8-b65f-af68f9f822d3",
   "metadata": {},
   "outputs": [
    {
     "data": {
      "text/plain": [
       "dict"
      ]
     },
     "execution_count": 3,
     "metadata": {},
     "output_type": "execute_result"
    }
   ],
   "source": [
    "type(d1) #type of the data"
   ]
  },
  {
   "cell_type": "code",
   "execution_count": 4,
   "id": "7e0e692c-0072-43d0-a614-c2d45353dbcc",
   "metadata": {},
   "outputs": [],
   "source": [
    "#syntax of the dictionary\n",
    "#dict_name = {key:value, key1: value1....}"
   ]
  },
  {
   "cell_type": "code",
   "execution_count": 7,
   "id": "969b15e0-4584-4deb-8712-3256618a363c",
   "metadata": {},
   "outputs": [],
   "source": [
    "d2 = {\"sun\": 75, \"mon\": 80, \"tue\": 45}"
   ]
  },
  {
   "cell_type": "code",
   "execution_count": 6,
   "id": "821a4941-9b3a-41bb-b3c6-41647b1d14e7",
   "metadata": {},
   "outputs": [
    {
     "data": {
      "text/plain": [
       "{'sun': 75, 'mon': 80, 'tues': 45}"
      ]
     },
     "execution_count": 6,
     "metadata": {},
     "output_type": "execute_result"
    }
   ],
   "source": [
    "d2"
   ]
  },
  {
   "cell_type": "code",
   "execution_count": 8,
   "id": "6bd30ccc-92d8-4f2f-8e67-ad58b722bd44",
   "metadata": {},
   "outputs": [
    {
     "data": {
      "text/plain": [
       "dict"
      ]
     },
     "execution_count": 8,
     "metadata": {},
     "output_type": "execute_result"
    }
   ],
   "source": [
    "type(d2)"
   ]
  },
  {
   "cell_type": "code",
   "execution_count": 1,
   "id": "2f89da9d-85da-431c-8bd4-fe3b8f1ea80d",
   "metadata": {},
   "outputs": [],
   "source": [
    "# we also can created a dictionary by dict constructor\n",
    "d3 = dict()"
   ]
  },
  {
   "cell_type": "code",
   "execution_count": 10,
   "id": "0d05294e-080e-4779-a9c2-a0677c98d031",
   "metadata": {},
   "outputs": [
    {
     "data": {
      "text/plain": [
       "dict"
      ]
     },
     "execution_count": 10,
     "metadata": {},
     "output_type": "execute_result"
    }
   ],
   "source": [
    "type(d3)"
   ]
  },
  {
   "cell_type": "code",
   "execution_count": 2,
   "id": "79cc258d-2bdd-46a9-af8a-2921000089c7",
   "metadata": {},
   "outputs": [],
   "source": [
    "d3['sium']= 'rhs0@yahoo.com'\n",
    "d3['sio']= 'sium1@hotmail.com'"
   ]
  },
  {
   "cell_type": "code",
   "execution_count": 3,
   "id": "ad548614-9370-424b-b1e9-b8263a280d68",
   "metadata": {},
   "outputs": [
    {
     "data": {
      "text/plain": [
       "{'sium': 'rhs0@yahoo.com', 'sio': 'sium1@hotmail.com'}"
      ]
     },
     "execution_count": 3,
     "metadata": {},
     "output_type": "execute_result"
    }
   ],
   "source": [
    "d3"
   ]
  },
  {
   "cell_type": "code",
   "execution_count": 4,
   "id": "557dcc1e-0ed0-4870-861c-8ee0b9b71465",
   "metadata": {},
   "outputs": [
    {
     "data": {
      "text/plain": [
       "dict_keys(['sium', 'sio'])"
      ]
     },
     "execution_count": 4,
     "metadata": {},
     "output_type": "execute_result"
    }
   ],
   "source": [
    "#to see the keys of the dictionary by using keys() method\n",
    "d3.keys()"
   ]
  },
  {
   "cell_type": "code",
   "execution_count": 5,
   "id": "64ee57f9-780d-4db0-a933-bc773056db08",
   "metadata": {},
   "outputs": [
    {
     "data": {
      "text/plain": [
       "dict_values(['rhs0@yahoo.com', 'sium1@hotmail.com'])"
      ]
     },
     "execution_count": 5,
     "metadata": {},
     "output_type": "execute_result"
    }
   ],
   "source": [
    "#to see the values of the dictionary by using values() method\n",
    "d3.values()"
   ]
  },
  {
   "cell_type": "code",
   "execution_count": 7,
   "id": "1f93a635-c242-49ee-a86c-5ea266342d88",
   "metadata": {},
   "outputs": [
    {
     "data": {
      "text/plain": [
       "dict_items([('sium', 'rhs0@yahoo.com'), ('sio', 'sium1@hotmail.com')])"
      ]
     },
     "execution_count": 7,
     "metadata": {},
     "output_type": "execute_result"
    }
   ],
   "source": [
    "d3.items() #to see the dict items"
   ]
  },
  {
   "cell_type": "code",
   "execution_count": 15,
   "id": "04228593-0a86-4200-8033-498266ee0ccb",
   "metadata": {},
   "outputs": [
    {
     "name": "stdout",
     "output_type": "stream",
     "text": [
      "Help on class dict in module builtins:\n",
      "\n",
      "class dict(object)\n",
      " |  dict() -> new empty dictionary\n",
      " |  dict(mapping) -> new dictionary initialized from a mapping object's\n",
      " |      (key, value) pairs\n",
      " |  dict(iterable) -> new dictionary initialized as if via:\n",
      " |      d = {}\n",
      " |      for k, v in iterable:\n",
      " |          d[k] = v\n",
      " |  dict(**kwargs) -> new dictionary initialized with the name=value pairs\n",
      " |      in the keyword argument list.  For example:  dict(one=1, two=2)\n",
      " |  \n",
      " |  Built-in subclasses:\n",
      " |      StgDict\n",
      " |  \n",
      " |  Methods defined here:\n",
      " |  \n",
      " |  __contains__(self, key, /)\n",
      " |      True if the dictionary has the specified key, else False.\n",
      " |  \n",
      " |  __delitem__(self, key, /)\n",
      " |      Delete self[key].\n",
      " |  \n",
      " |  __eq__(self, value, /)\n",
      " |      Return self==value.\n",
      " |  \n",
      " |  __ge__(self, value, /)\n",
      " |      Return self>=value.\n",
      " |  \n",
      " |  __getattribute__(self, name, /)\n",
      " |      Return getattr(self, name).\n",
      " |  \n",
      " |  __getitem__(...)\n",
      " |      x.__getitem__(y) <==> x[y]\n",
      " |  \n",
      " |  __gt__(self, value, /)\n",
      " |      Return self>value.\n",
      " |  \n",
      " |  __init__(self, /, *args, **kwargs)\n",
      " |      Initialize self.  See help(type(self)) for accurate signature.\n",
      " |  \n",
      " |  __ior__(self, value, /)\n",
      " |      Return self|=value.\n",
      " |  \n",
      " |  __iter__(self, /)\n",
      " |      Implement iter(self).\n",
      " |  \n",
      " |  __le__(self, value, /)\n",
      " |      Return self<=value.\n",
      " |  \n",
      " |  __len__(self, /)\n",
      " |      Return len(self).\n",
      " |  \n",
      " |  __lt__(self, value, /)\n",
      " |      Return self<value.\n",
      " |  \n",
      " |  __ne__(self, value, /)\n",
      " |      Return self!=value.\n",
      " |  \n",
      " |  __or__(self, value, /)\n",
      " |      Return self|value.\n",
      " |  \n",
      " |  __repr__(self, /)\n",
      " |      Return repr(self).\n",
      " |  \n",
      " |  __reversed__(self, /)\n",
      " |      Return a reverse iterator over the dict keys.\n",
      " |  \n",
      " |  __ror__(self, value, /)\n",
      " |      Return value|self.\n",
      " |  \n",
      " |  __setitem__(self, key, value, /)\n",
      " |      Set self[key] to value.\n",
      " |  \n",
      " |  __sizeof__(...)\n",
      " |      D.__sizeof__() -> size of D in memory, in bytes\n",
      " |  \n",
      " |  clear(...)\n",
      " |      D.clear() -> None.  Remove all items from D.\n",
      " |  \n",
      " |  copy(...)\n",
      " |      D.copy() -> a shallow copy of D\n",
      " |  \n",
      " |  get(self, key, default=None, /)\n",
      " |      Return the value for key if key is in the dictionary, else default.\n",
      " |  \n",
      " |  items(...)\n",
      " |      D.items() -> a set-like object providing a view on D's items\n",
      " |  \n",
      " |  keys(...)\n",
      " |      D.keys() -> a set-like object providing a view on D's keys\n",
      " |  \n",
      " |  pop(...)\n",
      " |      D.pop(k[,d]) -> v, remove specified key and return the corresponding value.\n",
      " |      \n",
      " |      If key is not found, default is returned if given, otherwise KeyError is raised\n",
      " |  \n",
      " |  popitem(self, /)\n",
      " |      Remove and return a (key, value) pair as a 2-tuple.\n",
      " |      \n",
      " |      Pairs are returned in LIFO (last-in, first-out) order.\n",
      " |      Raises KeyError if the dict is empty.\n",
      " |  \n",
      " |  setdefault(self, key, default=None, /)\n",
      " |      Insert key with a value of default if key is not in the dictionary.\n",
      " |      \n",
      " |      Return the value for key if key is in the dictionary, else default.\n",
      " |  \n",
      " |  update(...)\n",
      " |      D.update([E, ]**F) -> None.  Update D from dict/iterable E and F.\n",
      " |      If E is present and has a .keys() method, then does:  for k in E: D[k] = E[k]\n",
      " |      If E is present and lacks a .keys() method, then does:  for k, v in E: D[k] = v\n",
      " |      In either case, this is followed by: for k in F:  D[k] = F[k]\n",
      " |  \n",
      " |  values(...)\n",
      " |      D.values() -> an object providing a view on D's values\n",
      " |  \n",
      " |  ----------------------------------------------------------------------\n",
      " |  Class methods defined here:\n",
      " |  \n",
      " |  __class_getitem__(...) from builtins.type\n",
      " |      See PEP 585\n",
      " |  \n",
      " |  fromkeys(iterable, value=None, /) from builtins.type\n",
      " |      Create a new dictionary with keys from iterable and values set to value.\n",
      " |  \n",
      " |  ----------------------------------------------------------------------\n",
      " |  Static methods defined here:\n",
      " |  \n",
      " |  __new__(*args, **kwargs) from builtins.type\n",
      " |      Create and return a new object.  See help(type) for accurate signature.\n",
      " |  \n",
      " |  ----------------------------------------------------------------------\n",
      " |  Data and other attributes defined here:\n",
      " |  \n",
      " |  __hash__ = None\n",
      "\n"
     ]
    }
   ],
   "source": [
    "help(dict) #to check the dict details in python"
   ]
  },
  {
   "cell_type": "code",
   "execution_count": 17,
   "id": "0810c8bf-298e-4052-bb93-70f59e3ac92c",
   "metadata": {},
   "outputs": [
    {
     "data": {
      "text/plain": [
       "'rhs0@yahoo.com'"
      ]
     },
     "execution_count": 17,
     "metadata": {},
     "output_type": "execute_result"
    }
   ],
   "source": [
    "#to access the value of dict by using keys\n",
    "d3['sium']"
   ]
  },
  {
   "cell_type": "code",
   "execution_count": 19,
   "id": "6a857627-9b51-4b62-8379-0cf87d1ecb4b",
   "metadata": {},
   "outputs": [],
   "source": [
    "#dict are unordered so we can not access the dict by index"
   ]
  },
  {
   "cell_type": "code",
   "execution_count": 20,
   "id": "df213440-3176-43fd-a475-998dd9d3e0b1",
   "metadata": {},
   "outputs": [
    {
     "data": {
      "text/plain": [
       "{'sium': 'rhs0@yahoo.com', 'sio': 'sium1@hotmail.com'}"
      ]
     },
     "execution_count": 20,
     "metadata": {},
     "output_type": "execute_result"
    }
   ],
   "source": [
    "#dict operation\n",
    "#we can also a copy a dictionary\n",
    "d3 "
   ]
  },
  {
   "cell_type": "code",
   "execution_count": 21,
   "id": "0587b84f-0478-40ca-8f03-ecc143dbd81a",
   "metadata": {},
   "outputs": [],
   "source": [
    "d4 = dict(d3) # to copy a dict by dict constructor"
   ]
  },
  {
   "cell_type": "code",
   "execution_count": 22,
   "id": "c1c864be-839b-477c-9026-ef61b63ae555",
   "metadata": {},
   "outputs": [
    {
     "data": {
      "text/plain": [
       "{'sium': 'rhs0@yahoo.com', 'sio': 'sium1@hotmail.com'}"
      ]
     },
     "execution_count": 22,
     "metadata": {},
     "output_type": "execute_result"
    }
   ],
   "source": [
    "d4"
   ]
  },
  {
   "cell_type": "code",
   "execution_count": 23,
   "id": "a2aee5ae-b26a-40c7-acce-b11401d4de38",
   "metadata": {},
   "outputs": [
    {
     "data": {
      "text/plain": [
       "2"
      ]
     },
     "execution_count": 23,
     "metadata": {},
     "output_type": "execute_result"
    }
   ],
   "source": [
    "#we can find out the length of the dict by len() function\n",
    "len(d4)"
   ]
  },
  {
   "cell_type": "code",
   "execution_count": 24,
   "id": "0f41212f-d8f1-41af-b30b-b1b5bc8ca30d",
   "metadata": {},
   "outputs": [],
   "source": [
    "#we can delete key value pairs from a dict by using del keywords\n",
    "del d4['sium']"
   ]
  },
  {
   "cell_type": "code",
   "execution_count": 25,
   "id": "7fb678e0-2b86-41ec-ac13-a4c1ec80f22d",
   "metadata": {},
   "outputs": [
    {
     "data": {
      "text/plain": [
       "{'sio': 'sium1@hotmail.com'}"
      ]
     },
     "execution_count": 25,
     "metadata": {},
     "output_type": "execute_result"
    }
   ],
   "source": [
    "d4"
   ]
  },
  {
   "cell_type": "code",
   "execution_count": 26,
   "id": "033277ff-b75d-4642-adbc-10bfb4c5dba9",
   "metadata": {},
   "outputs": [],
   "source": [
    "#delete the whole dict by using del keyword\n",
    "del d4"
   ]
  },
  {
   "cell_type": "code",
   "execution_count": 27,
   "id": "9291234e-739a-4fec-9eff-a9c76782751c",
   "metadata": {},
   "outputs": [
    {
     "ename": "NameError",
     "evalue": "name 'd4' is not defined",
     "output_type": "error",
     "traceback": [
      "\u001b[0;31m---------------------------------------------------------------------------\u001b[0m",
      "\u001b[0;31mNameError\u001b[0m                                 Traceback (most recent call last)",
      "Input \u001b[0;32mIn [27]\u001b[0m, in \u001b[0;36m<cell line: 1>\u001b[0;34m()\u001b[0m\n\u001b[0;32m----> 1\u001b[0m d4\n",
      "\u001b[0;31mNameError\u001b[0m: name 'd4' is not defined"
     ]
    }
   ],
   "source": [
    "d4 #so it will give error"
   ]
  },
  {
   "cell_type": "code",
   "execution_count": 28,
   "id": "2c5be8ec-04f5-4cc4-9830-5f9d36e57999",
   "metadata": {},
   "outputs": [
    {
     "data": {
      "text/plain": [
       "{'sium': 'rhs0@yahoo.com', 'sio': 'sium1@hotmail.com'}"
      ]
     },
     "execution_count": 28,
     "metadata": {},
     "output_type": "execute_result"
    }
   ],
   "source": [
    "#dict support membership operator\n",
    "d3"
   ]
  },
  {
   "cell_type": "code",
   "execution_count": 29,
   "id": "ff29cb95-eb2b-43fd-9c40-cc8340dfc405",
   "metadata": {},
   "outputs": [
    {
     "data": {
      "text/plain": [
       "True"
      ]
     },
     "execution_count": 29,
     "metadata": {},
     "output_type": "execute_result"
    }
   ],
   "source": [
    "'sium' in d3 #it will give us true or false "
   ]
  },
  {
   "cell_type": "code",
   "execution_count": 30,
   "id": "e66b98d4-63e2-4f44-8a06-5049747bd035",
   "metadata": {},
   "outputs": [
    {
     "data": {
      "text/plain": [
       "False"
      ]
     },
     "execution_count": 30,
     "metadata": {},
     "output_type": "execute_result"
    }
   ],
   "source": [
    "\"harami\" in d3 "
   ]
  },
  {
   "cell_type": "markdown",
   "id": "99fb8560-8136-4caf-929d-95a71fb23ff9",
   "metadata": {},
   "source": [
    "## difference between list vs dict"
   ]
  },
  {
   "cell_type": "code",
   "execution_count": 31,
   "id": "b91fdb32-aedf-4ea8-a00c-ab2ef996a150",
   "metadata": {},
   "outputs": [],
   "source": [
    "#list is a linear ds \n",
    "#dict is a associated ds"
   ]
  },
  {
   "cell_type": "code",
   "execution_count": 32,
   "id": "b88e0dc3-f812-49e5-9f32-b5750ec3f14f",
   "metadata": {},
   "outputs": [],
   "source": [
    "l1 = [3,4,5,7,72,4,6,245]"
   ]
  },
  {
   "cell_type": "code",
   "execution_count": 33,
   "id": "bb4b929f-8905-4479-b111-cae784d5eaea",
   "metadata": {},
   "outputs": [
    {
     "data": {
      "text/plain": [
       "3"
      ]
     },
     "execution_count": 33,
     "metadata": {},
     "output_type": "execute_result"
    }
   ],
   "source": [
    "#we can access the list by indexing \n",
    "l1[0]"
   ]
  },
  {
   "cell_type": "code",
   "execution_count": 34,
   "id": "9d552ca4-afdb-4de6-85a4-2a896157bc6b",
   "metadata": {},
   "outputs": [
    {
     "data": {
      "text/plain": [
       "{'sium': 'rhs0@yahoo.com', 'sio': 'sium1@hotmail.com'}"
      ]
     },
     "execution_count": 34,
     "metadata": {},
     "output_type": "execute_result"
    }
   ],
   "source": [
    "#but in dict we need to mention the key to access the value because dict are un ordered\n",
    "d3 #is a dict"
   ]
  },
  {
   "cell_type": "code",
   "execution_count": 35,
   "id": "43d8a06e-fa33-467c-89a9-aaa8b0efd43e",
   "metadata": {},
   "outputs": [
    {
     "data": {
      "text/plain": [
       "'rhs0@yahoo.com'"
      ]
     },
     "execution_count": 35,
     "metadata": {},
     "output_type": "execute_result"
    }
   ],
   "source": [
    "d3['sium'] #we need to mention the key to access the value"
   ]
  },
  {
   "cell_type": "code",
   "execution_count": 36,
   "id": "fb032991-36ee-4bed-8695-65d8403e4020",
   "metadata": {},
   "outputs": [],
   "source": [
    "#temparature mapping using list"
   ]
  },
  {
   "cell_type": "code",
   "execution_count": 39,
   "id": "60563565-1ecd-4551-8234-4114bdbedf4c",
   "metadata": {},
   "outputs": [
    {
     "name": "stdin",
     "output_type": "stream",
     "text": [
      "please enter sat, sun, mon, tue, wed, thu, fri: fri\n"
     ]
    },
    {
     "name": "stdout",
     "output_type": "stream",
     "text": [
      "the temparature of friday is 43\n"
     ]
    }
   ],
   "source": [
    "temp= [65, 70, 46,48,35,76,43]\n",
    "day = input(\"please enter sat, sun, mon, tue, wed, thu, fri:\")\n",
    "if day == 'sat':\n",
    "    day_time = 'saturday'\n",
    "    t = temp[0]\n",
    "elif day == 'sun':\n",
    "    day_time = 'sunday'\n",
    "    t = temp[1]\n",
    "elif day == 'mon':\n",
    "    day_time = 'monday'\n",
    "    t= temp[2]\n",
    "elif day == 'tue':\n",
    "    day_time = 'tuesday'\n",
    "    t= temp[3]\n",
    "elif day == 'wed':\n",
    "    day_time = 'wednesday'\n",
    "    t= temp[4]\n",
    "elif day == 'thu':\n",
    "    day_time = 'thursday'\n",
    "    t = temp[5]\n",
    "elif day == 'fri':\n",
    "    day_time = 'friday'\n",
    "    t = temp[6]\n",
    "else: \n",
    "    print(\"wrong input\")\n",
    "\n",
    "print(f\"the temparature of {day_time} is {t}\")\n",
    "\n"
   ]
  },
  {
   "cell_type": "code",
   "execution_count": 41,
   "id": "c04bb01e-2329-45bf-8fe6-654dfa68775c",
   "metadata": {},
   "outputs": [
    {
     "name": "stdin",
     "output_type": "stream",
     "text": [
      "please enter sat, sun, mon, tue, wed, thu, fri: fri\n"
     ]
    },
    {
     "name": "stdout",
     "output_type": "stream",
     "text": [
      "the temparature friday is 43\n"
     ]
    }
   ],
   "source": [
    "#temparature mapping using dict\n",
    "d_temp={'sat': 65, 'sun': 70, 'mon':46, 'tue': 48, 'wed':35, 'thu':76, 'fri':43}\n",
    "day_time= {'sat': 'saturday', 'sun':'sunday', 'mon':'monday', 'tue': 'tuesday', 'wed':'wednesday', 'thu': 'thursday', 'fri': 'friday'}\n",
    "day = input(\"please enter sat, sun, mon, tue, wed, thu, fri:\")\n",
    "print(f\"the temparature of {day_time[day]} is {d_temp[day]}\")"
   ]
  },
  {
   "cell_type": "markdown",
   "id": "11a57029-7f84-4ad4-af8a-d1ea975667c8",
   "metadata": {},
   "source": [
    "# different ways of creating dict"
   ]
  },
  {
   "cell_type": "code",
   "execution_count": 42,
   "id": "69902b61-4a52-4e4e-9c67-8a2ab7daadc7",
   "metadata": {},
   "outputs": [],
   "source": [
    "#1. Using curly braces \n",
    "d5 = {1: \"sium\", 2: 'sio'}"
   ]
  },
  {
   "cell_type": "code",
   "execution_count": 43,
   "id": "a905de78-4301-4572-956f-ca88d390e3d7",
   "metadata": {},
   "outputs": [
    {
     "data": {
      "text/plain": [
       "{1: 'sium', 2: 'sio'}"
      ]
     },
     "execution_count": 43,
     "metadata": {},
     "output_type": "execute_result"
    }
   ],
   "source": [
    "d5"
   ]
  },
  {
   "cell_type": "code",
   "execution_count": 47,
   "id": "3a1a5cae-fe1c-4788-bf2e-7a05a0d175b7",
   "metadata": {},
   "outputs": [
    {
     "data": {
      "text/plain": [
       "dict"
      ]
     },
     "execution_count": 47,
     "metadata": {},
     "output_type": "execute_result"
    }
   ],
   "source": [
    "type(d5)"
   ]
  },
  {
   "cell_type": "code",
   "execution_count": 45,
   "id": "41e5a19a-04f8-41a0-b0e2-b3a441e78915",
   "metadata": {},
   "outputs": [],
   "source": [
    "#2. crating a empty dict and insert value one by one\n",
    "d6 ={}\n",
    "d6[1]= 'sium'\n",
    "d6[2]= 'sio'"
   ]
  },
  {
   "cell_type": "code",
   "execution_count": 46,
   "id": "d6fc5d8e-ec7b-4d0d-85f0-17db14e41a70",
   "metadata": {},
   "outputs": [
    {
     "data": {
      "text/plain": [
       "{1: 'sium', 2: 'sio'}"
      ]
     },
     "execution_count": 46,
     "metadata": {},
     "output_type": "execute_result"
    }
   ],
   "source": [
    "d6"
   ]
  },
  {
   "cell_type": "code",
   "execution_count": 48,
   "id": "5b9c7f90-3739-461a-bacc-0e17af48b720",
   "metadata": {},
   "outputs": [
    {
     "data": {
      "text/plain": [
       "dict"
      ]
     },
     "execution_count": 48,
     "metadata": {},
     "output_type": "execute_result"
    }
   ],
   "source": [
    "type(d6)"
   ]
  },
  {
   "cell_type": "code",
   "execution_count": 49,
   "id": "422c4428-890f-497e-8115-e4dd785124bc",
   "metadata": {},
   "outputs": [],
   "source": [
    "#3. dict constructor and a list of tupels\n",
    "d7 = dict([(1, 'sium'), (2, 'sio'), (3, 'hasan')])\n"
   ]
  },
  {
   "cell_type": "code",
   "execution_count": 50,
   "id": "d049165d-d282-4952-8326-034eb72959ae",
   "metadata": {},
   "outputs": [
    {
     "data": {
      "text/plain": [
       "{1: 'sium', 2: 'sio', 3: 'hasan'}"
      ]
     },
     "execution_count": 50,
     "metadata": {},
     "output_type": "execute_result"
    }
   ],
   "source": [
    "d7"
   ]
  },
  {
   "cell_type": "code",
   "execution_count": 51,
   "id": "fdfb39ef-4f81-4923-afcf-0ac8c3dfd7fd",
   "metadata": {},
   "outputs": [
    {
     "data": {
      "text/plain": [
       "dict"
      ]
     },
     "execution_count": 51,
     "metadata": {},
     "output_type": "execute_result"
    }
   ],
   "source": [
    "type(d7)"
   ]
  },
  {
   "cell_type": "code",
   "execution_count": 52,
   "id": "8030ec4d-6016-4b5c-9b3a-a8cbcb2e3de4",
   "metadata": {},
   "outputs": [],
   "source": [
    "#4. from two paraller list\n",
    "#here length of the 2 list must be same\n",
    "a = [1,2,3,4,5]\n",
    "b = ['sium', 'sio', 'hasan', 'rhs', 'rakibul']\n",
    "d8 = {}\n",
    "for i in range(len(a)):\n",
    "    d8[a[i]]=b[i]\n",
    "    "
   ]
  },
  {
   "cell_type": "code",
   "execution_count": 53,
   "id": "90cdaee7-4f26-4c5f-bbdb-5aa2c712f8e3",
   "metadata": {},
   "outputs": [
    {
     "data": {
      "text/plain": [
       "{1: 'sium', 2: 'sio', 3: 'hasan', 4: 'rhs', 5: 'rakibul'}"
      ]
     },
     "execution_count": 53,
     "metadata": {},
     "output_type": "execute_result"
    }
   ],
   "source": [
    "d8"
   ]
  },
  {
   "cell_type": "code",
   "execution_count": 54,
   "id": "6a7195a9-0b8e-4c28-ae58-f0c8240c0d89",
   "metadata": {},
   "outputs": [
    {
     "data": {
      "text/plain": [
       "dict"
      ]
     },
     "execution_count": 54,
     "metadata": {},
     "output_type": "execute_result"
    }
   ],
   "source": [
    "type(d8)"
   ]
  },
  {
   "cell_type": "markdown",
   "id": "40b6205c-a5d5-4815-9327-b12aaff02108",
   "metadata": {},
   "source": [
    "## accessing the dict and insert"
   ]
  },
  {
   "cell_type": "code",
   "execution_count": 55,
   "id": "6fcf655e-d347-43f6-a338-b77315d3a7e7",
   "metadata": {},
   "outputs": [],
   "source": [
    "#dictionaries access and insert\n",
    "d9 = {1: 'sium', 2: 'sio', 3: 'hasan', 4: 'rhs', 5: 'rakibul'}"
   ]
  },
  {
   "cell_type": "code",
   "execution_count": 56,
   "id": "261a0f9d-3356-439b-a196-d5a6168e6d4c",
   "metadata": {},
   "outputs": [
    {
     "data": {
      "text/plain": [
       "dict_keys([1, 2, 3, 4, 5])"
      ]
     },
     "execution_count": 56,
     "metadata": {},
     "output_type": "execute_result"
    }
   ],
   "source": [
    "#to access keys of the dict we can use keys()\n",
    "d9.keys()"
   ]
  },
  {
   "cell_type": "code",
   "execution_count": 57,
   "id": "bc3abde9-f352-402d-b96c-460e1a28a25c",
   "metadata": {},
   "outputs": [
    {
     "data": {
      "text/plain": [
       "dict_values(['sium', 'sio', 'hasan', 'rhs', 'rakibul'])"
      ]
     },
     "execution_count": 57,
     "metadata": {},
     "output_type": "execute_result"
    }
   ],
   "source": [
    "#to access the values of the dict we can use values() method\n",
    "d9.values()"
   ]
  },
  {
   "cell_type": "code",
   "execution_count": 58,
   "id": "1a36ab1e-1f3d-4ae5-ba8c-ef50f15ed259",
   "metadata": {},
   "outputs": [
    {
     "data": {
      "text/plain": [
       "'hasan'"
      ]
     },
     "execution_count": 58,
     "metadata": {},
     "output_type": "execute_result"
    }
   ],
   "source": [
    "#access the single element\n",
    "d9[3]"
   ]
  },
  {
   "cell_type": "code",
   "execution_count": 59,
   "id": "671c3672-9754-4669-8caa-a437c4fbaa64",
   "metadata": {},
   "outputs": [],
   "source": [
    "d9[6]= 'rhs2' #insert a new element in dict, we can also modified the value by accesing keys to set a value"
   ]
  },
  {
   "cell_type": "code",
   "execution_count": 60,
   "id": "dc498507-846d-4661-8926-409fa0273d55",
   "metadata": {},
   "outputs": [
    {
     "data": {
      "text/plain": [
       "{1: 'sium', 2: 'sio', 3: 'hasan', 4: 'rhs', 5: 'rakibul', 6: 'rhs2'}"
      ]
     },
     "execution_count": 60,
     "metadata": {},
     "output_type": "execute_result"
    }
   ],
   "source": [
    "d9"
   ]
  },
  {
   "cell_type": "code",
   "execution_count": 61,
   "id": "eea95594-dfca-4673-94da-dc1fd0524210",
   "metadata": {},
   "outputs": [
    {
     "data": {
      "text/plain": [
       "'rakibul'"
      ]
     },
     "execution_count": 61,
     "metadata": {},
     "output_type": "execute_result"
    }
   ],
   "source": [
    "#to access the value another method is get()\n",
    "d9.get(5)"
   ]
  },
  {
   "cell_type": "code",
   "execution_count": 63,
   "id": "499dfd87-41f5-4854-9905-25d0ee912a92",
   "metadata": {},
   "outputs": [],
   "source": [
    "#to update the value of a dict\n",
    "d9[5] = 'nuist'"
   ]
  },
  {
   "cell_type": "code",
   "execution_count": 64,
   "id": "a3a436b3-8aff-48a1-8697-26dadad6b54b",
   "metadata": {},
   "outputs": [
    {
     "data": {
      "text/plain": [
       "{1: 'sium', 2: 'sio', 3: 'hasan', 4: 'rhs', 5: 'nuist', 6: 'rhs2'}"
      ]
     },
     "execution_count": 64,
     "metadata": {},
     "output_type": "execute_result"
    }
   ],
   "source": [
    "d9"
   ]
  },
  {
   "cell_type": "code",
   "execution_count": 65,
   "id": "5b3fa21d-04ae-41b7-98d4-579cbc18ec28",
   "metadata": {},
   "outputs": [
    {
     "data": {
      "text/plain": [
       "6"
      ]
     },
     "execution_count": 65,
     "metadata": {},
     "output_type": "execute_result"
    }
   ],
   "source": [
    "#check length of the dict by using len() function\n",
    "len(d9)"
   ]
  },
  {
   "cell_type": "code",
   "execution_count": 66,
   "id": "c737e7a0-5f0f-44db-9a86-fd80f0d7bc48",
   "metadata": {},
   "outputs": [],
   "source": [
    "#dict method fromkeys()\n",
    "#using this method we can create a dictionaries with keys in iterable\n",
    "#we can create dictionaires from list, tuple, range function or any other iterable(anything that can be loop over)"
   ]
  },
  {
   "cell_type": "code",
   "execution_count": 67,
   "id": "838499a8-b36b-4b44-88d4-fbc3447ca051",
   "metadata": {},
   "outputs": [],
   "source": [
    "#syntax of the fromkeys()= {iterable(it will be keys), value(optional)}\n",
    "l1 = [1,2,3,4,5]\n",
    "d10= dict.fromkeys(l1) #i did not mentaion any value so values will be none"
   ]
  },
  {
   "cell_type": "code",
   "execution_count": 68,
   "id": "5333c6a5-bcde-4046-a432-21cc4d202062",
   "metadata": {},
   "outputs": [
    {
     "data": {
      "text/plain": [
       "{1: None, 2: None, 3: None, 4: None, 5: None}"
      ]
     },
     "execution_count": 68,
     "metadata": {},
     "output_type": "execute_result"
    }
   ],
   "source": [
    "d10"
   ]
  },
  {
   "cell_type": "code",
   "execution_count": 69,
   "id": "166c6406-2aad-4e7c-89e2-c373a78aff91",
   "metadata": {},
   "outputs": [],
   "source": [
    "#now using range() function\n",
    "d11= {}.fromkeys(range(1,6 ), 7) # in range (1,6) function means including 1 and excluding 6 so 1 to 5"
   ]
  },
  {
   "cell_type": "code",
   "execution_count": 70,
   "id": "0aadbb32-9599-47d8-a197-c27d1d9cfcec",
   "metadata": {},
   "outputs": [
    {
     "data": {
      "text/plain": [
       "{1: 7, 2: 7, 3: 7, 4: 7, 5: 7}"
      ]
     },
     "execution_count": 70,
     "metadata": {},
     "output_type": "execute_result"
    }
   ],
   "source": [
    "d11"
   ]
  },
  {
   "cell_type": "markdown",
   "id": "61cbc165-5feb-4de3-ba8c-a8466bdff695",
   "metadata": {},
   "source": [
    "# dict setdefault() method\n",
    "- setdefault means it will search for the keys, if the keys is present then it will return the value, if key is not present in the dict then it will add the key in the dict\n"
   ]
  },
  {
   "cell_type": "code",
   "execution_count": 72,
   "id": "644b02fb-1a0f-4103-9d54-19583c7e620c",
   "metadata": {},
   "outputs": [],
   "source": [
    "#syntax of the setdefault()= (key, value-optional)\n",
    "d12 = {'sium': 28, 'soad': 20, 'sumaiya': 27}\n"
   ]
  },
  {
   "cell_type": "code",
   "execution_count": 73,
   "id": "dfbdc8ff-1df3-448a-8ac4-53d41d652a3b",
   "metadata": {},
   "outputs": [
    {
     "data": {
      "text/plain": [
       "28"
      ]
     },
     "execution_count": 73,
     "metadata": {},
     "output_type": "execute_result"
    }
   ],
   "source": [
    "d12.setdefault('sium') #here it will return the value"
   ]
  },
  {
   "cell_type": "code",
   "execution_count": 74,
   "id": "16f08f3e-3ea9-437a-83bd-bfca604de08d",
   "metadata": {},
   "outputs": [],
   "source": [
    "d12.setdefault('sio') #now it will add in the dict with none"
   ]
  },
  {
   "cell_type": "code",
   "execution_count": 75,
   "id": "9132eef5-ecf9-4307-bad6-9aaabc5f7242",
   "metadata": {},
   "outputs": [
    {
     "data": {
      "text/plain": [
       "{'sium': 28, 'soad': 20, 'sumaiya': 27, 'sio': None}"
      ]
     },
     "execution_count": 75,
     "metadata": {},
     "output_type": "execute_result"
    }
   ],
   "source": [
    "d12"
   ]
  },
  {
   "cell_type": "code",
   "execution_count": 76,
   "id": "72c2bb47-c0c5-4b91-b44f-f3a13fc58dc4",
   "metadata": {},
   "outputs": [
    {
     "data": {
      "text/plain": [
       "28"
      ]
     },
     "execution_count": 76,
     "metadata": {},
     "output_type": "execute_result"
    }
   ],
   "source": [
    "d12.setdefault('rhs', 28)"
   ]
  },
  {
   "cell_type": "code",
   "execution_count": 77,
   "id": "3c12318c-9a54-4460-bc37-febba84e8974",
   "metadata": {},
   "outputs": [
    {
     "data": {
      "text/plain": [
       "{'sium': 28, 'soad': 20, 'sumaiya': 27, 'sio': None, 'rhs': 28}"
      ]
     },
     "execution_count": 77,
     "metadata": {},
     "output_type": "execute_result"
    }
   ],
   "source": [
    "d12"
   ]
  },
  {
   "cell_type": "code",
   "execution_count": 78,
   "id": "395a74aa-cce9-4748-838d-4ed4147b3522",
   "metadata": {},
   "outputs": [],
   "source": [
    "d12['sio']= 29"
   ]
  },
  {
   "cell_type": "code",
   "execution_count": 79,
   "id": "768ab925-596c-438f-8835-2aa6be8a1878",
   "metadata": {},
   "outputs": [
    {
     "data": {
      "text/plain": [
       "{'sium': 28, 'soad': 20, 'sumaiya': 27, 'sio': 29, 'rhs': 28}"
      ]
     },
     "execution_count": 79,
     "metadata": {},
     "output_type": "execute_result"
    }
   ],
   "source": [
    "d12"
   ]
  },
  {
   "cell_type": "markdown",
   "id": "6536f1be-c569-41d9-b4dc-c9fc7923a7b5",
   "metadata": {},
   "source": [
    "# dict() update method\n"
   ]
  },
  {
   "cell_type": "code",
   "execution_count": 85,
   "id": "3b3b1ceb-1503-4c08-8243-23861e1e15b1",
   "metadata": {},
   "outputs": [
    {
     "data": {
      "text/plain": [
       "{1: 7, 2: 7, 3: 7, 4: 7, 5: 7}"
      ]
     },
     "execution_count": 85,
     "metadata": {},
     "output_type": "execute_result"
    }
   ],
   "source": [
    "d11"
   ]
  },
  {
   "cell_type": "code",
   "execution_count": 86,
   "id": "3c3f6f8d-6ade-4a92-8fa6-1f4dcbef14f1",
   "metadata": {},
   "outputs": [
    {
     "data": {
      "text/plain": [
       "{'sium': 28, 'soad': 20, 'sumaiya': 27, 'sio': 29, 'rhs': 28}"
      ]
     },
     "execution_count": 86,
     "metadata": {},
     "output_type": "execute_result"
    }
   ],
   "source": [
    "d12"
   ]
  },
  {
   "cell_type": "code",
   "execution_count": 87,
   "id": "8d425f4d-1187-461c-883a-bec67fc8acc4",
   "metadata": {},
   "outputs": [],
   "source": [
    "#with the update method we can concat the 2 dictionaries easily\n",
    "d11.update(d12)"
   ]
  },
  {
   "cell_type": "code",
   "execution_count": 88,
   "id": "07b80801-151f-427d-bb54-8923b5c38831",
   "metadata": {},
   "outputs": [
    {
     "data": {
      "text/plain": [
       "{1: 7,\n",
       " 2: 7,\n",
       " 3: 7,\n",
       " 4: 7,\n",
       " 5: 7,\n",
       " 'sium': 28,\n",
       " 'soad': 20,\n",
       " 'sumaiya': 27,\n",
       " 'sio': 29,\n",
       " 'rhs': 28}"
      ]
     },
     "execution_count": 88,
     "metadata": {},
     "output_type": "execute_result"
    }
   ],
   "source": [
    "d11"
   ]
  },
  {
   "cell_type": "code",
   "execution_count": 91,
   "id": "77a4a5f2-e4bf-4b4b-b253-5a996728f03e",
   "metadata": {},
   "outputs": [],
   "source": [
    "# we can also concat dict and list \n",
    "d11\n",
    "l2 = [6,100] #it must contain 2 elements"
   ]
  },
  {
   "cell_type": "code",
   "execution_count": 92,
   "id": "f9d0a470-5734-48ff-8577-ffb4c83055a9",
   "metadata": {},
   "outputs": [],
   "source": [
    "d11.update([l2])"
   ]
  },
  {
   "cell_type": "code",
   "execution_count": 93,
   "id": "bf1a4a22-1425-4968-837d-7a68a1aee20c",
   "metadata": {},
   "outputs": [
    {
     "data": {
      "text/plain": [
       "{1: 7,\n",
       " 2: 7,\n",
       " 3: 7,\n",
       " 4: 7,\n",
       " 5: 7,\n",
       " 'sium': 28,\n",
       " 'soad': 20,\n",
       " 'sumaiya': 27,\n",
       " 'sio': 29,\n",
       " 'rhs': 28,\n",
       " 6: 100}"
      ]
     },
     "execution_count": 93,
     "metadata": {},
     "output_type": "execute_result"
    }
   ],
   "source": [
    "d11"
   ]
  },
  {
   "cell_type": "code",
   "execution_count": 94,
   "id": "724b1ce8-3d3b-4884-8e2d-80d422da3517",
   "metadata": {},
   "outputs": [],
   "source": [
    "#we can also update the dict by using expression\n",
    "d11.update(y=3 , z =11, x=2)"
   ]
  },
  {
   "cell_type": "code",
   "execution_count": 95,
   "id": "d5875b87-3708-403a-abc8-b552ddf82317",
   "metadata": {},
   "outputs": [
    {
     "data": {
      "text/plain": [
       "{1: 7,\n",
       " 2: 7,\n",
       " 3: 7,\n",
       " 4: 7,\n",
       " 5: 7,\n",
       " 'sium': 28,\n",
       " 'soad': 20,\n",
       " 'sumaiya': 27,\n",
       " 'sio': 29,\n",
       " 'rhs': 28,\n",
       " 6: 100,\n",
       " 'y': 3,\n",
       " 'z': 11,\n",
       " 'x': 2}"
      ]
     },
     "execution_count": 95,
     "metadata": {},
     "output_type": "execute_result"
    }
   ],
   "source": [
    "d11"
   ]
  },
  {
   "cell_type": "markdown",
   "id": "3d82d98c-cc07-4045-a275-3b9a4e120093",
   "metadata": {},
   "source": [
    "# dict delete elements, pop or clear "
   ]
  },
  {
   "cell_type": "code",
   "execution_count": 96,
   "id": "9dd79ae6-8c26-4e72-a444-a2233fa68532",
   "metadata": {},
   "outputs": [
    {
     "data": {
      "text/plain": [
       "{1: 7,\n",
       " 2: 7,\n",
       " 3: 7,\n",
       " 4: 7,\n",
       " 5: 7,\n",
       " 'sium': 28,\n",
       " 'soad': 20,\n",
       " 'sumaiya': 27,\n",
       " 'sio': 29,\n",
       " 'rhs': 28,\n",
       " 6: 100,\n",
       " 'y': 3,\n",
       " 'z': 11,\n",
       " 'x': 2}"
      ]
     },
     "execution_count": 96,
     "metadata": {},
     "output_type": "execute_result"
    }
   ],
   "source": [
    "#1. delete element using del keywords\n",
    "d11"
   ]
  },
  {
   "cell_type": "code",
   "execution_count": 97,
   "id": "56d079cc-924a-415e-97af-92bf66eb5b6c",
   "metadata": {},
   "outputs": [],
   "source": [
    "del d11[3]"
   ]
  },
  {
   "cell_type": "code",
   "execution_count": 98,
   "id": "88e672d3-36fb-4793-924e-bed834cbc713",
   "metadata": {},
   "outputs": [
    {
     "data": {
      "text/plain": [
       "{1: 7,\n",
       " 2: 7,\n",
       " 4: 7,\n",
       " 5: 7,\n",
       " 'sium': 28,\n",
       " 'soad': 20,\n",
       " 'sumaiya': 27,\n",
       " 'sio': 29,\n",
       " 'rhs': 28,\n",
       " 6: 100,\n",
       " 'y': 3,\n",
       " 'z': 11,\n",
       " 'x': 2}"
      ]
     },
     "execution_count": 98,
     "metadata": {},
     "output_type": "execute_result"
    }
   ],
   "source": [
    "d11"
   ]
  },
  {
   "cell_type": "code",
   "execution_count": 99,
   "id": "0c35c776-a820-4dc0-bb14-d0f48fc14dc2",
   "metadata": {},
   "outputs": [
    {
     "data": {
      "text/plain": [
       "2"
      ]
     },
     "execution_count": 99,
     "metadata": {},
     "output_type": "execute_result"
    }
   ],
   "source": [
    "#2. using pop method to delete element\n",
    "d11.pop('x') #here it will delete the value and return it"
   ]
  },
  {
   "cell_type": "code",
   "execution_count": 100,
   "id": "5d176465-8dd6-46e0-a4bc-8e1d0e328ca3",
   "metadata": {},
   "outputs": [
    {
     "data": {
      "text/plain": [
       "{1: 7,\n",
       " 2: 7,\n",
       " 4: 7,\n",
       " 5: 7,\n",
       " 'sium': 28,\n",
       " 'soad': 20,\n",
       " 'sumaiya': 27,\n",
       " 'sio': 29,\n",
       " 'rhs': 28,\n",
       " 6: 100,\n",
       " 'y': 3,\n",
       " 'z': 11}"
      ]
     },
     "execution_count": 100,
     "metadata": {},
     "output_type": "execute_result"
    }
   ],
   "source": [
    "d11"
   ]
  },
  {
   "cell_type": "code",
   "execution_count": 102,
   "id": "37ce42c5-d1de-4d88-8ca0-836017c268a1",
   "metadata": {},
   "outputs": [
    {
     "data": {
      "text/plain": [
       "{'sium': 28, 'soad': 20, 'sumaiya': 27, 'sio': 29, 'rhs': 28}"
      ]
     },
     "execution_count": 102,
     "metadata": {},
     "output_type": "execute_result"
    }
   ],
   "source": [
    "#3. using clear() method to clear the dict\n",
    "d12"
   ]
  },
  {
   "cell_type": "code",
   "execution_count": 103,
   "id": "22f42734-5d92-4401-b9e3-1ff98f3df1c4",
   "metadata": {},
   "outputs": [],
   "source": [
    "d12.clear()"
   ]
  },
  {
   "cell_type": "code",
   "execution_count": 104,
   "id": "bf934ac0-95da-4d56-9799-704f2f048fa6",
   "metadata": {},
   "outputs": [
    {
     "data": {
      "text/plain": [
       "{}"
      ]
     },
     "execution_count": 104,
     "metadata": {},
     "output_type": "execute_result"
    }
   ],
   "source": [
    "d12 #now as we can see the dict is empty"
   ]
  },
  {
   "cell_type": "code",
   "execution_count": 105,
   "id": "ed70eb08-f51e-4f3a-9095-cd0cac751981",
   "metadata": {},
   "outputs": [],
   "source": [
    "# to delete the complete dictionary we can use del keywords\n",
    "del d12"
   ]
  },
  {
   "cell_type": "markdown",
   "id": "33c2e0fa-ce91-433e-9921-3d92a25804f7",
   "metadata": {},
   "source": [
    "# SET OPERATION DETAILS"
   ]
  },
  {
   "cell_type": "code",
   "execution_count": 106,
   "id": "74afb3a8-1f68-4428-88d2-b931136b892a",
   "metadata": {},
   "outputs": [],
   "source": [
    "#set is a mutable data type with unique data and it is un ordered so we can not access it with index\n",
    "#it does not contain duplicated values\n",
    "#to create a empty set we can not create it with a empty curly braces because it will be a dict type\n",
    "s1 = {}"
   ]
  },
  {
   "cell_type": "code",
   "execution_count": 107,
   "id": "32f6df23-6fc3-44b2-9aa8-8a31c9dcc442",
   "metadata": {},
   "outputs": [
    {
     "data": {
      "text/plain": [
       "{}"
      ]
     },
     "execution_count": 107,
     "metadata": {},
     "output_type": "execute_result"
    }
   ],
   "source": [
    "s1"
   ]
  },
  {
   "cell_type": "code",
   "execution_count": 108,
   "id": "910482ea-fd58-4644-9909-6b66723e33e4",
   "metadata": {},
   "outputs": [
    {
     "data": {
      "text/plain": [
       "dict"
      ]
     },
     "execution_count": 108,
     "metadata": {},
     "output_type": "execute_result"
    }
   ],
   "source": [
    "type(s1)"
   ]
  },
  {
   "cell_type": "code",
   "execution_count": 109,
   "id": "6bb3d662-c492-4a1d-a3a2-a7019c938678",
   "metadata": {},
   "outputs": [],
   "source": [
    "#so to create a empty set we need to use set() constructor\n",
    "s2= set()"
   ]
  },
  {
   "cell_type": "code",
   "execution_count": 110,
   "id": "166173b8-db62-41d8-973a-45c069a0c6e3",
   "metadata": {},
   "outputs": [
    {
     "data": {
      "text/plain": [
       "set"
      ]
     },
     "execution_count": 110,
     "metadata": {},
     "output_type": "execute_result"
    }
   ],
   "source": [
    "type(s2)"
   ]
  },
  {
   "cell_type": "code",
   "execution_count": 111,
   "id": "e66c5250-6162-4ed5-9dbb-b9f999d7fd1a",
   "metadata": {},
   "outputs": [],
   "source": [
    "#we can create set with curly braces if we put values seperated by comma\n",
    "s3= {1,2,3,4,5}"
   ]
  },
  {
   "cell_type": "code",
   "execution_count": 112,
   "id": "c5adba61-15e0-42f8-b330-13d2671eec6a",
   "metadata": {},
   "outputs": [
    {
     "data": {
      "text/plain": [
       "set"
      ]
     },
     "execution_count": 112,
     "metadata": {},
     "output_type": "execute_result"
    }
   ],
   "source": [
    "type(s3)"
   ]
  },
  {
   "cell_type": "code",
   "execution_count": 113,
   "id": "ebfae593-dd28-44fd-a58b-119a727cf743",
   "metadata": {},
   "outputs": [
    {
     "data": {
      "text/plain": [
       "{1, 2, 3, 4, 5}"
      ]
     },
     "execution_count": 113,
     "metadata": {},
     "output_type": "execute_result"
    }
   ],
   "source": [
    "s3"
   ]
  },
  {
   "cell_type": "code",
   "execution_count": 114,
   "id": "b26bf826-1977-470b-ad21-1a5a23a37c51",
   "metadata": {},
   "outputs": [],
   "source": [
    "#we can not created set inside a set(i mean nested set)"
   ]
  },
  {
   "cell_type": "code",
   "execution_count": 115,
   "id": "ac426e84-39dd-4fbb-877c-6e91de66a069",
   "metadata": {},
   "outputs": [],
   "source": [
    "#we can add values in set by using add() method\n",
    "s3.add(7)"
   ]
  },
  {
   "cell_type": "code",
   "execution_count": 116,
   "id": "29259e72-78ab-4962-9415-fea3d3891c41",
   "metadata": {},
   "outputs": [
    {
     "data": {
      "text/plain": [
       "{1, 2, 3, 4, 5, 7}"
      ]
     },
     "execution_count": 116,
     "metadata": {},
     "output_type": "execute_result"
    }
   ],
   "source": [
    "s3"
   ]
  },
  {
   "cell_type": "code",
   "execution_count": 117,
   "id": "30ad6358-e12f-40ff-a245-4d3d1ab82e1d",
   "metadata": {},
   "outputs": [],
   "source": [
    "#if we try to insert a duplicate value in the set will ignore it\n",
    "s3.add(2)"
   ]
  },
  {
   "cell_type": "code",
   "execution_count": 118,
   "id": "06935063-417e-4c0c-b2ae-9d8a5d53aea4",
   "metadata": {},
   "outputs": [
    {
     "data": {
      "text/plain": [
       "{1, 2, 3, 4, 5, 7}"
      ]
     },
     "execution_count": 118,
     "metadata": {},
     "output_type": "execute_result"
    }
   ],
   "source": [
    "s3"
   ]
  },
  {
   "cell_type": "code",
   "execution_count": 119,
   "id": "aad138e5-25f9-4ec8-9216-73a969522fa9",
   "metadata": {},
   "outputs": [],
   "source": [
    "# we can create immutable set by using frozenset() keywords\n",
    "s4 = frozenset([1,2,3,4,5,6])"
   ]
  },
  {
   "cell_type": "code",
   "execution_count": 120,
   "id": "df1b7fc4-285c-41d9-a69a-90a2587b84ed",
   "metadata": {},
   "outputs": [
    {
     "data": {
      "text/plain": [
       "frozenset({1, 2, 3, 4, 5, 6})"
      ]
     },
     "execution_count": 120,
     "metadata": {},
     "output_type": "execute_result"
    }
   ],
   "source": [
    "s4"
   ]
  },
  {
   "cell_type": "code",
   "execution_count": 121,
   "id": "ab026a83-12a3-477f-a25b-c20fb51b85fd",
   "metadata": {},
   "outputs": [
    {
     "data": {
      "text/plain": [
       "frozenset"
      ]
     },
     "execution_count": 121,
     "metadata": {},
     "output_type": "execute_result"
    }
   ],
   "source": [
    "type(s4)"
   ]
  },
  {
   "cell_type": "code",
   "execution_count": 123,
   "id": "df74cb32-dbc5-4c8e-aa3d-2c1241bc480a",
   "metadata": {},
   "outputs": [],
   "source": [
    "#we can copy a set by set() constructor\n",
    "s5 = set(s3)\n"
   ]
  },
  {
   "cell_type": "code",
   "execution_count": 124,
   "id": "a27e66cf-7a7f-4cbf-b46c-ed9258f78b3b",
   "metadata": {},
   "outputs": [
    {
     "data": {
      "text/plain": [
       "{1, 2, 3, 4, 5, 7}"
      ]
     },
     "execution_count": 124,
     "metadata": {},
     "output_type": "execute_result"
    }
   ],
   "source": [
    "s5"
   ]
  },
  {
   "cell_type": "markdown",
   "id": "4f940158-d306-4534-a6e1-69fc032b1079",
   "metadata": {},
   "source": [
    "# set operation\n",
    "- here we will talk about 10 operation of set\n",
    "1. membership\n",
    "2. add() operation\n",
    "3. remove()\n",
    "4. union(|)\n",
    "5. clear()\n",
    "6. intersection(&)\n",
    "7. difference (-)\n",
    "8. symetric difference\n",
    "9. size(len() funtion)\n",
    "10. copy()- to copy a set\n",
    "11. del keywords"
   ]
  },
  {
   "cell_type": "code",
   "execution_count": 127,
   "id": "fae56d28-915e-4613-a5d5-834dd828ba4b",
   "metadata": {},
   "outputs": [
    {
     "data": {
      "text/plain": [
       "{1, 2, 3, 4, 5, 7}"
      ]
     },
     "execution_count": 127,
     "metadata": {},
     "output_type": "execute_result"
    }
   ],
   "source": [
    "#1. MEMBERSHIP \n",
    "#it will check if any elements present in set or not\n",
    "s3"
   ]
  },
  {
   "cell_type": "code",
   "execution_count": 126,
   "id": "43c77bc4-0bca-49d0-98da-9d31ab114bfd",
   "metadata": {},
   "outputs": [
    {
     "data": {
      "text/plain": [
       "True"
      ]
     },
     "execution_count": 126,
     "metadata": {},
     "output_type": "execute_result"
    }
   ],
   "source": [
    "2 in s3 #give us true or false "
   ]
  },
  {
   "cell_type": "code",
   "execution_count": 128,
   "id": "449d2a61-6008-4455-91d6-848af2466d27",
   "metadata": {},
   "outputs": [],
   "source": [
    "#2. add() operation\n",
    "#it will add a new element in the set except in frozenset()\n",
    "s3.add(199)"
   ]
  },
  {
   "cell_type": "code",
   "execution_count": 129,
   "id": "634dca5d-f860-45e2-8ebf-780ab21a948d",
   "metadata": {},
   "outputs": [
    {
     "data": {
      "text/plain": [
       "{1, 2, 3, 4, 5, 7, 199}"
      ]
     },
     "execution_count": 129,
     "metadata": {},
     "output_type": "execute_result"
    }
   ],
   "source": [
    "s3"
   ]
  },
  {
   "cell_type": "code",
   "execution_count": 130,
   "id": "60dc1ce1-6429-40d7-8540-a8ff947c1b81",
   "metadata": {},
   "outputs": [],
   "source": [
    "#3. remove operation\n",
    "#it will delete a element from a set\n",
    "s3.remove(7)"
   ]
  },
  {
   "cell_type": "code",
   "execution_count": 131,
   "id": "3c36b323-9bfa-4b4f-aa09-7a0e1eac20e3",
   "metadata": {},
   "outputs": [
    {
     "data": {
      "text/plain": [
       "{1, 2, 3, 4, 5, 199}"
      ]
     },
     "execution_count": 131,
     "metadata": {},
     "output_type": "execute_result"
    }
   ],
   "source": [
    "s3"
   ]
  },
  {
   "cell_type": "code",
   "execution_count": 134,
   "id": "b553ea98-82ac-47ab-8d55-964dd1bc318e",
   "metadata": {},
   "outputs": [
    {
     "data": {
      "text/plain": [
       "{1, 2, 3, 4, 5, 199}"
      ]
     },
     "execution_count": 134,
     "metadata": {},
     "output_type": "execute_result"
    }
   ],
   "source": [
    "#4. UNION operation\n",
    "#it will check, if any value present in the set1 or set2 then only in once and it will return all the others values from each set\n",
    "s3"
   ]
  },
  {
   "cell_type": "code",
   "execution_count": 135,
   "id": "766ce41d-8577-4baf-8b03-97ee052ffaa7",
   "metadata": {},
   "outputs": [],
   "source": [
    "s4 ={ \"sium\", 3, 'sio'}"
   ]
  },
  {
   "cell_type": "code",
   "execution_count": 137,
   "id": "16466c2a-0d62-4c28-a5d3-cd34564416d5",
   "metadata": {},
   "outputs": [],
   "source": [
    "s5= s3|s4"
   ]
  },
  {
   "cell_type": "code",
   "execution_count": 138,
   "id": "380e07fe-ffce-40e6-8405-de0454878345",
   "metadata": {},
   "outputs": [
    {
     "data": {
      "text/plain": [
       "{1, 199, 2, 3, 4, 5, 'sio', 'sium'}"
      ]
     },
     "execution_count": 138,
     "metadata": {},
     "output_type": "execute_result"
    }
   ],
   "source": [
    "s5 #here we can see the union result, in s4 and s3 we have 3 in common, so 3 appears once and rest of the values from each set"
   ]
  },
  {
   "cell_type": "code",
   "execution_count": 139,
   "id": "bddbe257-37e0-4fe6-8873-e9fdfe986544",
   "metadata": {},
   "outputs": [],
   "source": [
    "#5. Clear () function\n",
    "#it will clear the set values and make it empty\n",
    "s5.clear()"
   ]
  },
  {
   "cell_type": "code",
   "execution_count": 140,
   "id": "cbb773c1-4547-4392-b2bd-2c951333a07a",
   "metadata": {},
   "outputs": [
    {
     "data": {
      "text/plain": [
       "set()"
      ]
     },
     "execution_count": 140,
     "metadata": {},
     "output_type": "execute_result"
    }
   ],
   "source": [
    "s5"
   ]
  },
  {
   "cell_type": "code",
   "execution_count": 141,
   "id": "e3cd08c1-9cc0-42eb-87bc-dce92a2112d6",
   "metadata": {},
   "outputs": [],
   "source": [
    "#11. DELETE THE COMPLETE SET by using del keywords\n",
    "del s5"
   ]
  },
  {
   "cell_type": "code",
   "execution_count": 142,
   "id": "8b36dc19-3fca-461e-b48b-852271527594",
   "metadata": {},
   "outputs": [
    {
     "ename": "NameError",
     "evalue": "name 's5' is not defined",
     "output_type": "error",
     "traceback": [
      "\u001b[0;31m---------------------------------------------------------------------------\u001b[0m",
      "\u001b[0;31mNameError\u001b[0m                                 Traceback (most recent call last)",
      "Input \u001b[0;32mIn [142]\u001b[0m, in \u001b[0;36m<cell line: 1>\u001b[0;34m()\u001b[0m\n\u001b[0;32m----> 1\u001b[0m s5\n",
      "\u001b[0;31mNameError\u001b[0m: name 's5' is not defined"
     ]
    }
   ],
   "source": [
    "s5"
   ]
  },
  {
   "cell_type": "code",
   "execution_count": 143,
   "id": "7583332c-5dd7-4f01-bb73-19f1b86c70fb",
   "metadata": {},
   "outputs": [
    {
     "data": {
      "text/plain": [
       "{1, 2, 3, 4, 5, 199}"
      ]
     },
     "execution_count": 143,
     "metadata": {},
     "output_type": "execute_result"
    }
   ],
   "source": [
    "#6. Intersection operation\n",
    "#common values present in 2 set\n",
    "s3"
   ]
  },
  {
   "cell_type": "code",
   "execution_count": 144,
   "id": "30747240-6cc0-4268-b72b-09cd8c8c92ba",
   "metadata": {},
   "outputs": [
    {
     "data": {
      "text/plain": [
       "{3, 'sio', 'sium'}"
      ]
     },
     "execution_count": 144,
     "metadata": {},
     "output_type": "execute_result"
    }
   ],
   "source": [
    "s4"
   ]
  },
  {
   "cell_type": "code",
   "execution_count": 145,
   "id": "db5982bc-54a7-4e6a-bf62-d3651387dc3a",
   "metadata": {},
   "outputs": [
    {
     "data": {
      "text/plain": [
       "{3}"
      ]
     },
     "execution_count": 145,
     "metadata": {},
     "output_type": "execute_result"
    }
   ],
   "source": [
    "s3&s4 #for intersection symbol is & and here we see 3 is common in s3 and s4"
   ]
  },
  {
   "cell_type": "code",
   "execution_count": 146,
   "id": "8f96663f-ca6f-418f-8065-e5bcc040b78e",
   "metadata": {},
   "outputs": [],
   "source": [
    "#7. Difference \n",
    "#If i see the difference from 2 set then it will give me from the first set elements that are not present in the second set\n",
    "s6= {1,2,3,4}\n",
    "s7= {1,5,7,3}\n"
   ]
  },
  {
   "cell_type": "code",
   "execution_count": 147,
   "id": "022c08aa-2980-446f-866c-f4d9f8a55be5",
   "metadata": {},
   "outputs": [],
   "source": [
    "s8= s6-s7 #for different symbol is -minus"
   ]
  },
  {
   "cell_type": "code",
   "execution_count": 148,
   "id": "79bbc97a-74c4-4548-8ba5-0c0ba53791e5",
   "metadata": {},
   "outputs": [
    {
     "data": {
      "text/plain": [
       "{2, 4}"
      ]
     },
     "execution_count": 148,
     "metadata": {},
     "output_type": "execute_result"
    }
   ],
   "source": [
    "s8"
   ]
  },
  {
   "cell_type": "code",
   "execution_count": 149,
   "id": "14ddc960-4149-4489-8c9f-4ada8564b1d5",
   "metadata": {},
   "outputs": [
    {
     "data": {
      "text/plain": [
       "{5, 7}"
      ]
     },
     "execution_count": 149,
     "metadata": {},
     "output_type": "execute_result"
    }
   ],
   "source": [
    "#here again if we go from s7 to s6\n",
    "s7-s6 #it will give element from the s7"
   ]
  },
  {
   "cell_type": "code",
   "execution_count": 150,
   "id": "b0000a52-835a-4a03-8089-f121f95ec2d0",
   "metadata": {},
   "outputs": [
    {
     "data": {
      "text/plain": [
       "{1, 2, 3, 4}"
      ]
     },
     "execution_count": 150,
     "metadata": {},
     "output_type": "execute_result"
    }
   ],
   "source": [
    "#8. SYMETRIC DIFFERENCE\n",
    "#it will give the values which are not common in set1 and set2 \n",
    "#symbol is ^\n",
    "s6"
   ]
  },
  {
   "cell_type": "code",
   "execution_count": 151,
   "id": "d83394a1-96ce-4cb9-9555-f2579e682ef0",
   "metadata": {},
   "outputs": [
    {
     "data": {
      "text/plain": [
       "{1, 3, 5, 7}"
      ]
     },
     "execution_count": 151,
     "metadata": {},
     "output_type": "execute_result"
    }
   ],
   "source": [
    "s7"
   ]
  },
  {
   "cell_type": "code",
   "execution_count": 153,
   "id": "e876cb99-f873-4965-ba52-65e30a44b42c",
   "metadata": {},
   "outputs": [],
   "source": [
    "s9= s6^s7"
   ]
  },
  {
   "cell_type": "code",
   "execution_count": 154,
   "id": "f60f8cfc-0181-40a9-8d7e-dcf24ea13721",
   "metadata": {},
   "outputs": [
    {
     "data": {
      "text/plain": [
       "{2, 4, 5, 7}"
      ]
     },
     "execution_count": 154,
     "metadata": {},
     "output_type": "execute_result"
    }
   ],
   "source": [
    "s9 #so here we see, 2,4,5,7 is not common in s6 and s7"
   ]
  },
  {
   "cell_type": "code",
   "execution_count": 155,
   "id": "9c10cbd6-6142-4f67-b93e-ad6a2fe5d786",
   "metadata": {},
   "outputs": [
    {
     "data": {
      "text/plain": [
       "{3, 'sio', 'sium'}"
      ]
     },
     "execution_count": 155,
     "metadata": {},
     "output_type": "execute_result"
    }
   ],
   "source": [
    "# 9. Len() funtion to see the length of the set \n",
    "s4"
   ]
  },
  {
   "cell_type": "code",
   "execution_count": 156,
   "id": "32f4f3dc-ed8d-4a30-8663-b660d38d97c2",
   "metadata": {},
   "outputs": [
    {
     "data": {
      "text/plain": [
       "3"
      ]
     },
     "execution_count": 156,
     "metadata": {},
     "output_type": "execute_result"
    }
   ],
   "source": [
    "len(s4)"
   ]
  },
  {
   "cell_type": "code",
   "execution_count": 158,
   "id": "7d935aba-e792-419a-a699-330e6d11f54d",
   "metadata": {},
   "outputs": [
    {
     "data": {
      "text/plain": [
       "4"
      ]
     },
     "execution_count": 158,
     "metadata": {},
     "output_type": "execute_result"
    }
   ],
   "source": [
    "len(s6)"
   ]
  },
  {
   "cell_type": "code",
   "execution_count": 159,
   "id": "786cdb91-f0f6-4ca8-b12b-79dfba5c8ea7",
   "metadata": {},
   "outputs": [
    {
     "data": {
      "text/plain": [
       "{1, 3, 5, 7}"
      ]
     },
     "execution_count": 159,
     "metadata": {},
     "output_type": "execute_result"
    }
   ],
   "source": [
    "# 10. Copy() function\n",
    "s7\n"
   ]
  },
  {
   "cell_type": "code",
   "execution_count": 164,
   "id": "325dd2c2-7502-4352-acaf-d86ffb4a6b54",
   "metadata": {},
   "outputs": [],
   "source": [
    "s10= s7.copy() #it will copy the s7"
   ]
  },
  {
   "cell_type": "code",
   "execution_count": 165,
   "id": "868c28f4-1c11-4bf7-84ed-7230220b5a07",
   "metadata": {},
   "outputs": [
    {
     "data": {
      "text/plain": [
       "{1, 3, 5, 7}"
      ]
     },
     "execution_count": 165,
     "metadata": {},
     "output_type": "execute_result"
    }
   ],
   "source": [
    "s10"
   ]
  },
  {
   "cell_type": "code",
   "execution_count": null,
   "id": "a34800c7-79ce-4542-a6d2-168459b8a763",
   "metadata": {},
   "outputs": [],
   "source": [
    "#if you have anything more, you can add into this file. Thanks"
   ]
  }
 ],
 "metadata": {
  "kernelspec": {
   "display_name": "Python 3 (ipykernel)",
   "language": "python",
   "name": "python3"
  },
  "language_info": {
   "codemirror_mode": {
    "name": "ipython",
    "version": 3
   },
   "file_extension": ".py",
   "mimetype": "text/x-python",
   "name": "python",
   "nbconvert_exporter": "python",
   "pygments_lexer": "ipython3",
   "version": "3.9.10"
  }
 },
 "nbformat": 4,
 "nbformat_minor": 5
}
