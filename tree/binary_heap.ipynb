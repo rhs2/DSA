{
 "cells": [
  {
   "cell_type": "markdown",
   "id": "c0ecf783-5f4c-4cd6-a45a-941ce92c558e",
   "metadata": {},
   "source": [
    "## binary heap is a complete binary tree that maintaining/satisfies the heap properties\n",
    "- 1. tree must be complete binary tree\n",
    "     - every level will be filled with the node except last level\n",
    "     - in the last level node will be filled from left to right\n",
    "    \n",
    "- 2. binary heap can be either min heap or max heap\n",
    "     - heap property in a tree means of a node in which key of the every parent node needs to be lesser than or equal to its child node(min heap) or greater than or equal to its child node(max heap)\n",
    "- min heap\n",
    "  - every parent must be lesser than or equal to its child node\n",
    "  - root node will be the smallest\n",
    "- max heap\n",
    "  - every parent must be greater than or equal to its child node\n",
    "  - root node will be the largest node of the tree\n",
    "- where we can use heap\n",
    "  - to implement priority queue\n",
    "  - in the heap sort algo\n",
    "  - to find the kth largest or smallest element\n",
    "\n",
    "- Binary heap operation\n",
    "  - 1. Heapify()\n",
    "     - rearrange the element of the heap by maaintaining its properties\n",
    "     - used to create a complete binary heap from complete binary tree\n",
    "  - 2. Insertion()\n",
    "     - to maintain the complete bst tree structure\n",
    "     - add elements in the first open spot and then heapify() that element by up wards direction\n",
    "     - by going upwards heapify it is called heapify_up()/bubble_up()/ up_head/ sift_up(), trickle_up()/ swim_up()/ percolate_up()\n",
    "  - 3. Deletion()\n",
    "     - to delete a data from bst by maintaing the heap properties\n",
    "     - 1. replace the node with the last leaf node\n",
    "       2. delete the last node\n",
    "       3. heapify the node which was swaped in a position with its child node\n",
    "     - in the deletion method if we find a situation where we need to heapify the node with its 2 child node for the max heapify we will take the bigger value for mean heap we will take the smallest value\n",
    "     - in the deletion we always need heapify the node by going into downwards direction, it is called heapify_down()/ bubble_down()/ sink_down()/ percolate_down()/ down_heap()/ extract_down()/ sift_down()\n",
    "  - 4. Extract Min/ Max()\n",
    "     - print the node of the minimum key/maximum key\n",
    "  - 5. Get min/max()\n",
    "     - to print the roots nodes key to get the max or min value from the binary heap\n"
   ]
  },
  {
   "cell_type": "markdown",
   "id": "df737717-521a-450a-a754-668b9749355d",
   "metadata": {},
   "source": [
    "# In a binary heap insertion we have 2 methods\n",
    "- 1. William Method- who created the binary heap\n",
    "  - 1. take a empty heap\n",
    "    2. insert a element of list in the heap one by one\n",
    "    3. after inserting one element check whether it is following heap properties or not\n",
    "\n",
    "- 2. 2nd approach\n",
    "  - 1. construct a complete binary tree following the given list of numbers\n",
    "    2. then start heapifying: starting from the last leaf node (last internal node because leaf node does not contain any child)"
   ]
  },
  {
   "cell_type": "markdown",
   "id": "cfb5cb0d-3f6a-4701-9d71-719b0742f4a2",
   "metadata": {},
   "source": [
    "# Binary heap list representation\n",
    "- in the complete binary tree we can say how many nodes will be in the each level except the last level\n",
    "- by indexing the the node of the tree in a levelwise order\n",
    "\n",
    "# finding the position of a node in a list representation\n",
    "- root --- index[0]\n",
    "- left child --- index[1]\n",
    "- right child --- index[2]\n",
    "\n",
    "# in the ith position\n",
    "- ith --- list[i]\n",
    "- parent --- (i-1)//2\n",
    "- left child --- (2*i)+1\n",
    "- right child ---(2*1)+2\n"
   ]
  },
  {
   "cell_type": "markdown",
   "id": "341cb0f4-28c8-42bb-996e-005fada6679a",
   "metadata": {},
   "source": [
    "## Heapq Module\n",
    "- provide the min heap\n",
    "- best for priority queue\n",
    "- find the largest or smallest"
   ]
  },
  {
   "cell_type": "code",
   "execution_count": 1,
   "id": "348c22ef-1828-406e-8368-81be4730c5a4",
   "metadata": {},
   "outputs": [],
   "source": [
    "import heapq\n",
    "heap =[]"
   ]
  },
  {
   "cell_type": "code",
   "execution_count": 2,
   "id": "5031b8bc-b19b-4bab-97e6-ff33faefcd56",
   "metadata": {},
   "outputs": [],
   "source": [
    "#heappush--- push an item in a heap by maintaining min heap properties\n",
    "heapq.heappush(heap, 10)"
   ]
  },
  {
   "cell_type": "code",
   "execution_count": 3,
   "id": "a4652a8d-9669-4b58-834b-78849fb58e1c",
   "metadata": {},
   "outputs": [],
   "source": [
    "heapq.heappush(heap,15)"
   ]
  },
  {
   "cell_type": "code",
   "execution_count": 4,
   "id": "0befdc4f-2ae4-48f4-a0b6-0d1243f9886f",
   "metadata": {},
   "outputs": [],
   "source": [
    "heapq.heappush(heap, 5)"
   ]
  },
  {
   "cell_type": "code",
   "execution_count": 5,
   "id": "3a478dea-756e-4373-bd66-105684c9243a",
   "metadata": {},
   "outputs": [],
   "source": [
    "heapq.heappush(heap, 74)"
   ]
  },
  {
   "cell_type": "code",
   "execution_count": 6,
   "id": "c99f631a-d5f7-4006-8d02-24dd2d793d34",
   "metadata": {},
   "outputs": [
    {
     "data": {
      "text/plain": [
       "[5, 15, 10, 74]"
      ]
     },
     "execution_count": 6,
     "metadata": {},
     "output_type": "execute_result"
    }
   ],
   "source": [
    "heap"
   ]
  },
  {
   "cell_type": "code",
   "execution_count": 7,
   "id": "c9aabe45-0607-4faf-9030-7724542d1f96",
   "metadata": {},
   "outputs": [
    {
     "data": {
      "text/plain": [
       "5"
      ]
     },
     "execution_count": 7,
     "metadata": {},
     "output_type": "execute_result"
    }
   ],
   "source": [
    "# heappop()--- return the smallest value alsoit will maintain the heap properties\n",
    "heapq.heappop(heap)"
   ]
  },
  {
   "cell_type": "code",
   "execution_count": 8,
   "id": "647c9ace-a016-44db-8d44-d3ff61141fa4",
   "metadata": {},
   "outputs": [
    {
     "data": {
      "text/plain": [
       "10"
      ]
     },
     "execution_count": 8,
     "metadata": {},
     "output_type": "execute_result"
    }
   ],
   "source": [
    "heapq.heappop(heap)"
   ]
  },
  {
   "cell_type": "code",
   "execution_count": 9,
   "id": "d823ed13-d10a-485a-9efd-e3634166b8ef",
   "metadata": {},
   "outputs": [],
   "source": [
    "#heapify()--- it will heapify the heap by maintaining the heap properties\n",
    "heapq.heapify(heap)"
   ]
  },
  {
   "cell_type": "code",
   "execution_count": 10,
   "id": "242fdc87-4064-4093-8e8c-19ecf41d6f7e",
   "metadata": {},
   "outputs": [
    {
     "data": {
      "text/plain": [
       "[15, 74]"
      ]
     },
     "execution_count": 10,
     "metadata": {},
     "output_type": "execute_result"
    }
   ],
   "source": [
    "heap"
   ]
  },
  {
   "cell_type": "code",
   "execution_count": 11,
   "id": "56c83753-205b-4ca5-b824-19567f1897b9",
   "metadata": {},
   "outputs": [],
   "source": [
    "heapq.heappush(heap, 5)"
   ]
  },
  {
   "cell_type": "code",
   "execution_count": 12,
   "id": "9a3ae92c-d0f4-4b41-966b-57335f0f7c30",
   "metadata": {},
   "outputs": [],
   "source": [
    "heapq.heappush(heap, 10)"
   ]
  },
  {
   "cell_type": "code",
   "execution_count": 13,
   "id": "13c66bb2-d2cb-4a87-8624-a492940ea14b",
   "metadata": {},
   "outputs": [
    {
     "data": {
      "text/plain": [
       "[5, 10, 15, 74]"
      ]
     },
     "execution_count": 13,
     "metadata": {},
     "output_type": "execute_result"
    }
   ],
   "source": [
    "heap"
   ]
  },
  {
   "cell_type": "code",
   "execution_count": 15,
   "id": "ed6ae152-1327-4062-9308-a22c905c7a41",
   "metadata": {},
   "outputs": [
    {
     "data": {
      "text/plain": [
       "5"
      ]
     },
     "execution_count": 15,
     "metadata": {},
     "output_type": "execute_result"
    }
   ],
   "source": [
    "#heappushpop()--- first, it will insert a item in the heap then return a smallest value from the heap() by maintaing heap properties\n",
    "heapq.heappushpop(heap, 25)"
   ]
  },
  {
   "cell_type": "code",
   "execution_count": 17,
   "id": "b091700c-0b7a-444d-acaa-7e96baf2ab9d",
   "metadata": {},
   "outputs": [
    {
     "data": {
      "text/plain": [
       "10"
      ]
     },
     "execution_count": 17,
     "metadata": {},
     "output_type": "execute_result"
    }
   ],
   "source": [
    "#heapreplace()--- first it will return a smallest value then it will insert the item in the heap\n",
    "heapq.heapreplace(heap,40)"
   ]
  },
  {
   "cell_type": "code",
   "execution_count": 19,
   "id": "ebd5705c-9972-4a26-bd9d-5eb5e28ff123",
   "metadata": {},
   "outputs": [
    {
     "data": {
      "text/plain": [
       "[74, 40]"
      ]
     },
     "execution_count": 19,
     "metadata": {},
     "output_type": "execute_result"
    }
   ],
   "source": [
    "#n largest--- it will return n number of largest value from the heap\n",
    "heapq.nlargest(2, heap)"
   ]
  },
  {
   "cell_type": "code",
   "execution_count": 20,
   "id": "879cc29f-4ee9-4cf1-871b-236017d60b25",
   "metadata": {},
   "outputs": [
    {
     "data": {
      "text/plain": [
       "[15]"
      ]
     },
     "execution_count": 20,
     "metadata": {},
     "output_type": "execute_result"
    }
   ],
   "source": [
    "#n smallest--- it will return n number of smallest value from the heap\n",
    "heapq.nsmallest(1, heap)"
   ]
  },
  {
   "cell_type": "code",
   "execution_count": null,
   "id": "064c2f0e-d121-46b3-8391-463fb5001b55",
   "metadata": {},
   "outputs": [],
   "source": []
  }
 ],
 "metadata": {
  "kernelspec": {
   "display_name": "Python 3 (ipykernel)",
   "language": "python",
   "name": "python3"
  },
  "language_info": {
   "codemirror_mode": {
    "name": "ipython",
    "version": 3
   },
   "file_extension": ".py",
   "mimetype": "text/x-python",
   "name": "python",
   "nbconvert_exporter": "python",
   "pygments_lexer": "ipython3",
   "version": "3.9.10"
  }
 },
 "nbformat": 4,
 "nbformat_minor": 5
}
