{
 "cells": [
  {
   "cell_type": "code",
   "execution_count": 1,
   "id": "733f0e65-2f69-4362-971d-e7a02125d789",
   "metadata": {},
   "outputs": [
    {
     "name": "stdout",
     "output_type": "stream",
     "text": [
      "10 40 20 30 "
     ]
    }
   ],
   "source": [
    "# singly linked list node\n",
    "# creating a new node\n",
    "class Node():\n",
    "    def __init__(self, data):\n",
    "        self.data = data\n",
    "        self.ref = None\n",
    "#building a singly linked list blueprint\n",
    "class LL:\n",
    "    def __init__(self):\n",
    "        self.head = None\n",
    "# 1. check if the linked list is empty or not\n",
    "# 2. if not then traversal through each node and print its data, by taking while loop we know when to stop\n",
    "    def traversal(self):\n",
    "        if self.head == None:\n",
    "            print(\"Linked list is empty\")\n",
    "        else:\n",
    "            n = self.head\n",
    "            while n is not None:\n",
    "                print(n.data, end=\" \")\n",
    "                n = n.ref\n",
    "# Insert Operation\n",
    "# Insert at the beginning of the linked list\n",
    "# 1. check if linked list is empty\n",
    "# ---1. create a new node\n",
    "# ---2. change make the new node to head of that ll\n",
    "# 2. if linked list not empty\n",
    "# ---1. create a new node using node class\n",
    "# ---2. new_node.ref == self.head\n",
    "# ---3. self.head == new_node\n",
    "    def insert_begin(self, data):\n",
    "        if self.head is None:\n",
    "            new_node = Node(data)            \n",
    "            self.head = new_node\n",
    "        else:\n",
    "            new_node = Node(data)\n",
    "            new_node.ref = self.head\n",
    "            self.head = new_node\n",
    "\n",
    "# Insert at the end of the linked list\n",
    "#1. if ll is empty\n",
    "    # -- add that node as head\n",
    "# 2 if ll is not empty\n",
    "    # -- create a node\n",
    "    # -- go to the last node- by using while n.ref is not None: \n",
    "    # -- add the new_node to last node ref\n",
    "    def insert_end(self,data):\n",
    "        if self.head is None:\n",
    "            new_node = Node(data)\n",
    "            self.head = new_node\n",
    "        else:\n",
    "            n= self.head\n",
    "            new_node = Node(data)\n",
    "            while n.ref is not None:\n",
    "                n=n.ref\n",
    "            n.ref = new_node\n",
    "# insert in between\n",
    "# add after method\n",
    "# create a node\n",
    "# 1. we need to go for a loop to check the entire linked list\n",
    "# --- while n is not None:\n",
    "# --- if n.data == x: break or  n= n.ref\n",
    "# --- is n is None that means we could not found the x\n",
    "# --- else: we found the x and proceed with\n",
    "    def insert_after(self, data, x):\n",
    "        n = self.head\n",
    "        while n is not None:\n",
    "            if x == n.data: break\n",
    "            n = n.ref\n",
    "        if n is None:\n",
    "            print(\"Given node not present in the linked list\")\n",
    "        else:\n",
    "            new_node = Node(data)\n",
    "            new_node.ref = n.ref\n",
    "            n.ref = new_node\n",
    "\n",
    "# inserting at before a given node\n",
    "# creating a new node\n",
    "# 1. if x == n.data:\n",
    "# -- new_node.ref = n.ref\n",
    "# -- self.head = new_node\n",
    "# 2. while n.ref is not none: to go to the node that is before given node\n",
    "# if x == n.data: break and n= n.ref\n",
    "# if n is none -print(found) else: rest\n",
    "    def insert_before(self, data, x):\n",
    "        if self.head == None:\n",
    "            print(\"LL is empty\")\n",
    "            return\n",
    "        if self.head.data == x:\n",
    "            new_node = Node(data)\n",
    "            new_node.ref = self.head.ref\n",
    "            self.head = new_node\n",
    "        else:\n",
    "            n = self.head\n",
    "            while n.ref is not None:\n",
    "                if n.ref.data == x: break\n",
    "                n=n.ref\n",
    "            if n.ref is None: print(\"Given node is not present in the linked list\")\n",
    "            else:\n",
    "                new_node = Node(data)\n",
    "                new_node.ref = n.ref\n",
    "                n.ref = new_node\n",
    "# 1. check if linked list is empty or not\n",
    "# -- if empty(ll is empty)\n",
    "# 2. if head.ref is None: make head = None\n",
    "# 3. else: \n",
    "    def delete_begin(self):\n",
    "        if self.head == None:\n",
    "            print('LL is empty')\n",
    "        else:\n",
    "            n = self.head\n",
    "            self.head = n.ref\n",
    "\n",
    "# 1. check if ll is empty\n",
    "# 2. if ll has only 1 element\n",
    "# 3. go to the second last node and make it ref to none\n",
    "    def delete_end(self):\n",
    "        if self.head == None:\n",
    "            print('Linked list is empty')\n",
    "            return\n",
    "        if self.head.ref is None:\n",
    "            self.head = None\n",
    "        else:\n",
    "            n = self.head\n",
    "            while n.ref.ref is not None:\n",
    "                n = n.ref\n",
    "            n.ref = None\n",
    "# delete by value\n",
    "# 1. check if ll is empty\n",
    "# 2. check if given node is the head then head should be head.ref\n",
    "# 3. go to the given node position and changed it ref to ref.ref\n",
    "    def delete_by_val(self, x):\n",
    "        if self.head == None:\n",
    "            print(\"LL is empty so we can not delete\")\n",
    "            return\n",
    "        if self.head.data==x:            \n",
    "            self.head = self.head.ref\n",
    "            return\n",
    "            \n",
    "        n = self.head\n",
    "        while n.ref is not None:\n",
    "            if n.ref.data == x: \n",
    "                break\n",
    "            n = n.ref\n",
    "        if n.ref is None:\n",
    "            print(\"Given node not present in the linked list\")\n",
    "        else:\n",
    "            n.ref = n.ref.ref\n",
    "            \n",
    "            \n",
    "ll1= LL()\n",
    "ll1.insert_begin(20)\n",
    "ll1.insert_begin(10)\n",
    "ll1.insert_end(30)\n",
    "ll1.insert_after(40,10)\n",
    "ll1.traversal()"
   ]
  },
  {
   "cell_type": "code",
   "execution_count": 2,
   "id": "72e8c310-0a13-4408-84b2-ba188554c48d",
   "metadata": {},
   "outputs": [],
   "source": [
    "ll1.insert_before(70,30)"
   ]
  },
  {
   "cell_type": "code",
   "execution_count": 3,
   "id": "6ea7f89f-8811-4882-badc-a7a719bfe67d",
   "metadata": {},
   "outputs": [
    {
     "name": "stdout",
     "output_type": "stream",
     "text": [
      "10 40 20 70 30 "
     ]
    }
   ],
   "source": [
    "ll1.traversal()"
   ]
  },
  {
   "cell_type": "code",
   "execution_count": 4,
   "id": "1a534980-43ca-4f6a-8008-97c0921fe07b",
   "metadata": {},
   "outputs": [
    {
     "name": "stdout",
     "output_type": "stream",
     "text": [
      "Given node is not present in the linked list\n"
     ]
    }
   ],
   "source": [
    "ll1.insert_before(70,500)"
   ]
  },
  {
   "cell_type": "code",
   "execution_count": 5,
   "id": "c5e6ee9d-7cd7-4b26-b50f-26c695867aae",
   "metadata": {},
   "outputs": [],
   "source": [
    "ll1.insert_before(80,10)"
   ]
  },
  {
   "cell_type": "code",
   "execution_count": 6,
   "id": "391bf5ed-40e8-4203-9c3a-931afe5abffa",
   "metadata": {},
   "outputs": [
    {
     "name": "stdout",
     "output_type": "stream",
     "text": [
      "80 40 20 70 30 "
     ]
    }
   ],
   "source": [
    "ll1.traversal()"
   ]
  },
  {
   "cell_type": "code",
   "execution_count": 7,
   "id": "175e38e2-deff-4731-acde-b61160a12d97",
   "metadata": {},
   "outputs": [],
   "source": [
    "ll1.delete_begin()"
   ]
  },
  {
   "cell_type": "code",
   "execution_count": 8,
   "id": "8cc4fad7-4cf3-43f3-9f64-1dd365dea5d0",
   "metadata": {},
   "outputs": [
    {
     "name": "stdout",
     "output_type": "stream",
     "text": [
      "40 20 70 30 "
     ]
    }
   ],
   "source": [
    "ll1.traversal()"
   ]
  },
  {
   "cell_type": "code",
   "execution_count": 9,
   "id": "fd7ca103-cd6e-45d9-a302-6a7d2f29c956",
   "metadata": {},
   "outputs": [],
   "source": [
    "ll1.delete_by_val(20)"
   ]
  },
  {
   "cell_type": "code",
   "execution_count": 10,
   "id": "9cd9c084-5baf-4a5b-8af1-1a72c2836015",
   "metadata": {},
   "outputs": [
    {
     "name": "stdout",
     "output_type": "stream",
     "text": [
      "40 70 30 "
     ]
    }
   ],
   "source": [
    "ll1.traversal()"
   ]
  },
  {
   "cell_type": "code",
   "execution_count": 11,
   "id": "1f07e8f0-e142-4e7c-9587-1b98480a9fc2",
   "metadata": {},
   "outputs": [],
   "source": [
    "ll1.delete_by_val(70)"
   ]
  },
  {
   "cell_type": "code",
   "execution_count": 12,
   "id": "ff68515e-675a-4d91-b2b5-0d62cabfeef6",
   "metadata": {},
   "outputs": [],
   "source": [
    "ll1.delete_end()"
   ]
  },
  {
   "cell_type": "code",
   "execution_count": 13,
   "id": "7b85c80f-6a0f-41c6-8979-63a8ebdbe3c3",
   "metadata": {},
   "outputs": [
    {
     "name": "stdout",
     "output_type": "stream",
     "text": [
      "40 "
     ]
    }
   ],
   "source": [
    "ll1.traversal()"
   ]
  },
  {
   "cell_type": "code",
   "execution_count": 188,
   "id": "c191c532-b8fd-4489-ac8c-1ba0261ddae8",
   "metadata": {},
   "outputs": [],
   "source": [
    "## Doubly Linked List\n",
    "class dnode():\n",
    "    def __init__(self, data):\n",
    "        self.data = data\n",
    "        self.nref = None\n",
    "        self.pref = None\n",
    "class DLL():\n",
    "    def __init__(self):\n",
    "        self.head = None\n",
    "\n",
    "# Traversal Operation\n",
    "# 1. forward traversal\n",
    "# -- check if dll is empty\n",
    "# -- go through each node by while loop\n",
    "# print the data of each node \n",
    "    def traversal(self):\n",
    "        if self.head is None:\n",
    "            print(\"Doubly linked list is empty\")\n",
    "        else:\n",
    "            n = self.head\n",
    "            while n is not None:\n",
    "                print(n.data, end=\" \")\n",
    "                n = n.nref\n",
    "# 2. traversal backward\n",
    "# -- go to the last node\n",
    "# -- print that data\n",
    "# -- then come back to the head\n",
    "    def traversal_reverse(self):\n",
    "        if self.head is None:\n",
    "            print(\"Doubly linked list is empty\")\n",
    "        else:\n",
    "            n = self.head\n",
    "            while n.nref is not None:\n",
    "                n = n.nref\n",
    "            while n is not None:\n",
    "                print(n.data, end=\" \")\n",
    "                n = n.pref\n",
    "# Insertion operation\n",
    "# 1. Insert at the beginning\n",
    "# --create a new node\n",
    "# -- and make it head\n",
    "    def insert_empty_ll(self, data):\n",
    "        if self.head is None:\n",
    "            new_node =dnode(data)\n",
    "            self.head = new_node\n",
    "        else:\n",
    "            print(\"Linked list is not empty\")\n",
    "# insert at begin\n",
    "# -- create a new node\n",
    "# -- if head is none -- then make that new node to head\n",
    "# -- if head is not none then change new_node.nref = head and head.pref = new_node and make the new node as head\n",
    "    def insert_begin(self, data):\n",
    "        if self.head is None:\n",
    "            new_node = dnode(data)\n",
    "            self.head = new_node\n",
    "        else:\n",
    "            new_node = dnode(data)\n",
    "            new_node.nref = self.head\n",
    "            self.head.pref = new_node\n",
    "            self.head = new_node\n",
    "\n",
    "# insertion at the end\n",
    "# ---create a new node\n",
    "# ---go to the last node\n",
    "# --- changed n.nref - new_node and new_node.pref to last node\n",
    "    def insert_end(self, data):\n",
    "        if self.head is None:\n",
    "            new_node = nnode(data)\n",
    "            self.head = new_node\n",
    "        else:\n",
    "            n = self.head\n",
    "            while n.nref is not None:\n",
    "                n=n.nref\n",
    "            new_node = dnode(data)\n",
    "            n.nref = new_node\n",
    "            new_node.pref = n\n",
    "#  insert in between\n",
    "# insert after a given node\n",
    "# --create a new node\n",
    "# -- go to the given node and change it n.nref to new_node\n",
    "# --also change new_node.pref to that given node\n",
    "    def insert_after(self,data, x):\n",
    "        if self.head.nref is None:\n",
    "            new_node = dnode(data)\n",
    "            new_node.pref = self.head\n",
    "            self.head.nref = new_node.pref\n",
    "        else:\n",
    "            n = self.head\n",
    "            while n is not None:\n",
    "                if n.data==x: break\n",
    "                n = n.nref\n",
    "            if n is None: print(\"Given node not present in the linked list\")\n",
    "            else:\n",
    "                new_node= dnode(data)\n",
    "                new_node.nref = n.nref\n",
    "                new_node.pref = n\n",
    "                if n.nref is not None:\n",
    "                    n.nref.pref = new_node\n",
    "                n.nref = new_node\n",
    "# insertion at the before of given node\n",
    "# go to the previous node of that given node\n",
    "# add that node ref and chnaged the ref of those 2 node\n",
    "    def insert_before(self, data, x):\n",
    "        if self.head is None:\n",
    "            print(\"Linked list is empty\")\n",
    "            return\n",
    "        if self.head ==x:\n",
    "            new_node = dnode(data)\n",
    "            new_node.nref = self.head\n",
    "            self.head.pref = new_node\n",
    "            self.head = new_node\n",
    "        else:\n",
    "            n = self.head\n",
    "            while n.nref is not None:\n",
    "                if n.nref.data == x: break\n",
    "                n= n.nref\n",
    "            if n.nref is None:print(\"given data is not present in the linked list\")\n",
    "            else:\n",
    "                new_node =dnode(data)\n",
    "                new_node.nref= n.nref\n",
    "                new_node.pref= n\n",
    "                n.nref.pref = new_node\n",
    "                n.nref = new_node\n",
    "# delete operation\n",
    "# 1. delete_begin\n",
    "# check if ll is empty or not\n",
    "# make self.head = n.nref\n",
    "# now make head previous node to None\n",
    "# 1. begin value\n",
    "# 2. linked list is empty\n",
    "\n",
    "    def delete_begin(self):\n",
    "        if not self.head:\n",
    "            print(\"doubly Linked list is empty\")\n",
    "        else:\n",
    "            n=self.head           \n",
    "            self.head = n.nref \n",
    "            n.pref = None\n",
    "# delete at the end\n",
    "# linked list can be empty\n",
    "# linked list can have only 1 elements\n",
    "# --go to the previous node of the last node\n",
    "#1. if linked list is empty or not\n",
    "# 2. if linked list contain only one element and which is head\n",
    "# 3. rest cases\n",
    "    def delete_end(self):\n",
    "        if not self.head:\n",
    "            print(\"Doubly linked list is empty\")\n",
    "            return\n",
    "        if self.head.nref is None:\n",
    "            self.head = None\n",
    "        else:\n",
    "            n = self.head\n",
    "            while n.nref.nref is not None:\n",
    "                n = n.nref\n",
    "            n.nref = None\n",
    "# delete by val\n",
    "# go to that exact node\n",
    "# change its pref.nref to its n.nref\n",
    "# change its n.ref.pref to n.pref\n",
    "# 1. if ll is empty or not\n",
    "# 2. if linked list contain only head\n",
    "# 3. if linked list contain more values but given data is head\n",
    "# 4. delete from middle\n",
    "# 5. if given data is the last node\n",
    "    def delete_by_val(self,x):\n",
    "        if not self.head: \n",
    "            print(\"Doubly linked list is empty\") \n",
    "            return\n",
    "        if self.head.nref is None:\n",
    "            self.head = None\n",
    "            return\n",
    "        if self.head.data ==x:\n",
    "            self.head = self.head.nref\n",
    "            self.head.pref = None\n",
    "        else:\n",
    "            n = self.head\n",
    "            while n is not None:\n",
    "                if n.data==x:break\n",
    "                n=n.nref\n",
    "                if n.nref is not None:                   \n",
    "                    n.pref.nref=n.nref\n",
    "                    n.nref.pref =n.pref\n",
    "                else:\n",
    "                    if n.data==x:\n",
    "                        n.pref.nref= None\n",
    "                    else:\n",
    "                        print(\"Given node is not present in the ll\")\n",
    "\n",
    "        \n",
    "        \n",
    "                \n",
    "            \n",
    "            \n",
    "            \n",
    "                \n",
    "\n",
    "                \n",
    "\n",
    "ll2= DLL()"
   ]
  },
  {
   "cell_type": "code",
   "execution_count": 189,
   "id": "66399d49-fbc6-4393-8f7c-6a4252aef275",
   "metadata": {},
   "outputs": [
    {
     "name": "stdout",
     "output_type": "stream",
     "text": [
      "Doubly linked list is empty\n"
     ]
    }
   ],
   "source": [
    "ll2.traversal()"
   ]
  },
  {
   "cell_type": "code",
   "execution_count": 190,
   "id": "c9126c9d-3622-4732-b0da-3f523237ae24",
   "metadata": {},
   "outputs": [
    {
     "name": "stdout",
     "output_type": "stream",
     "text": [
      "Doubly linked list is empty\n"
     ]
    }
   ],
   "source": [
    "ll2.traversal_reverse()"
   ]
  },
  {
   "cell_type": "code",
   "execution_count": 191,
   "id": "7b9d9784-0ca8-4082-b944-c5e7ba0b8839",
   "metadata": {},
   "outputs": [],
   "source": [
    "ll2.insert_empty_ll(10)"
   ]
  },
  {
   "cell_type": "code",
   "execution_count": 192,
   "id": "29319103-8c26-4277-b9ee-6410e90d73a7",
   "metadata": {},
   "outputs": [
    {
     "name": "stdout",
     "output_type": "stream",
     "text": [
      "10 "
     ]
    }
   ],
   "source": [
    "ll2.traversal()"
   ]
  },
  {
   "cell_type": "code",
   "execution_count": 193,
   "id": "62faf338-b5fe-4614-bc5e-82ed161905f8",
   "metadata": {},
   "outputs": [
    {
     "name": "stdout",
     "output_type": "stream",
     "text": [
      "10 "
     ]
    }
   ],
   "source": [
    "ll2.traversal_reverse()"
   ]
  },
  {
   "cell_type": "code",
   "execution_count": 194,
   "id": "96a705a0-4bee-4ffe-b913-c6b50901d50f",
   "metadata": {},
   "outputs": [],
   "source": [
    "ll2.insert_begin(20)"
   ]
  },
  {
   "cell_type": "code",
   "execution_count": 195,
   "id": "93e6730c-383d-4328-8bef-d960279eb368",
   "metadata": {},
   "outputs": [
    {
     "name": "stdout",
     "output_type": "stream",
     "text": [
      "20 10 "
     ]
    }
   ],
   "source": [
    "ll2.traversal()"
   ]
  },
  {
   "cell_type": "code",
   "execution_count": 196,
   "id": "a4e0bc06-7bc0-4850-9ee8-e03e8dfb709a",
   "metadata": {},
   "outputs": [],
   "source": [
    "ll2.insert_end(40)"
   ]
  },
  {
   "cell_type": "code",
   "execution_count": 197,
   "id": "fd6156b3-844f-492b-abf8-bfdeca81b42f",
   "metadata": {},
   "outputs": [
    {
     "name": "stdout",
     "output_type": "stream",
     "text": [
      "20 10 40 "
     ]
    }
   ],
   "source": [
    "ll2.traversal()"
   ]
  },
  {
   "cell_type": "code",
   "execution_count": 198,
   "id": "fac41bf0-ea22-4daa-8482-3f1569fc8504",
   "metadata": {},
   "outputs": [],
   "source": [
    "ll2.insert_after(50,10)"
   ]
  },
  {
   "cell_type": "code",
   "execution_count": 199,
   "id": "cc6450f4-9ba3-452f-9993-d17f8a622f1a",
   "metadata": {},
   "outputs": [
    {
     "name": "stdout",
     "output_type": "stream",
     "text": [
      "20 10 50 40 "
     ]
    }
   ],
   "source": [
    "ll2.traversal()"
   ]
  },
  {
   "cell_type": "code",
   "execution_count": 200,
   "id": "ac9c939f-1a30-40ec-8208-ff40dfbd0ddd",
   "metadata": {},
   "outputs": [],
   "source": [
    "ll2.insert_before(60, 50)"
   ]
  },
  {
   "cell_type": "code",
   "execution_count": 201,
   "id": "a8ab8965-0f80-47af-857b-df270943037b",
   "metadata": {},
   "outputs": [
    {
     "name": "stdout",
     "output_type": "stream",
     "text": [
      "20 10 60 50 40 "
     ]
    }
   ],
   "source": [
    "ll2.traversal()"
   ]
  },
  {
   "cell_type": "code",
   "execution_count": 202,
   "id": "37c7e7df-7b5e-4fa2-bcc1-01f8e52d23bf",
   "metadata": {},
   "outputs": [],
   "source": [
    "ll2.delete_begin()"
   ]
  },
  {
   "cell_type": "code",
   "execution_count": 203,
   "id": "5c553ef3-5236-4a89-856a-5d595adfd552",
   "metadata": {},
   "outputs": [
    {
     "name": "stdout",
     "output_type": "stream",
     "text": [
      "10 60 50 40 "
     ]
    }
   ],
   "source": [
    "ll2.traversal()"
   ]
  },
  {
   "cell_type": "code",
   "execution_count": 204,
   "id": "5b513efb-47a1-4692-aff2-2fa048852c3d",
   "metadata": {},
   "outputs": [],
   "source": [
    "ll2.delete_end()"
   ]
  },
  {
   "cell_type": "code",
   "execution_count": 205,
   "id": "b4ce731c-2837-4e08-9a2f-4b8f42dea82c",
   "metadata": {},
   "outputs": [
    {
     "name": "stdout",
     "output_type": "stream",
     "text": [
      "10 60 50 "
     ]
    }
   ],
   "source": [
    "ll2.traversal()"
   ]
  },
  {
   "cell_type": "code",
   "execution_count": 206,
   "id": "9999b749-34cf-462a-9a19-55a0148429b1",
   "metadata": {},
   "outputs": [],
   "source": [
    "ll2.delete_by_val(10)"
   ]
  },
  {
   "cell_type": "code",
   "execution_count": 207,
   "id": "0793280b-96f8-4694-81ad-dd2162121162",
   "metadata": {},
   "outputs": [
    {
     "name": "stdout",
     "output_type": "stream",
     "text": [
      "60 50 "
     ]
    }
   ],
   "source": [
    "ll2.traversal()"
   ]
  },
  {
   "cell_type": "code",
   "execution_count": 208,
   "id": "2b0c36fc-dafd-49e2-8c9a-9df98c60e791",
   "metadata": {},
   "outputs": [],
   "source": [
    "ll2.insert_end(40)"
   ]
  },
  {
   "cell_type": "code",
   "execution_count": 209,
   "id": "9ee57d4b-f2d0-405d-b59f-934d11e53293",
   "metadata": {},
   "outputs": [
    {
     "name": "stdout",
     "output_type": "stream",
     "text": [
      "60 50 40 "
     ]
    }
   ],
   "source": [
    "ll2.traversal()"
   ]
  },
  {
   "cell_type": "code",
   "execution_count": 210,
   "id": "a63e509a-f58d-4899-a41a-328d1c68a659",
   "metadata": {},
   "outputs": [],
   "source": [
    "ll2.delete_by_val(50)"
   ]
  },
  {
   "cell_type": "code",
   "execution_count": 211,
   "id": "8f9b2825-93ec-41c0-b879-376e82dae53a",
   "metadata": {},
   "outputs": [
    {
     "name": "stdout",
     "output_type": "stream",
     "text": [
      "60 40 "
     ]
    }
   ],
   "source": [
    "ll2.traversal()"
   ]
  },
  {
   "cell_type": "code",
   "execution_count": 212,
   "id": "41cb3e64-98c9-4bd6-a416-5ce1da0dbfff",
   "metadata": {},
   "outputs": [],
   "source": [
    "ll2.delete_by_val(40)"
   ]
  },
  {
   "cell_type": "code",
   "execution_count": 213,
   "id": "b02ad121-dd84-43bf-a80e-9cd9afc2e98f",
   "metadata": {},
   "outputs": [
    {
     "name": "stdout",
     "output_type": "stream",
     "text": [
      "60 "
     ]
    }
   ],
   "source": [
    "ll2.traversal()"
   ]
  },
  {
   "cell_type": "code",
   "execution_count": 214,
   "id": "32aa7d9e-81a1-4113-a879-e2ef12f6ad6a",
   "metadata": {},
   "outputs": [],
   "source": [
    "ll2.delete_by_val(60)"
   ]
  },
  {
   "cell_type": "code",
   "execution_count": 215,
   "id": "d57eadf2-7de5-4b2c-a716-c5176f0771e2",
   "metadata": {},
   "outputs": [
    {
     "name": "stdout",
     "output_type": "stream",
     "text": [
      "Doubly linked list is empty\n"
     ]
    }
   ],
   "source": [
    "ll2.traversal()"
   ]
  },
  {
   "cell_type": "code",
   "execution_count": null,
   "id": "36d4df0f-652d-4aea-b774-f16570074f6e",
   "metadata": {},
   "outputs": [],
   "source": []
  },
  {
   "cell_type": "code",
   "execution_count": null,
   "id": "10c44eb0-33e1-4626-91f3-86ce6a392da0",
   "metadata": {},
   "outputs": [],
   "source": []
  },
  {
   "cell_type": "code",
   "execution_count": null,
   "id": "7b36bba1-698c-400c-96e4-1abc74c8c1da",
   "metadata": {},
   "outputs": [],
   "source": []
  }
 ],
 "metadata": {
  "kernelspec": {
   "display_name": "Python 3 (ipykernel)",
   "language": "python",
   "name": "python3"
  },
  "language_info": {
   "codemirror_mode": {
    "name": "ipython",
    "version": 3
   },
   "file_extension": ".py",
   "mimetype": "text/x-python",
   "name": "python",
   "nbconvert_exporter": "python",
   "pygments_lexer": "ipython3",
   "version": "3.9.10"
  }
 },
 "nbformat": 4,
 "nbformat_minor": 5
}
