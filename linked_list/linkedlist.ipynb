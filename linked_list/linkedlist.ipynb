{
 "cells": [
  {
   "cell_type": "code",
   "execution_count": 1,
   "id": "733f0e65-2f69-4362-971d-e7a02125d789",
   "metadata": {},
   "outputs": [
    {
     "name": "stdout",
     "output_type": "stream",
     "text": [
      "10 40 20 30 "
     ]
    }
   ],
   "source": [
    "# singly linked list node\n",
    "# creating a new node\n",
    "class Node():\n",
    "    def __init__(self, data):\n",
    "        self.data = data\n",
    "        self.ref = None\n",
    "#building a singly linked list blueprint\n",
    "class LL:\n",
    "    def __init__(self):\n",
    "        self.head = None\n",
    "# 1. check if the linked list is empty or not\n",
    "# 2. if not then traversal through each node and print its data, by taking while loop we know when to stop\n",
    "    def traversal(self):\n",
    "        if self.head == None:\n",
    "            print(\"Linked list is empty\")\n",
    "        else:\n",
    "            n = self.head\n",
    "            while n is not None:\n",
    "                print(n.data, end=\" \")\n",
    "                n = n.ref\n",
    "# Insert Operation\n",
    "# Insert at the beginning of the linked list\n",
    "# 1. check if linked list is empty\n",
    "# ---1. create a new node\n",
    "# ---2. change make the new node to head of that ll\n",
    "# 2. if linked list not empty\n",
    "# ---1. create a new node using node class\n",
    "# ---2. new_node.ref == self.head\n",
    "# ---3. self.head == new_node\n",
    "    def insert_begin(self, data):\n",
    "        if self.head is None:\n",
    "            new_node = Node(data)            \n",
    "            self.head = new_node\n",
    "        else:\n",
    "            new_node = Node(data)\n",
    "            new_node.ref = self.head\n",
    "            self.head = new_node\n",
    "\n",
    "# Insert at the end of the linked list\n",
    "#1. if ll is empty\n",
    "    # -- add that node as head\n",
    "# 2 if ll is not empty\n",
    "    # -- create a node\n",
    "    # -- go to the last node- by using while n.ref is not None: \n",
    "    # -- add the new_node to last node ref\n",
    "    def insert_end(self,data):\n",
    "        if self.head is None:\n",
    "            new_node = Node(data)\n",
    "            self.head = new_node\n",
    "        else:\n",
    "            n= self.head\n",
    "            new_node = Node(data)\n",
    "            while n.ref is not None:\n",
    "                n=n.ref\n",
    "            n.ref = new_node\n",
    "# insert in between\n",
    "# add after method\n",
    "# create a node\n",
    "# 1. we need to go for a loop to check the entire linked list\n",
    "# --- while n is not None:\n",
    "# --- if n.data == x: break or  n= n.ref\n",
    "# --- is n is None that means we could not found the x\n",
    "# --- else: we found the x and proceed with\n",
    "    def insert_after(self, data, x):\n",
    "        n = self.head\n",
    "        while n is not None:\n",
    "            if x == n.data: break\n",
    "            n = n.ref\n",
    "        if n is None:\n",
    "            print(\"Given node not present in the linked list\")\n",
    "        else:\n",
    "            new_node = Node(data)\n",
    "            new_node.ref = n.ref\n",
    "            n.ref = new_node\n",
    "\n",
    "# inserting at before a given node\n",
    "# creating a new node\n",
    "# 1. if x == n.data:\n",
    "# -- new_node.ref = n.ref\n",
    "# -- self.head = new_node\n",
    "# 2. while n.ref is not none: to go to the node that is before given node\n",
    "# if x == n.data: break and n= n.ref\n",
    "# if n is none -print(found) else: rest\n",
    "    def insert_before(self, data, x):\n",
    "        if self.head == None:\n",
    "            print(\"LL is empty\")\n",
    "            return\n",
    "        if self.head.data == x:\n",
    "            new_node = Node(data)\n",
    "            new_node.ref = self.head.ref\n",
    "            self.head = new_node\n",
    "        else:\n",
    "            n = self.head\n",
    "            while n.ref is not None:\n",
    "                if n.ref.data == x: break\n",
    "                n=n.ref\n",
    "            if n.ref is None: print(\"Given node is not present in the linked list\")\n",
    "            else:\n",
    "                new_node = Node(data)\n",
    "                new_node.ref = n.ref\n",
    "                n.ref = new_node\n",
    "# 1. check if linked list is empty or not\n",
    "# -- if empty(ll is empty)\n",
    "# 2. if head.ref is None: make head = None\n",
    "# 3. else: \n",
    "    def delete_begin(self):\n",
    "        if self.head == None:\n",
    "            print('LL is empty')\n",
    "        else:\n",
    "            n = self.head\n",
    "            self.head = n.ref\n",
    "\n",
    "# 1. check if ll is empty\n",
    "# 2. if ll has only 1 element\n",
    "# 3. go to the second last node and make it ref to none\n",
    "    def delete_end(self):\n",
    "        if self.head == None:\n",
    "            print('Linked list is empty')\n",
    "            return\n",
    "        if self.head.ref is None:\n",
    "            self.head = None\n",
    "        else:\n",
    "            n = self.head\n",
    "            while n.ref.ref is not None:\n",
    "                n = n.ref\n",
    "            n.ref = None\n",
    "# delete by value\n",
    "# 1. check if ll is empty\n",
    "# 2. check if given node is the head then head should be head.ref\n",
    "    def delete_by_val(self, x):\n",
    "        if self.head == None:\n",
    "            print(\"LL is empty so we can not delete\")\n",
    "            return\n",
    "        if self.head.data==x:            \n",
    "            self.head = self.head.ref\n",
    "            return\n",
    "            \n",
    "        n = self.head\n",
    "        while n.ref is not None:\n",
    "            if n.ref.data == x: \n",
    "                break\n",
    "            n = n.ref\n",
    "        if n.ref is None:\n",
    "            print(\"Given node not present in the linked list\")\n",
    "        else:\n",
    "            n.ref = n.ref.ref\n",
    "            \n",
    "            \n",
    "ll1= LL()\n",
    "ll1.insert_begin(20)\n",
    "ll1.insert_begin(10)\n",
    "ll1.insert_end(30)\n",
    "ll1.insert_after(40,10)\n",
    "ll1.traversal()"
   ]
  },
  {
   "cell_type": "code",
   "execution_count": 2,
   "id": "72e8c310-0a13-4408-84b2-ba188554c48d",
   "metadata": {},
   "outputs": [],
   "source": [
    "ll1.insert_before(70,30)"
   ]
  },
  {
   "cell_type": "code",
   "execution_count": 3,
   "id": "6ea7f89f-8811-4882-badc-a7a719bfe67d",
   "metadata": {},
   "outputs": [
    {
     "name": "stdout",
     "output_type": "stream",
     "text": [
      "10 40 20 70 30 "
     ]
    }
   ],
   "source": [
    "ll1.traversal()"
   ]
  },
  {
   "cell_type": "code",
   "execution_count": 4,
   "id": "1a534980-43ca-4f6a-8008-97c0921fe07b",
   "metadata": {},
   "outputs": [
    {
     "name": "stdout",
     "output_type": "stream",
     "text": [
      "Given node is not present in the linked list\n"
     ]
    }
   ],
   "source": [
    "ll1.insert_before(70,500)"
   ]
  },
  {
   "cell_type": "code",
   "execution_count": 5,
   "id": "c5e6ee9d-7cd7-4b26-b50f-26c695867aae",
   "metadata": {},
   "outputs": [],
   "source": [
    "ll1.insert_before(80,10)"
   ]
  },
  {
   "cell_type": "code",
   "execution_count": 6,
   "id": "391bf5ed-40e8-4203-9c3a-931afe5abffa",
   "metadata": {},
   "outputs": [
    {
     "name": "stdout",
     "output_type": "stream",
     "text": [
      "80 40 20 70 30 "
     ]
    }
   ],
   "source": [
    "ll1.traversal()"
   ]
  },
  {
   "cell_type": "code",
   "execution_count": 7,
   "id": "175e38e2-deff-4731-acde-b61160a12d97",
   "metadata": {},
   "outputs": [],
   "source": [
    "ll1.delete_begin()"
   ]
  },
  {
   "cell_type": "code",
   "execution_count": 8,
   "id": "8cc4fad7-4cf3-43f3-9f64-1dd365dea5d0",
   "metadata": {},
   "outputs": [
    {
     "name": "stdout",
     "output_type": "stream",
     "text": [
      "40 20 70 30 "
     ]
    }
   ],
   "source": [
    "ll1.traversal()"
   ]
  },
  {
   "cell_type": "code",
   "execution_count": 9,
   "id": "fd7ca103-cd6e-45d9-a302-6a7d2f29c956",
   "metadata": {},
   "outputs": [],
   "source": [
    "ll1.delete_by_val(20)"
   ]
  },
  {
   "cell_type": "code",
   "execution_count": 10,
   "id": "9cd9c084-5baf-4a5b-8af1-1a72c2836015",
   "metadata": {},
   "outputs": [
    {
     "name": "stdout",
     "output_type": "stream",
     "text": [
      "40 70 30 "
     ]
    }
   ],
   "source": [
    "ll1.traversal()"
   ]
  },
  {
   "cell_type": "code",
   "execution_count": 11,
   "id": "1f07e8f0-e142-4e7c-9587-1b98480a9fc2",
   "metadata": {},
   "outputs": [],
   "source": [
    "ll1.delete_by_val(70)"
   ]
  },
  {
   "cell_type": "code",
   "execution_count": null,
   "id": "ff68515e-675a-4d91-b2b5-0d62cabfeef6",
   "metadata": {},
   "outputs": [],
   "source": []
  }
 ],
 "metadata": {
  "kernelspec": {
   "display_name": "Python 3 (ipykernel)",
   "language": "python",
   "name": "python3"
  },
  "language_info": {
   "codemirror_mode": {
    "name": "ipython",
    "version": 3
   },
   "file_extension": ".py",
   "mimetype": "text/x-python",
   "name": "python",
   "nbconvert_exporter": "python",
   "pygments_lexer": "ipython3",
   "version": "3.9.10"
  }
 },
 "nbformat": 4,
 "nbformat_minor": 5
}
