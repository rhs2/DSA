{
 "cells": [
  {
   "cell_type": "markdown",
   "id": "1f162442-f787-4f72-8624-09c6f3530265",
   "metadata": {},
   "source": [
    "## Queue Data Structure\n",
    "- queue is a linear data structure where the elements inserted from one side and removed from another side. Queue will be open at both the ends, thats why insertion and removing operation will done in different ends.\n",
    "- the end where elements are added is called as back/tail/rear of the queue, the end where the elements are removed called head/front of the queue, queue follows fifo- first in first out or lilo- last in last out methodology.\n",
    "\n",
    "![queue](queue.png)\n",
    "- Queue ds works in the same way as the queue works in the real world like in a shopping center in a line, whoever is in the front line will get out first from the line.\n",
    "- queue open at both the ends so we can add and remove elements from both the side.\n",
    "- the process of adding the element in a queue is called enqueue\n",
    "- the process of removing the element in a queue is called dequeue"
   ]
  },
  {
   "cell_type": "markdown",
   "id": "cd8d9751-5e55-4673-9746-85f5084ea9aa",
   "metadata": {},
   "source": [
    "## Queue Operation\n",
    "- <span style=\"color:orange; font-weight: bold;\">enqueue </span> -process of adding element in the queue\n",
    "- <span style=\"color:orange; font-weight: bold;\">dequeue </span> - process of removing element from the queue\n",
    "- <span style=\"color:orange; font-weight: bold;\">isFull() </span> (we can set the limit of the queue)\n",
    "- <span style=\"color:orange; font-weight: bold;\">isEmpty() </span>- queue is empty or not\n",
    "- <span style=\"color:orange; font-weight: bold;\">size() </span> - to check the size of the queue\n",
    "\n",
    "- queue's are used in where we need first in first out method, like in a call center, printing multiple documents "
   ]
  },
  {
   "cell_type": "markdown",
   "id": "b3dd8978-676f-4e33-86e9-4104ba4c6039",
   "metadata": {},
   "source": [
    "## 1. Implementing Queue by using class"
   ]
  },
  {
   "cell_type": "code",
   "execution_count": 1,
   "id": "4ee73c9d-eb00-4b96-b6e3-c6ca37a0f42d",
   "metadata": {},
   "outputs": [],
   "source": [
    "class Queue():\n",
    "    def __init__(self):\n",
    "        self.items = []\n",
    "    def isEmpty(self):\n",
    "        return self.items == []\n",
    "    def enqueue(self, item):\n",
    "        self.items.append(item)\n",
    "    def dequeue(self): \n",
    "        if self.isEmpty():\n",
    "            print(\"queue is empty\")\n",
    "        else:\n",
    "            return self.items.pop(0)\n",
    "    def size(self):\n",
    "        return len(self.items)"
   ]
  },
  {
   "cell_type": "code",
   "execution_count": 2,
   "id": "9e322be2-c7a7-4b20-b69e-ee1f46111a02",
   "metadata": {},
   "outputs": [],
   "source": [
    "q = Queue()"
   ]
  },
  {
   "cell_type": "code",
   "execution_count": 3,
   "id": "35c1cafb-a739-4746-8073-f77e9d35fa70",
   "metadata": {},
   "outputs": [],
   "source": [
    "q.enqueue(10) #to add a item in queue"
   ]
  },
  {
   "cell_type": "code",
   "execution_count": 4,
   "id": "10d6155e-b9c3-443a-a2bb-d6fd93c4126d",
   "metadata": {},
   "outputs": [],
   "source": [
    "q.enqueue(20) #to add a item in queue"
   ]
  },
  {
   "cell_type": "code",
   "execution_count": 5,
   "id": "da9511f4-3121-4c8c-a325-4bfc460289dd",
   "metadata": {},
   "outputs": [],
   "source": [
    "q.enqueue(30) #to add a item in queue"
   ]
  },
  {
   "cell_type": "code",
   "execution_count": 6,
   "id": "84bacf66-a5c0-4dd8-bb86-00871ae8d003",
   "metadata": {},
   "outputs": [
    {
     "data": {
      "text/plain": [
       "10"
      ]
     },
     "execution_count": 6,
     "metadata": {},
     "output_type": "execute_result"
    }
   ],
   "source": [
    "q.dequeue() #to remove a item from the queue"
   ]
  },
  {
   "cell_type": "code",
   "execution_count": 7,
   "id": "d2cd152a-d2e1-4637-a90e-f46381fcc080",
   "metadata": {},
   "outputs": [
    {
     "data": {
      "text/plain": [
       "False"
      ]
     },
     "execution_count": 7,
     "metadata": {},
     "output_type": "execute_result"
    }
   ],
   "source": [
    "q.isEmpty() #to check if the queue is empty or not"
   ]
  },
  {
   "cell_type": "code",
   "execution_count": 8,
   "id": "f0e100cb-1264-4731-abe5-c9d390fcc942",
   "metadata": {},
   "outputs": [
    {
     "data": {
      "text/plain": [
       "20"
      ]
     },
     "execution_count": 8,
     "metadata": {},
     "output_type": "execute_result"
    }
   ],
   "source": [
    "q.dequeue()"
   ]
  },
  {
   "cell_type": "code",
   "execution_count": 9,
   "id": "2601c27f-8311-45c2-b073-eb9ecec38adc",
   "metadata": {},
   "outputs": [
    {
     "data": {
      "text/plain": [
       "30"
      ]
     },
     "execution_count": 9,
     "metadata": {},
     "output_type": "execute_result"
    }
   ],
   "source": [
    "q.dequeue()"
   ]
  },
  {
   "cell_type": "code",
   "execution_count": 10,
   "id": "8b37a984-82da-4d4d-8b0a-10e12afaa208",
   "metadata": {},
   "outputs": [
    {
     "name": "stdout",
     "output_type": "stream",
     "text": [
      "queue is empty\n"
     ]
    }
   ],
   "source": [
    "q.dequeue()"
   ]
  },
  {
   "cell_type": "code",
   "execution_count": 11,
   "id": "2055594e-8d5b-4ecd-bb92-b72588808857",
   "metadata": {},
   "outputs": [
    {
     "data": {
      "text/plain": [
       "0"
      ]
     },
     "execution_count": 11,
     "metadata": {},
     "output_type": "execute_result"
    }
   ],
   "source": [
    "q.size() #to check size of the queue"
   ]
  },
  {
   "cell_type": "code",
   "execution_count": 12,
   "id": "98fa6091-069b-4c85-b786-cd05c7499931",
   "metadata": {},
   "outputs": [
    {
     "data": {
      "text/plain": [
       "True"
      ]
     },
     "execution_count": 12,
     "metadata": {},
     "output_type": "execute_result"
    }
   ],
   "source": [
    "q.isEmpty()"
   ]
  },
  {
   "cell_type": "markdown",
   "id": "0e171dee-d4bc-4486-8752-719d24420b50",
   "metadata": {},
   "source": [
    "## 2. Implementing Queue by using list\n",
    "- the end where the element is added is called rear/back/tail and in that end where the elements are removed from the queue is front/head"
   ]
  },
  {
   "cell_type": "code",
   "execution_count": 13,
   "id": "8b769b4b-6ccc-47f3-9663-943ff1c413b3",
   "metadata": {},
   "outputs": [],
   "source": [
    "q1 = [] #to create a empty queue"
   ]
  },
  {
   "cell_type": "code",
   "execution_count": 14,
   "id": "0313984b-9066-4cad-809b-97bac3ac5a33",
   "metadata": {},
   "outputs": [],
   "source": [
    "q1.append(10) #to enqueue an element in the queue"
   ]
  },
  {
   "cell_type": "code",
   "execution_count": 15,
   "id": "da04f8da-efe1-47d0-87a8-e1b5ebbb7dea",
   "metadata": {},
   "outputs": [],
   "source": [
    "q1.append(20) #to enqueue an element in the queue"
   ]
  },
  {
   "cell_type": "code",
   "execution_count": 16,
   "id": "2beaa941-0bba-477b-bc40-a682908e9e0d",
   "metadata": {},
   "outputs": [],
   "source": [
    "q1.append(30) #to enqueue an element in the queue"
   ]
  },
  {
   "cell_type": "code",
   "execution_count": 17,
   "id": "f40e0606-e6e8-4c8a-91ab-678d269ed9a6",
   "metadata": {},
   "outputs": [
    {
     "data": {
      "text/plain": [
       "10"
      ]
     },
     "execution_count": 17,
     "metadata": {},
     "output_type": "execute_result"
    }
   ],
   "source": [
    "q1.pop(0) #to dequeue an element from the queue"
   ]
  },
  {
   "cell_type": "code",
   "execution_count": 18,
   "id": "c4a27984-25a9-4bb8-be5a-f55fe029c62c",
   "metadata": {},
   "outputs": [
    {
     "data": {
      "text/plain": [
       "[20, 30]"
      ]
     },
     "execution_count": 18,
     "metadata": {},
     "output_type": "execute_result"
    }
   ],
   "source": [
    "q1 #to check the queue"
   ]
  },
  {
   "cell_type": "code",
   "execution_count": 19,
   "id": "ef5152a3-4b7f-43e7-9756-6bb600739f69",
   "metadata": {},
   "outputs": [
    {
     "data": {
      "text/plain": [
       "20"
      ]
     },
     "execution_count": 19,
     "metadata": {},
     "output_type": "execute_result"
    }
   ],
   "source": [
    "q1[0] #to check which element will be removed next, or top element"
   ]
  },
  {
   "cell_type": "code",
   "execution_count": 20,
   "id": "67dc6b88-c7b0-47cc-8fae-b6050587d7f1",
   "metadata": {},
   "outputs": [
    {
     "data": {
      "text/plain": [
       "False"
      ]
     },
     "execution_count": 20,
     "metadata": {},
     "output_type": "execute_result"
    }
   ],
   "source": [
    "not q1 #to check if the queue is empty or not"
   ]
  },
  {
   "cell_type": "code",
   "execution_count": 21,
   "id": "c913236e-9727-4f74-a476-a1b148d5954e",
   "metadata": {},
   "outputs": [
    {
     "data": {
      "text/plain": [
       "2"
      ]
     },
     "execution_count": 21,
     "metadata": {},
     "output_type": "execute_result"
    }
   ],
   "source": [
    "len(q1) #to check size of the queue"
   ]
  },
  {
   "cell_type": "markdown",
   "id": "820bcf12-75c9-4147-9fa3-71f360be8518",
   "metadata": {},
   "source": [
    "## 2. Implementing Queue by using list\n",
    "- where elements will be added in the back/tail/rear or element will removed from front/head"
   ]
  },
  {
   "cell_type": "code",
   "execution_count": 22,
   "id": "84b092ec-322d-44bb-97df-3113b9ec915f",
   "metadata": {},
   "outputs": [],
   "source": [
    "q2 =[] #to create an empty queue"
   ]
  },
  {
   "cell_type": "code",
   "execution_count": 23,
   "id": "e5ffc5b0-dfdc-444e-a285-cc554b982fa5",
   "metadata": {},
   "outputs": [],
   "source": [
    "q2.insert(0,10) #to enqueue an element in the queue"
   ]
  },
  {
   "cell_type": "code",
   "execution_count": 24,
   "id": "e2a14b7a-8c8c-4291-a984-a99481645144",
   "metadata": {},
   "outputs": [],
   "source": [
    "q2.insert(0,20) #to enqueue an element in the queue"
   ]
  },
  {
   "cell_type": "code",
   "execution_count": 25,
   "id": "949a548a-3263-4221-b1d4-c4d66ed0235f",
   "metadata": {},
   "outputs": [],
   "source": [
    "q2.insert(0,30) #to enqueue an element in the queue"
   ]
  },
  {
   "cell_type": "code",
   "execution_count": 26,
   "id": "a7fef8da-54e2-4689-b210-32a7fa1e43eb",
   "metadata": {},
   "outputs": [
    {
     "data": {
      "text/plain": [
       "[30, 20, 10]"
      ]
     },
     "execution_count": 26,
     "metadata": {},
     "output_type": "execute_result"
    }
   ],
   "source": [
    "q2 #to check the queue"
   ]
  },
  {
   "cell_type": "code",
   "execution_count": 27,
   "id": "93d7b1e0-37a9-467c-9d71-9ee085aff660",
   "metadata": {},
   "outputs": [
    {
     "data": {
      "text/plain": [
       "10"
      ]
     },
     "execution_count": 27,
     "metadata": {},
     "output_type": "execute_result"
    }
   ],
   "source": [
    "q2.pop() #to dequeue from the queue"
   ]
  },
  {
   "cell_type": "code",
   "execution_count": 28,
   "id": "eee634da-2e3c-4627-a12c-221980c9b4cb",
   "metadata": {},
   "outputs": [
    {
     "data": {
      "text/plain": [
       "20"
      ]
     },
     "execution_count": 28,
     "metadata": {},
     "output_type": "execute_result"
    }
   ],
   "source": [
    "q2[-1] #top in the line to be removed"
   ]
  },
  {
   "cell_type": "code",
   "execution_count": 29,
   "id": "badfad6e-7a6f-4263-b818-50d685ad2f23",
   "metadata": {},
   "outputs": [
    {
     "data": {
      "text/plain": [
       "2"
      ]
     },
     "execution_count": 29,
     "metadata": {},
     "output_type": "execute_result"
    }
   ],
   "source": [
    "len(q2) #to check the size"
   ]
  },
  {
   "cell_type": "code",
   "execution_count": 30,
   "id": "65c48713-fe66-4a50-ac13-4ea04076c714",
   "metadata": {},
   "outputs": [
    {
     "data": {
      "text/plain": [
       "False"
      ]
     },
     "execution_count": 30,
     "metadata": {},
     "output_type": "execute_result"
    }
   ],
   "source": [
    "not q2 #to check if it is empty or not"
   ]
  },
  {
   "cell_type": "markdown",
   "id": "aa094e70-3e8c-4909-b63a-f7836871402b",
   "metadata": {},
   "source": [
    "## 3. Implementing Queue by using  modules- deque()\n",
    "- deque() class from collection\n",
    "- deque-double ended queue- so in this module we can add queue from any side and remove from any side"
   ]
  },
  {
   "cell_type": "code",
   "execution_count": 31,
   "id": "c7bc4fad-8e14-4dd2-a72f-95a46fdb0de2",
   "metadata": {},
   "outputs": [],
   "source": [
    "#if we want to enter the element from the left then we can use appendleft() method and remove the element using method pop()\n",
    "#if we want to enter the element from the right side then we can use append() and remove the element using popleft()\n"
   ]
  },
  {
   "cell_type": "code",
   "execution_count": 32,
   "id": "2a27b14e-1b87-437a-a379-8a205a436dea",
   "metadata": {},
   "outputs": [],
   "source": [
    "from collections import deque"
   ]
  },
  {
   "cell_type": "code",
   "execution_count": 33,
   "id": "8b824900-d180-4f1a-aa05-d13f3df1f227",
   "metadata": {},
   "outputs": [],
   "source": [
    "q3 = deque()"
   ]
  },
  {
   "cell_type": "code",
   "execution_count": 34,
   "id": "32623ef8-ef70-48f5-a58d-7aa0517517b9",
   "metadata": {},
   "outputs": [],
   "source": [
    "q3.appendleft(10) #to enqueue the element in the queue"
   ]
  },
  {
   "cell_type": "code",
   "execution_count": 35,
   "id": "92c04dee-74ea-4d33-9295-d8e316ecd4b9",
   "metadata": {},
   "outputs": [],
   "source": [
    "q3.appendleft(20) #to enqueue the element in the queue"
   ]
  },
  {
   "cell_type": "code",
   "execution_count": 36,
   "id": "b204ed7f-98b5-4bfc-9d0e-96409e4a3c20",
   "metadata": {},
   "outputs": [],
   "source": [
    "q3.appendleft(30) #to enqueue the element in the queue"
   ]
  },
  {
   "cell_type": "code",
   "execution_count": 37,
   "id": "70f381e0-d2ac-45a0-9b7c-1c5f6a4db345",
   "metadata": {},
   "outputs": [
    {
     "data": {
      "text/plain": [
       "deque([30, 20, 10])"
      ]
     },
     "execution_count": 37,
     "metadata": {},
     "output_type": "execute_result"
    }
   ],
   "source": [
    "q3 #to check the queue"
   ]
  },
  {
   "cell_type": "code",
   "execution_count": 38,
   "id": "42fcc194-3197-486f-b1b9-06ff6c7c04c5",
   "metadata": {},
   "outputs": [
    {
     "data": {
      "text/plain": [
       "10"
      ]
     },
     "execution_count": 38,
     "metadata": {},
     "output_type": "execute_result"
    }
   ],
   "source": [
    "q3.pop() #to dequeue the element from queue"
   ]
  },
  {
   "cell_type": "code",
   "execution_count": 39,
   "id": "08bc9ebe-67c2-4e15-8895-013ad1ee5cc0",
   "metadata": {},
   "outputs": [
    {
     "data": {
      "text/plain": [
       "20"
      ]
     },
     "execution_count": 39,
     "metadata": {},
     "output_type": "execute_result"
    }
   ],
   "source": [
    "q3.pop()"
   ]
  },
  {
   "cell_type": "code",
   "execution_count": 40,
   "id": "a737df7a-250d-43fc-81bd-1ba6dc424c47",
   "metadata": {},
   "outputs": [
    {
     "data": {
      "text/plain": [
       "30"
      ]
     },
     "execution_count": 40,
     "metadata": {},
     "output_type": "execute_result"
    }
   ],
   "source": [
    "q3[-1] #to check the top element to be removed next"
   ]
  },
  {
   "cell_type": "code",
   "execution_count": 41,
   "id": "a11169e4-8ad2-4a57-8a0a-07d139bf8a81",
   "metadata": {},
   "outputs": [
    {
     "data": {
      "text/plain": [
       "1"
      ]
     },
     "execution_count": 41,
     "metadata": {},
     "output_type": "execute_result"
    }
   ],
   "source": [
    "len(q3) #to check size of the queue"
   ]
  },
  {
   "cell_type": "code",
   "execution_count": 42,
   "id": "658e4574-e153-4e4c-907d-650242ca4f29",
   "metadata": {},
   "outputs": [
    {
     "data": {
      "text/plain": [
       "False"
      ]
     },
     "execution_count": 42,
     "metadata": {},
     "output_type": "execute_result"
    }
   ],
   "source": [
    "not q3 #to check if queue is empty or not"
   ]
  },
  {
   "cell_type": "code",
   "execution_count": 43,
   "id": "a32d7db2-5a7b-4c1d-a0e1-1908f6bf6fc8",
   "metadata": {},
   "outputs": [],
   "source": [
    "#another method\n",
    "q4=deque()"
   ]
  },
  {
   "cell_type": "code",
   "execution_count": 44,
   "id": "66db8543-a4bf-4694-ab28-d31b0e754d55",
   "metadata": {},
   "outputs": [],
   "source": [
    "q4.append(10) #to enqueue the element in the queue"
   ]
  },
  {
   "cell_type": "code",
   "execution_count": 45,
   "id": "8a2018e3-79d1-4e37-9255-2866f37e7707",
   "metadata": {},
   "outputs": [],
   "source": [
    "q4.append(20)"
   ]
  },
  {
   "cell_type": "code",
   "execution_count": 46,
   "id": "de5e50ce-94dc-4507-90eb-c449ef5696e5",
   "metadata": {},
   "outputs": [],
   "source": [
    "q4.append(30)"
   ]
  },
  {
   "cell_type": "code",
   "execution_count": 47,
   "id": "122a0cd0-b9ee-44d4-8c94-f702de28ade8",
   "metadata": {},
   "outputs": [
    {
     "data": {
      "text/plain": [
       "deque([10, 20, 30])"
      ]
     },
     "execution_count": 47,
     "metadata": {},
     "output_type": "execute_result"
    }
   ],
   "source": [
    "q4"
   ]
  },
  {
   "cell_type": "code",
   "execution_count": 48,
   "id": "dd7e686f-a69c-4451-9c62-75b93404016c",
   "metadata": {},
   "outputs": [
    {
     "data": {
      "text/plain": [
       "10"
      ]
     },
     "execution_count": 48,
     "metadata": {},
     "output_type": "execute_result"
    }
   ],
   "source": [
    "q4.popleft() #to dequeue the element from queue"
   ]
  },
  {
   "cell_type": "code",
   "execution_count": 49,
   "id": "52e59338-9cac-4af0-98c1-de5697b02b44",
   "metadata": {},
   "outputs": [
    {
     "data": {
      "text/plain": [
       "20"
      ]
     },
     "execution_count": 49,
     "metadata": {},
     "output_type": "execute_result"
    }
   ],
   "source": [
    "q4.popleft()"
   ]
  },
  {
   "cell_type": "code",
   "execution_count": 50,
   "id": "1765b2e3-6b1f-4f28-b470-260ea8357032",
   "metadata": {},
   "outputs": [
    {
     "data": {
      "text/plain": [
       "False"
      ]
     },
     "execution_count": 50,
     "metadata": {},
     "output_type": "execute_result"
    }
   ],
   "source": [
    "not q4 #to check if queue is empty or not"
   ]
  },
  {
   "cell_type": "code",
   "execution_count": 51,
   "id": "a0c7d841-a43f-4a86-961b-afceef17a814",
   "metadata": {},
   "outputs": [
    {
     "data": {
      "text/plain": [
       "30"
      ]
     },
     "execution_count": 51,
     "metadata": {},
     "output_type": "execute_result"
    }
   ],
   "source": [
    "q4[0] #to check the top element to be removed next"
   ]
  },
  {
   "cell_type": "code",
   "execution_count": 52,
   "id": "0defa259-45b8-444b-92ea-084c850dff22",
   "metadata": {},
   "outputs": [
    {
     "data": {
      "text/plain": [
       "1"
      ]
     },
     "execution_count": 52,
     "metadata": {},
     "output_type": "execute_result"
    }
   ],
   "source": [
    "len(q4) #to check size of the queue"
   ]
  },
  {
   "cell_type": "markdown",
   "id": "f8819fb4-585d-4b5c-a456-8d0841c4fb8f",
   "metadata": {},
   "source": [
    "## 4. Implementing Queue by using modules- queue() class, module name Queue()\n",
    "- here we can make the limit of the queue"
   ]
  },
  {
   "cell_type": "code",
   "execution_count": 53,
   "id": "7c28e2db-cab7-41dc-967b-40908b1d3556",
   "metadata": {},
   "outputs": [],
   "source": [
    "from queue import Queue"
   ]
  },
  {
   "cell_type": "code",
   "execution_count": 54,
   "id": "bf2841fc-f0ce-4f6f-84e4-229fc8c07459",
   "metadata": {},
   "outputs": [],
   "source": [
    "q5 = Queue(maxsize=3)"
   ]
  },
  {
   "cell_type": "code",
   "execution_count": 55,
   "id": "2db72ef6-cdec-426f-9c8f-6f5d9f4deba3",
   "metadata": {},
   "outputs": [
    {
     "name": "stdout",
     "output_type": "stream",
     "text": [
      "Help on class Queue in module queue:\n",
      "\n",
      "class Queue(builtins.object)\n",
      " |  Queue(maxsize=0)\n",
      " |  \n",
      " |  Create a queue object with a given maximum size.\n",
      " |  \n",
      " |  If maxsize is <= 0, the queue size is infinite.\n",
      " |  \n",
      " |  Methods defined here:\n",
      " |  \n",
      " |  __init__(self, maxsize=0)\n",
      " |      Initialize self.  See help(type(self)) for accurate signature.\n",
      " |  \n",
      " |  empty(self)\n",
      " |      Return True if the queue is empty, False otherwise (not reliable!).\n",
      " |      \n",
      " |      This method is likely to be removed at some point.  Use qsize() == 0\n",
      " |      as a direct substitute, but be aware that either approach risks a race\n",
      " |      condition where a queue can grow before the result of empty() or\n",
      " |      qsize() can be used.\n",
      " |      \n",
      " |      To create code that needs to wait for all queued tasks to be\n",
      " |      completed, the preferred technique is to use the join() method.\n",
      " |  \n",
      " |  full(self)\n",
      " |      Return True if the queue is full, False otherwise (not reliable!).\n",
      " |      \n",
      " |      This method is likely to be removed at some point.  Use qsize() >= n\n",
      " |      as a direct substitute, but be aware that either approach risks a race\n",
      " |      condition where a queue can shrink before the result of full() or\n",
      " |      qsize() can be used.\n",
      " |  \n",
      " |  get(self, block=True, timeout=None)\n",
      " |      Remove and return an item from the queue.\n",
      " |      \n",
      " |      If optional args 'block' is true and 'timeout' is None (the default),\n",
      " |      block if necessary until an item is available. If 'timeout' is\n",
      " |      a non-negative number, it blocks at most 'timeout' seconds and raises\n",
      " |      the Empty exception if no item was available within that time.\n",
      " |      Otherwise ('block' is false), return an item if one is immediately\n",
      " |      available, else raise the Empty exception ('timeout' is ignored\n",
      " |      in that case).\n",
      " |  \n",
      " |  get_nowait(self)\n",
      " |      Remove and return an item from the queue without blocking.\n",
      " |      \n",
      " |      Only get an item if one is immediately available. Otherwise\n",
      " |      raise the Empty exception.\n",
      " |  \n",
      " |  join(self)\n",
      " |      Blocks until all items in the Queue have been gotten and processed.\n",
      " |      \n",
      " |      The count of unfinished tasks goes up whenever an item is added to the\n",
      " |      queue. The count goes down whenever a consumer thread calls task_done()\n",
      " |      to indicate the item was retrieved and all work on it is complete.\n",
      " |      \n",
      " |      When the count of unfinished tasks drops to zero, join() unblocks.\n",
      " |  \n",
      " |  put(self, item, block=True, timeout=None)\n",
      " |      Put an item into the queue.\n",
      " |      \n",
      " |      If optional args 'block' is true and 'timeout' is None (the default),\n",
      " |      block if necessary until a free slot is available. If 'timeout' is\n",
      " |      a non-negative number, it blocks at most 'timeout' seconds and raises\n",
      " |      the Full exception if no free slot was available within that time.\n",
      " |      Otherwise ('block' is false), put an item on the queue if a free slot\n",
      " |      is immediately available, else raise the Full exception ('timeout'\n",
      " |      is ignored in that case).\n",
      " |  \n",
      " |  put_nowait(self, item)\n",
      " |      Put an item into the queue without blocking.\n",
      " |      \n",
      " |      Only enqueue the item if a free slot is immediately available.\n",
      " |      Otherwise raise the Full exception.\n",
      " |  \n",
      " |  qsize(self)\n",
      " |      Return the approximate size of the queue (not reliable!).\n",
      " |  \n",
      " |  task_done(self)\n",
      " |      Indicate that a formerly enqueued task is complete.\n",
      " |      \n",
      " |      Used by Queue consumer threads.  For each get() used to fetch a task,\n",
      " |      a subsequent call to task_done() tells the queue that the processing\n",
      " |      on the task is complete.\n",
      " |      \n",
      " |      If a join() is currently blocking, it will resume when all items\n",
      " |      have been processed (meaning that a task_done() call was received\n",
      " |      for every item that had been put() into the queue).\n",
      " |      \n",
      " |      Raises a ValueError if called more times than there were items\n",
      " |      placed in the queue.\n",
      " |  \n",
      " |  ----------------------------------------------------------------------\n",
      " |  Class methods defined here:\n",
      " |  \n",
      " |  __class_getitem__ = GenericAlias(...) from builtins.type\n",
      " |      Represent a PEP 585 generic type\n",
      " |      \n",
      " |      E.g. for t = list[int], t.__origin__ is list and t.__args__ is (int,).\n",
      " |  \n",
      " |  ----------------------------------------------------------------------\n",
      " |  Data descriptors defined here:\n",
      " |  \n",
      " |  __dict__\n",
      " |      dictionary for instance variables (if defined)\n",
      " |  \n",
      " |  __weakref__\n",
      " |      list of weak references to the object (if defined)\n",
      "\n"
     ]
    }
   ],
   "source": [
    "help(Queue) #to take the help of the Queue module"
   ]
  },
  {
   "cell_type": "code",
   "execution_count": 56,
   "id": "ee2f346d-58d4-4f5d-a9dc-5c7f41c5e544",
   "metadata": {},
   "outputs": [
    {
     "data": {
      "text/plain": [
       "<queue.Queue at 0x108352130>"
      ]
     },
     "execution_count": 56,
     "metadata": {},
     "output_type": "execute_result"
    }
   ],
   "source": [
    "q5"
   ]
  },
  {
   "cell_type": "code",
   "execution_count": 57,
   "id": "06a13bc2-490c-4e02-bb14-c9827b72bf89",
   "metadata": {},
   "outputs": [],
   "source": [
    "q5.put(10) #to enqueue the element in the queue"
   ]
  },
  {
   "cell_type": "code",
   "execution_count": 58,
   "id": "83236239-398b-4146-bf9f-190d029a31a0",
   "metadata": {},
   "outputs": [],
   "source": [
    "q5.put(20) #to enqueue the element in the queue"
   ]
  },
  {
   "cell_type": "code",
   "execution_count": 59,
   "id": "552c10ff-0535-4c48-bad2-4c06e22f3445",
   "metadata": {},
   "outputs": [],
   "source": [
    "q5.put(30) #to enqueue the element in the queue"
   ]
  },
  {
   "cell_type": "code",
   "execution_count": 60,
   "id": "3325d312-66bc-41a6-88bd-6dbcfc1e8318",
   "metadata": {},
   "outputs": [
    {
     "data": {
      "text/plain": [
       "10"
      ]
     },
     "execution_count": 60,
     "metadata": {},
     "output_type": "execute_result"
    }
   ],
   "source": [
    "q5.get()"
   ]
  },
  {
   "cell_type": "code",
   "execution_count": 61,
   "id": "d3e97ad8-2e8f-4100-9e23-7efad8c0da63",
   "metadata": {},
   "outputs": [
    {
     "data": {
      "text/plain": [
       "False"
      ]
     },
     "execution_count": 61,
     "metadata": {},
     "output_type": "execute_result"
    }
   ],
   "source": [
    "q5.full() #to check if the queue is full or not"
   ]
  },
  {
   "cell_type": "code",
   "execution_count": 62,
   "id": "eafec050-4eac-4652-8255-0494b100d3ee",
   "metadata": {},
   "outputs": [
    {
     "data": {
      "text/plain": [
       "False"
      ]
     },
     "execution_count": 62,
     "metadata": {},
     "output_type": "execute_result"
    }
   ],
   "source": [
    "q5.empty() #to check if queue is empty or not"
   ]
  },
  {
   "cell_type": "code",
   "execution_count": 63,
   "id": "84ddcdd5-5a81-42a8-a80b-79c857467edb",
   "metadata": {},
   "outputs": [
    {
     "data": {
      "text/plain": [
       "2"
      ]
     },
     "execution_count": 63,
     "metadata": {},
     "output_type": "execute_result"
    }
   ],
   "source": [
    "q5.qsize() #to check size of the queue"
   ]
  },
  {
   "cell_type": "code",
   "execution_count": 64,
   "id": "396cc359-802e-4edb-a940-68171012015f",
   "metadata": {},
   "outputs": [],
   "source": [
    "q5.put(35)"
   ]
  },
  {
   "cell_type": "code",
   "execution_count": 65,
   "id": "b2b0a7f8-d1b1-4514-b503-1c9730f0c91d",
   "metadata": {},
   "outputs": [
    {
     "data": {
      "text/plain": [
       "True"
      ]
     },
     "execution_count": 65,
     "metadata": {},
     "output_type": "execute_result"
    }
   ],
   "source": [
    "q5.full()"
   ]
  },
  {
   "cell_type": "code",
   "execution_count": null,
   "id": "bd5903ee-e589-4ffa-951b-1d6f1c619d09",
   "metadata": {},
   "outputs": [],
   "source": []
  }
 ],
 "metadata": {
  "kernelspec": {
   "display_name": "Python 3 (ipykernel)",
   "language": "python",
   "name": "python3"
  },
  "language_info": {
   "codemirror_mode": {
    "name": "ipython",
    "version": 3
   },
   "file_extension": ".py",
   "mimetype": "text/x-python",
   "name": "python",
   "nbconvert_exporter": "python",
   "pygments_lexer": "ipython3",
   "version": "3.9.10"
  }
 },
 "nbformat": 4,
 "nbformat_minor": 5
}
