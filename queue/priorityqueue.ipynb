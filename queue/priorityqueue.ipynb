{
 "cells": [
  {
   "cell_type": "markdown",
   "id": "3199adef-a255-4167-8907-a15c4cc7601f",
   "metadata": {},
   "source": [
    "## Priority Queue\n",
    "- priority queue is a little bit different from the queue, it will be removed by its priority of an element, let's imagine a critical patient comes into a hospital, even there is a big line of patient to take treatment, but critical patient will be treated first.\n",
    "- the value of the queue is sometimes considers the priority of itself\n",
    "-- this can be done in two different ways\n",
    "  1. lowest the element highest the priority\n",
    "  2. highest the element highest the priority\n",
    "- or we can take the tuple and set the elements priority"
   ]
  },
  {
   "cell_type": "markdown",
   "id": "808fce1b-c48f-4fd2-a6fa-9cb34398503b",
   "metadata": {},
   "source": [
    "## 1. Implement priority queue by list\n",
    "- this is not the best way"
   ]
  },
  {
   "cell_type": "code",
   "execution_count": 1,
   "id": "3879ab0c-3d76-4e89-8c48-f815bcb864fa",
   "metadata": {},
   "outputs": [],
   "source": [
    "pq = [] #to create an empty queue"
   ]
  },
  {
   "cell_type": "code",
   "execution_count": 2,
   "id": "59f85aa7-0031-468e-9006-a28da8f3177a",
   "metadata": {},
   "outputs": [],
   "source": [
    "pq.append(10) #to enqueue element in the priority queue"
   ]
  },
  {
   "cell_type": "code",
   "execution_count": 3,
   "id": "f8f96ace-e810-4d26-a76d-a443b919b3e3",
   "metadata": {},
   "outputs": [],
   "source": [
    "pq.append(40)"
   ]
  },
  {
   "cell_type": "code",
   "execution_count": 4,
   "id": "54ada298-c202-442b-a608-fb5ee5b35731",
   "metadata": {},
   "outputs": [],
   "source": [
    "pq.append(38)"
   ]
  },
  {
   "cell_type": "code",
   "execution_count": 5,
   "id": "91c7599a-10ff-47c3-8fd9-c28fae20015b",
   "metadata": {},
   "outputs": [],
   "source": [
    "pq.append(14)"
   ]
  },
  {
   "cell_type": "code",
   "execution_count": 6,
   "id": "e7767820-e58e-4255-a2ce-5d927beabc2d",
   "metadata": {},
   "outputs": [],
   "source": [
    "# now we want to make the priority lowest to highest"
   ]
  },
  {
   "cell_type": "code",
   "execution_count": 7,
   "id": "15cd05eb-2ad5-439c-96e6-eaa0dcd95aa7",
   "metadata": {},
   "outputs": [
    {
     "data": {
      "text/plain": [
       "[10, 40, 38, 14]"
      ]
     },
     "execution_count": 7,
     "metadata": {},
     "output_type": "execute_result"
    }
   ],
   "source": [
    "pq"
   ]
  },
  {
   "cell_type": "code",
   "execution_count": 8,
   "id": "0514b32c-80f6-4ebf-9de3-ed1053e39e7f",
   "metadata": {},
   "outputs": [],
   "source": [
    "# sorting the p.queue\n",
    "pq.sort()"
   ]
  },
  {
   "cell_type": "code",
   "execution_count": 9,
   "id": "87fd810d-d5ad-4deb-af9c-be8bd7e65757",
   "metadata": {},
   "outputs": [
    {
     "data": {
      "text/plain": [
       "[10, 14, 38, 40]"
      ]
     },
     "execution_count": 9,
     "metadata": {},
     "output_type": "execute_result"
    }
   ],
   "source": [
    "pq"
   ]
  },
  {
   "cell_type": "code",
   "execution_count": 10,
   "id": "15cd7c93-eb49-465a-8c60-de14f4889cf1",
   "metadata": {},
   "outputs": [],
   "source": [
    "#now we would like to remove from the lowest- priority lowest"
   ]
  },
  {
   "cell_type": "code",
   "execution_count": 11,
   "id": "d5cde139-f71f-412f-8954-eab020bf38ba",
   "metadata": {},
   "outputs": [
    {
     "data": {
      "text/plain": [
       "10"
      ]
     },
     "execution_count": 11,
     "metadata": {},
     "output_type": "execute_result"
    }
   ],
   "source": [
    "pq.pop(0) #to dequeue element from the queue"
   ]
  },
  {
   "cell_type": "code",
   "execution_count": 12,
   "id": "dd5ac72a-1ca7-4490-9110-24a88ac1d408",
   "metadata": {},
   "outputs": [
    {
     "data": {
      "text/plain": [
       "14"
      ]
     },
     "execution_count": 12,
     "metadata": {},
     "output_type": "execute_result"
    }
   ],
   "source": [
    "pq.pop(0)"
   ]
  },
  {
   "cell_type": "markdown",
   "id": "1387815a-857b-48e5-a272-4c68f3e62d60",
   "metadata": {},
   "source": [
    "## 2. Implement priority queue- Binary heap\n",
    "- this is the best method for priority queue"
   ]
  },
  {
   "cell_type": "code",
   "execution_count": 13,
   "id": "b0438aec-b951-4b6c-9936-71958319c8c0",
   "metadata": {},
   "outputs": [],
   "source": [
    "from queue import PriorityQueue"
   ]
  },
  {
   "cell_type": "code",
   "execution_count": 14,
   "id": "35ba844f-4082-44b4-b39b-e12c82ec8bcb",
   "metadata": {},
   "outputs": [],
   "source": [
    "pq1 = PriorityQueue()"
   ]
  },
  {
   "cell_type": "code",
   "execution_count": 15,
   "id": "8e04a158-838e-4354-985d-c302635a3efc",
   "metadata": {},
   "outputs": [],
   "source": [
    "pq1.put(10) #to enqueue element in the priority queue"
   ]
  },
  {
   "cell_type": "code",
   "execution_count": 16,
   "id": "bffa790c-c68d-4a0f-b8ff-155f70ab13c5",
   "metadata": {},
   "outputs": [],
   "source": [
    "pq1.put(5)"
   ]
  },
  {
   "cell_type": "code",
   "execution_count": 17,
   "id": "5314e439-ccec-4257-871a-5d416efc831b",
   "metadata": {},
   "outputs": [],
   "source": [
    "pq1.put(30)"
   ]
  },
  {
   "cell_type": "code",
   "execution_count": 18,
   "id": "e3e5b1cc-ff83-484b-b3ec-38c9e0faa6c5",
   "metadata": {},
   "outputs": [],
   "source": [
    "pq1.put(12)"
   ]
  },
  {
   "cell_type": "code",
   "execution_count": 19,
   "id": "0e1419ff-6750-42aa-aa23-665d6128d079",
   "metadata": {},
   "outputs": [
    {
     "data": {
      "text/plain": [
       "5"
      ]
     },
     "execution_count": 19,
     "metadata": {},
     "output_type": "execute_result"
    }
   ],
   "source": [
    "pq1.get() #to dequeue element from the queue, it will remove by its priority the lowest value is the highest priority "
   ]
  },
  {
   "cell_type": "code",
   "execution_count": 20,
   "id": "143a8dec-1718-48c4-8407-46f538b1fbf4",
   "metadata": {},
   "outputs": [
    {
     "data": {
      "text/plain": [
       "10"
      ]
     },
     "execution_count": 20,
     "metadata": {},
     "output_type": "execute_result"
    }
   ],
   "source": [
    "pq1.get()"
   ]
  },
  {
   "cell_type": "code",
   "execution_count": 21,
   "id": "b04b4e95-d397-489c-8218-7e55274870d0",
   "metadata": {},
   "outputs": [
    {
     "data": {
      "text/plain": [
       "12"
      ]
     },
     "execution_count": 21,
     "metadata": {},
     "output_type": "execute_result"
    }
   ],
   "source": [
    "pq1.get()"
   ]
  },
  {
   "cell_type": "markdown",
   "id": "d80a7871-1cf5-4776-b36d-ac630b471f73",
   "metadata": {},
   "source": [
    "## 3.  Implement Priority Queue by using list and tuple for the priority"
   ]
  },
  {
   "cell_type": "code",
   "execution_count": 22,
   "id": "d95f9268-e93c-4eb3-b6f3-2d46a2af5684",
   "metadata": {},
   "outputs": [],
   "source": [
    "pq2 = [] #to create an empty priority queue"
   ]
  },
  {
   "cell_type": "code",
   "execution_count": 23,
   "id": "37a12d1a-b369-4703-925f-0b39beb018f6",
   "metadata": {},
   "outputs": [],
   "source": [
    "pq2.append((1,\"sium\")) #to enqueue an element in the priority queue"
   ]
  },
  {
   "cell_type": "code",
   "execution_count": 24,
   "id": "bbfb23d7-cd16-4121-bb69-7ad9300841e2",
   "metadata": {},
   "outputs": [],
   "source": [
    "pq2.append((4,\"sio\"))\n"
   ]
  },
  {
   "cell_type": "code",
   "execution_count": 25,
   "id": "9b36928d-ca06-4140-a78b-160ffc7bd7e0",
   "metadata": {},
   "outputs": [],
   "source": [
    "pq2.append((3,\"rhs2\"))"
   ]
  },
  {
   "cell_type": "code",
   "execution_count": 26,
   "id": "85569a89-3398-4aeb-8290-52a76f37ac17",
   "metadata": {},
   "outputs": [
    {
     "data": {
      "text/plain": [
       "[(1, 'sium'), (4, 'sio'), (3, 'rhs2')]"
      ]
     },
     "execution_count": 26,
     "metadata": {},
     "output_type": "execute_result"
    }
   ],
   "source": [
    "pq2"
   ]
  },
  {
   "cell_type": "code",
   "execution_count": 27,
   "id": "7de51823-46ae-4802-92c8-51cb39859410",
   "metadata": {},
   "outputs": [],
   "source": [
    "pq2.sort() #sorting the element by its priority"
   ]
  },
  {
   "cell_type": "code",
   "execution_count": 28,
   "id": "6c8ab3ae-87d8-478e-a2c4-f3f637332237",
   "metadata": {},
   "outputs": [
    {
     "data": {
      "text/plain": [
       "[(1, 'sium'), (3, 'rhs2'), (4, 'sio')]"
      ]
     },
     "execution_count": 28,
     "metadata": {},
     "output_type": "execute_result"
    }
   ],
   "source": [
    "pq2"
   ]
  },
  {
   "cell_type": "code",
   "execution_count": 31,
   "id": "fe863cf3-f9de-4055-9b48-869eb06c559d",
   "metadata": {},
   "outputs": [
    {
     "data": {
      "text/plain": [
       "(4, 'sio')"
      ]
     },
     "execution_count": 31,
     "metadata": {},
     "output_type": "execute_result"
    }
   ],
   "source": [
    "pq2.pop(0) #to dequeue the element from the queue"
   ]
  },
  {
   "cell_type": "code",
   "execution_count": 30,
   "id": "7d3e3bde-6757-4888-a4f0-a22deb5a3f7c",
   "metadata": {},
   "outputs": [
    {
     "data": {
      "text/plain": [
       "(3, 'rhs2')"
      ]
     },
     "execution_count": 30,
     "metadata": {},
     "output_type": "execute_result"
    }
   ],
   "source": [
    "pq2.pop(0)"
   ]
  },
  {
   "cell_type": "code",
   "execution_count": null,
   "id": "8ea8f5d0-5262-4756-8e00-6229a96ce242",
   "metadata": {},
   "outputs": [],
   "source": []
  }
 ],
 "metadata": {
  "kernelspec": {
   "display_name": "Python 3 (ipykernel)",
   "language": "python",
   "name": "python3"
  },
  "language_info": {
   "codemirror_mode": {
    "name": "ipython",
    "version": 3
   },
   "file_extension": ".py",
   "mimetype": "text/x-python",
   "name": "python",
   "nbconvert_exporter": "python",
   "pygments_lexer": "ipython3",
   "version": "3.9.10"
  }
 },
 "nbformat": 4,
 "nbformat_minor": 5
}
